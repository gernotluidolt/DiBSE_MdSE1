{
 "cells": [
  {
   "cell_type": "markdown",
   "metadata": {
    "deletable": false,
    "editable": false,
    "nbgrader": {
     "cell_type": "markdown",
     "checksum": "b9ce270d6d3b308a0a4803f8cc03638f",
     "grade": false,
     "grade_id": "cell-14bc8bc2e3f3b50b",
     "locked": true,
     "schema_version": 3,
     "solution": false
    },
    "run_control": {
     "frozen": true
    }
   },
   "source": [
    "---\n",
    "Stellen Sie bitte sicher, dass alles wie vorhergesehen läuft, bevor Sie dieses Übungsblatt abgeben. **Starten Sie den Kernel neu** (in der Menüleiste die Option Kernel$\\rightarrow$Restart auswählen) und **validieren** Sie anschließend das Übungsblatt (in der Menüleiste auf Validate klicken) um Rückmeldung zu eventuellen fehlenden oder fehlerhaften Eingaben zu erhalten. \n",
    "\n",
    "Füllen Sie alle Stellen im Übungsblatt aus, welche entweder `DEIN CODE HIER` oder \"DEINE ANTWORT HIER\" enthalten. Geben Sie unterhalb Ihren vollständigen Namen an.\n",
    "\n",
    "Wenn Sie Code-Bestandteile aus anderen Quellen (wie z.B. Stackoverflow) kopieren, dann machen sie den kopierten Code in ihrer Quellcodedatei kenntlich und fügen eine Referenz auf die Quelle als Kommentar hinzu.\n",
    "\n",
    "Wenn Sie die Aufgaben in einer Gruppe erledigen, dann fügen Sie die Namen aller Gruppenmitglieder in der nachfolgende Zelle zu `Name` und zusätzlich als Kommentar am Anfang Ihrer Quellcodedatei hinzu."
   ]
  },
  {
   "cell_type": "markdown",
   "metadata": {
    "deletable": false,
    "editable": false,
    "nbgrader": {
     "cell_type": "markdown",
     "checksum": "008460e9429099ecfb93dcd32bf095e8",
     "grade": false,
     "grade_id": "cell-8ae8fd1bec813ca4",
     "locked": true,
     "schema_version": 3,
     "solution": false
    },
    "run_control": {
     "frozen": true
    }
   },
   "source": [
    "---"
   ]
  },
  {
   "cell_type": "code",
   "execution_count": null,
   "metadata": {},
   "outputs": [],
   "source": [
    "NAME = \"Gernot Luidolt\""
   ]
  },
  {
   "cell_type": "markdown",
   "metadata": {
    "deletable": false,
    "editable": false,
    "nbgrader": {
     "cell_type": "markdown",
     "checksum": "c192b9832dd6a90237eec99f9da76301",
     "grade": false,
     "grade_id": "cell-4f279d8aadb7cf1a",
     "locked": true,
     "schema_version": 3,
     "solution": false
    },
    "run_control": {
     "frozen": true
    }
   },
   "source": [
    "---"
   ]
  },
  {
   "cell_type": "markdown",
   "metadata": {
    "deletable": false,
    "editable": false,
    "nbgrader": {
     "cell_type": "markdown",
     "checksum": "149afeef303fe41668387bd7a96300b8",
     "grade": false,
     "grade_id": "cell-de94bb63ffa8cd49",
     "locked": true,
     "schema_version": 3,
     "solution": false
    },
    "run_control": {
     "frozen": true
    }
   },
   "source": [
    "<table style=\"width: 100%\">\n",
    "    <tr style=\"background: #ffffff\">\n",
    "        <td style=\"padding-top:25px;width: 180px\"><img src=\"https://mci.edu/templates/mci/images/logo.svg\" alt=\"Logo\"></td>\n",
    "        <td style=\"width: 100%\">\n",
    "            <div style=\"text-align:right; width: 100%; text-align:right\"><font style=\"font-size:38px\"><b>Methoden der Softwareentwicklung I</b></font></div>\n",
    "            <div style=\"padding-top:0px; width: 100%; text-align:right\"><font size=\"4\"><b>WS 2023/24</b></font></div>\n",
    "        </td>\n",
    "    </tr>\n",
    "</table>"
   ]
  },
  {
   "cell_type": "markdown",
   "metadata": {
    "deletable": false,
    "editable": false,
    "nbgrader": {
     "cell_type": "markdown",
     "checksum": "d852ff292aab841d0657d98cb72301ee",
     "grade": false,
     "grade_id": "cell-8ddccc95404533b3",
     "locked": true,
     "schema_version": 3,
     "solution": false
    },
    "run_control": {
     "frozen": true
    }
   },
   "source": [
    "---\n",
    "# Übungsblatt 1"
   ]
  },
  {
   "cell_type": "code",
   "execution_count": null,
   "metadata": {
    "deletable": false,
    "editable": false,
    "hide_input": true,
    "nbgrader": {
     "cell_type": "code",
     "checksum": "35df74478a519302700c14683b2fd529",
     "grade": true,
     "grade_id": "cell-fcca7f6e548a7e27",
     "locked": true,
     "points": 0,
     "schema_version": 3,
     "solution": false,
     "task": false
    },
    "run_control": {
     "frozen": true
    }
   },
   "outputs": [],
   "source": [
    "import jagl\n",
    "import os"
   ]
  },
  {
   "cell_type": "markdown",
   "metadata": {
    "deletable": false,
    "editable": false,
    "nbgrader": {
     "cell_type": "markdown",
     "checksum": "347a22e726027bcaea36c37670f56671",
     "grade": false,
     "grade_id": "cell-c9ca9275e3a84aa1",
     "locked": true,
     "schema_version": 3,
     "solution": false
    },
    "run_control": {
     "frozen": true
    }
   },
   "source": [
    "---\n",
    "Abgabe bis <b>Sonntag, 3. Dezember 2023, 23:55 Uhr</b>"
   ]
  },
  {
   "cell_type": "markdown",
   "metadata": {
    "deletable": false,
    "editable": false,
    "nbgrader": {
     "cell_type": "markdown",
     "checksum": "a022578b1e9e0913856365b2af6f0214",
     "grade": false,
     "grade_id": "cell-ae237b292d3913e2",
     "locked": true,
     "schema_version": 3,
     "solution": false
    },
    "run_control": {
     "frozen": true
    }
   },
   "source": [
    "---\n",
    "### Achtung:\n",
    "\n",
    "*Bitte speichern Sie Ihre Quellcode-Dateien (&ast;.c) im selben Ordner wie dieses Übungsblatt. Beachten Sie außerdem die Kommentare zur richtigen Benennung Ihrer Dateien. Nur so ist eine korrekte Abgabe und Auswertung Ihrer Lösungen möglich.*"
   ]
  },
  {
   "cell_type": "markdown",
   "metadata": {
    "deletable": false,
    "editable": false,
    "nbgrader": {
     "cell_type": "markdown",
     "checksum": "1890201a1c422f8af30e68f34870d643",
     "grade": false,
     "grade_id": "cell-1c2cc62dc24deac4",
     "locked": true,
     "schema_version": 3,
     "solution": false
    },
    "run_control": {
     "frozen": true
    }
   },
   "source": [
    "---\n",
    "\n",
    "## 1.1 Summenberechnung (25%)\n",
    "\n",
    "Implementieren Sie eine Funktion, welche bei der Zahl 2 startet und jede achte Zahl, die noch kleiner als 1000 ist, zu der bisherigen Summe (d.h. 2 + 10 + 18 + 26 + ...) hinzuaddiert. Am Ende soll ihr Programm die Summe dieser Berechnung ausgeben.\n",
    "\n",
    "Speichern Sie Ihre Lösung in der Datei `sum_loop.c` ab und laden Sie diese auf JupyterHub in denselben Ordner wie den Übungszettel hoch."
   ]
  },
  {
   "cell_type": "code",
   "execution_count": null,
   "metadata": {
    "deletable": false,
    "editable": false,
    "hide_input": true,
    "nbgrader": {
     "cell_type": "code",
     "checksum": "88f825f0b9cad105b2da0d31b4fa3737",
     "grade": true,
     "grade_id": "cell-0ab928acb1d00193",
     "locked": true,
     "points": 0,
     "schema_version": 3,
     "solution": false,
     "task": false
    },
    "run_control": {
     "frozen": true
    }
   },
   "outputs": [],
   "source": [
    "# new test suite\n",
    "jagl.testsuite_begin(\"Exercise 1\")\n",
    "\n",
    "# delete all build artifacts\n",
    "jagl.remove_paths(files=[\"sum_loop\", \"*.o\"])"
   ]
  },
  {
   "cell_type": "code",
   "execution_count": 4,
   "metadata": {
    "nbgrader": {
     "cell_type": "code",
     "checksum": "f589a6eb0d097fce68bc6cad4ec2a85d",
     "grade": false,
     "grade_id": "cell-ff434982fe1f3ada",
     "locked": false,
     "schema_version": 3,
     "solution": true
    }
   },
   "outputs": [],
   "source": [
    "%%bash\n",
    "\n",
    "# Schreiben Sie in diese Zelle den Befehl der dafür nötig ist um Ihr Programm zu kompilieren.\n",
    "# Beachten Sie dabei, dass der Name Ihres ausführbaren Programms \"sum_loop\" sein sollte.\n",
    "# z.B. gcc -Wall -Werror -o sum_loop mein_quellcode.c\n",
    "\n",
    "gcc -Wall -Werror -o sum_loop sum_loop.c"
   ]
  },
  {
   "cell_type": "code",
   "execution_count": 5,
   "metadata": {
    "nbgrader": {
     "cell_type": "code",
     "checksum": "671db72864fbd828e22284540ebc43ed",
     "grade": false,
     "grade_id": "cell-4883c7bb2333782a",
     "locked": false,
     "schema_version": 3,
     "solution": true,
     "task": false
    }
   },
   "outputs": [],
   "source": [
    "# Weisen Sie der untenstehenden Variable den Wert True zu, sobald Sie die Aufgabe erfolgreich erledigt haben!\n",
    "\n",
    "# Datentyp: bool\n",
    "exercise_1_1_solved = True"
   ]
  },
  {
   "cell_type": "code",
   "execution_count": 6,
   "metadata": {},
   "outputs": [
    {
     "name": "stdout",
     "output_type": "stream",
     "text": [
      "62250\n"
     ]
    }
   ],
   "source": [
    "%%bash\n",
    "\n",
    "# Benutzen Sie diese Zelle um Ihr Ergebnis zu testen.\n",
    "# Damit diese Zelle ausgeführt werden kann, müssen Sie zuerst Ihr Programm erfolgreich kompilieren.\n",
    "\n",
    "./sum_loop"
   ]
  },
  {
   "cell_type": "code",
   "execution_count": null,
   "metadata": {
    "deletable": false,
    "editable": false,
    "hide_input": true,
    "nbgrader": {
     "cell_type": "code",
     "checksum": "ed6329d0a79c08d5b7ef1795a61e924e",
     "grade": true,
     "grade_id": "cell-344097cb111a3cf0",
     "locked": true,
     "points": 0,
     "schema_version": 3,
     "solution": false,
     "task": false
    },
    "run_control": {
     "frozen": true
    }
   },
   "outputs": [],
   "source": [
    "executable_name = \"sum_loop\"\n",
    "source_files = [\"sum_loop.c\"]\n",
    "cpp_flags = []"
   ]
  },
  {
   "cell_type": "code",
   "execution_count": null,
   "metadata": {
    "deletable": false,
    "editable": false,
    "hide_input": true,
    "nbgrader": {
     "cell_type": "code",
     "checksum": "53e4e3e9910e0f8da403e2eaa564ff89",
     "grade": true,
     "grade_id": "cell-2b32ece1740087a2",
     "locked": true,
     "points": 11,
     "schema_version": 3,
     "solution": false,
     "task": false
    },
    "run_control": {
     "frozen": true
    }
   },
   "outputs": [],
   "source": [
    "@jagl.testcase(\"1\", desc=\"Exercise Solved\")\n",
    "def testcase_1_1(result, suite, case):\n",
    "    varname = \"exercise_1_1_solved\"\n",
    "    result.setSucceeded()\n",
    "    jagl.check_variable_exists_and_has_type(result, globals(), varname, bool)\n",
    "    if result.isSucceeded():\n",
    "        result.setSucceeded(\"Exercise solved.\")\n",
    "    else:\n",
    "        result.setFailed(\"Exercise not solved.\")"
   ]
  },
  {
   "cell_type": "code",
   "execution_count": null,
   "metadata": {
    "deletable": false,
    "editable": false,
    "hide_input": true,
    "nbgrader": {
     "cell_type": "code",
     "checksum": "aeda523e7af672d15a7d6829ee171f1d",
     "grade": true,
     "grade_id": "cell-c7e0ad136d46fd26",
     "locked": true,
     "points": 7,
     "schema_version": 3,
     "solution": false,
     "task": false
    },
    "run_control": {
     "frozen": true
    }
   },
   "outputs": [],
   "source": [
    "@jagl.testcase(\"2\", desc=\"Compiling program\", deps=[\"1\"])\n",
    "def testcase_1_2(result, suite, case):\n",
    "    if os.path.isfile(executable_name):\n",
    "        result.setSucceeded(\"The program could be compiled successfully.\")\n",
    "        \n",
    "    else:\n",
    "        res = jagl.exec_bin(\"gcc\", [\"-o\", executable_name] + source_files + cpp_flags)\n",
    "        if res.state == jagl.ExecutionResult.SUCCESS:\n",
    "            stdout = jagl.bytes_decode(res.stdout).strip()\n",
    "            stderr = jagl.bytes_decode(res.stderr).strip()\n",
    "            if res.exitCode == 0:\n",
    "                if os.path.isfile(executable_name):\n",
    "                    result.setSucceeded(\"The program could be compiled successfully.\")\n",
    "                else:\n",
    "                    result.setFailed(\"gcc was executed successfully, but I couldn't find an executable.\")\n",
    "                if len(stderr) > 0:\n",
    "                    result.setSucceeded([\"However, there were warnings.\"] + stderr.split(\"\\n\"))\n",
    "            else:\n",
    "                result.setFailed([\"The program could not be compiled:\"] + stderr.split(\"\\n\"))\n",
    "        elif res.state == jagl.ExecutionResult.NOTFOUND:\n",
    "            result.setFailed(\"gcc could not be found. Please inform your course instructor.\")\n",
    "        elif res.state == jagl.ExecutionResult.TIMEOUT:\n",
    "            result.setFailed(\"Timeout while calling gcc. Please inform your course instructor.\")\n",
    "        elif res.state == jagl.ExecutionResult.ERROR:\n",
    "            result.setFailed(f'Unknown error during execution of gcc: {str(res.error)}. Please inform your course instructor.')"
   ]
  },
  {
   "cell_type": "code",
   "execution_count": null,
   "metadata": {
    "deletable": false,
    "editable": false,
    "hide_input": true,
    "nbgrader": {
     "cell_type": "code",
     "checksum": "66e07fdb928def49dde90e9776264bca",
     "grade": true,
     "grade_id": "cell-b50e09123cf4693f",
     "locked": true,
     "points": 7,
     "schema_version": 3,
     "solution": false,
     "task": false
    },
    "run_control": {
     "frozen": true
    }
   },
   "outputs": [],
   "source": [
    "@jagl.testcase(\"3\", desc=\"Executing program\", deps=[\"2\"])\n",
    "def testcase_1_3(result, suite, case):\n",
    "    execresult = jagl.exec_bin(\"./\" + executable_name, [], None, timeout = 30)\n",
    "    jagl.check_execution_result(result, execresult, checkExitCode = False)\n",
    "    if execresult.exitCode is not None:\n",
    "        if execresult.exitCode == -11:\n",
    "            result.setFailed(\"Program caused a segmentation fault.\")\n",
    "        elif execresult.exitCode < 0:\n",
    "            result.setFailed(f\"Program was abnormally terminated (Signal: {-execresult.exitCode})\")\n",
    "        elif execresult.exitCode > 0:\n",
    "            result.setFailed(f\"Program returned an exit code other than 0 (Exit Code: {execresult.exitCode})\")"
   ]
  },
  {
   "cell_type": "code",
   "execution_count": null,
   "metadata": {
    "deletable": false,
    "editable": false,
    "hide_input": true,
    "nbgrader": {
     "cell_type": "code",
     "checksum": "3d2a3c0b5bf12b290ce669fba27f601a",
     "grade": true,
     "grade_id": "cell-db5b5bdcc289d557",
     "locked": true,
     "points": 0,
     "schema_version": 3,
     "solution": false,
     "task": false
    },
    "run_control": {
     "frozen": true
    }
   },
   "outputs": [],
   "source": []
  },
  {
   "cell_type": "code",
   "execution_count": null,
   "metadata": {
    "deletable": false,
    "editable": false,
    "hide_input": true,
    "nbgrader": {
     "cell_type": "code",
     "checksum": "ea09fe9593306ab3a52e9ac0b94576fd",
     "grade": true,
     "grade_id": "cell-e21686cebd352ff8",
     "locked": true,
     "points": 0,
     "schema_version": 3,
     "solution": false
    },
    "run_control": {
     "frozen": true
    }
   },
   "outputs": [],
   "source": []
  },
  {
   "cell_type": "code",
   "execution_count": null,
   "metadata": {
    "deletable": false,
    "editable": false,
    "hide_input": true,
    "nbgrader": {
     "cell_type": "code",
     "checksum": "6b0eccc93937640714aa6a7a8f1e33b3",
     "grade": true,
     "grade_id": "cell-726b7cf9868b64fc",
     "locked": true,
     "points": 0,
     "schema_version": 3,
     "solution": false
    },
    "run_control": {
     "frozen": true
    }
   },
   "outputs": [],
   "source": []
  },
  {
   "cell_type": "markdown",
   "metadata": {
    "deletable": false,
    "editable": false,
    "hide_input": false,
    "nbgrader": {
     "cell_type": "markdown",
     "checksum": "8372ef1cfa2886a9d87867364b204897",
     "grade": false,
     "grade_id": "cell-d05fed9f33ee5ade",
     "locked": true,
     "schema_version": 3,
     "solution": false
    },
    "run_control": {
     "frozen": true
    }
   },
   "source": [
    "---\n",
    "\n",
    "## 1.2  Bestimmung von ungeraden Zahlen (25%)\n",
    "\n",
    "Implementieren Sie ein Programm, welche für jede beliebige Integer-Zahl bestimmen kann, ob diese ungerade ist. Die zu untersuchende Zahl soll mittels Kommandozeilenparameter an das Programm übergeben werden. Falls eine Zahl ungerade ist, soll die Zeichenkette \"true\" ausgegeben werden. Falls es sich um eine gerade Zahl handelt, dann die Zeichenkette \"false\".\n",
    "\n",
    "Speichern Sie Ihre Lösung in der Datei `is_odd.c` ab und laden Sie diese auf JupyterHub in denselben Ordner wie den Übungszettel hoch."
   ]
  },
  {
   "cell_type": "code",
   "execution_count": null,
   "metadata": {
    "deletable": false,
    "editable": false,
    "hide_input": true,
    "nbgrader": {
     "cell_type": "code",
     "checksum": "e61502f3f3357e514536a0d0dbba4b59",
     "grade": true,
     "grade_id": "cell-98376a271c030340",
     "locked": true,
     "points": 0,
     "schema_version": 3,
     "solution": false,
     "task": false
    },
    "run_control": {
     "frozen": true
    }
   },
   "outputs": [],
   "source": [
    "# new test suite\n",
    "jagl.testsuite_begin(\"Exercise 2\")\n",
    "\n",
    "# delete all build artifacts\n",
    "jagl.remove_paths(files=[\"is_odd\", \"*.o\"])"
   ]
  },
  {
   "cell_type": "code",
   "execution_count": 2,
   "metadata": {
    "nbgrader": {
     "cell_type": "code",
     "checksum": "50219eff3240ccf9e42a6ec896b85789",
     "grade": false,
     "grade_id": "cell-c01b7005ebc66f63",
     "locked": false,
     "schema_version": 3,
     "solution": true
    }
   },
   "outputs": [],
   "source": [
    "%%bash\n",
    "\n",
    "# Schreiben Sie in diese Zelle den Befehl der dafür nötig ist um Ihr Programm zu kompilieren.\n",
    "# Beachten Sie dabei, dass der Name Ihres ausführbaren Programms \"is_odd\" sein sollte.\n",
    "# z.B. gcc -Wall -Werror -o is_odd mein_quellcode.c\n",
    "\n",
    "gcc -Wall -Werror -o is_odd is_odd.c"
   ]
  },
  {
   "cell_type": "code",
   "execution_count": 3,
   "metadata": {
    "nbgrader": {
     "cell_type": "code",
     "checksum": "35fddceee0475d9d752d6926d760f276",
     "grade": false,
     "grade_id": "cell-74b54ae41dd9ad47",
     "locked": false,
     "schema_version": 3,
     "solution": true,
     "task": false
    }
   },
   "outputs": [],
   "source": [
    "# Weisen Sie der untenstehenden Variable den Wert True zu, sobald Sie die Aufgabe erfolgreich erledigt haben!\n",
    "\n",
    "# Datentyp: bool\n",
    "exercise_1_2_solved = True"
   ]
  },
  {
   "cell_type": "code",
   "execution_count": 4,
   "metadata": {},
   "outputs": [
    {
     "name": "stdout",
     "output_type": "stream",
     "text": [
      "true\n"
     ]
    }
   ],
   "source": [
    "%%bash\n",
    "\n",
    "# Benutzen Sie diese Zelle um Ihr Ergebnis zu testen.\n",
    "# Damit diese Zelle ausgeführt werden kann, müssen Sie zuerst Ihr Programm erfolgreich kompilieren.\n",
    "\n",
    "./is_odd 13"
   ]
  },
  {
   "cell_type": "code",
   "execution_count": 5,
   "metadata": {},
   "outputs": [
    {
     "name": "stdout",
     "output_type": "stream",
     "text": [
      "false\n"
     ]
    }
   ],
   "source": [
    "%%bash\n",
    "\n",
    "# Benutzen Sie diese Zelle um Ihr Ergebnis zu testen.\n",
    "# Damit diese Zelle ausgeführt werden kann, müssen Sie zuerst Ihr Programm erfolgreich kompilieren.\n",
    "\n",
    "./is_odd 42"
   ]
  },
  {
   "cell_type": "code",
   "execution_count": null,
   "metadata": {
    "deletable": false,
    "editable": false,
    "hide_input": true,
    "nbgrader": {
     "cell_type": "code",
     "checksum": "cc418392ba3530eda7810854351ccf68",
     "grade": true,
     "grade_id": "cell-87768259e85e40ae",
     "locked": true,
     "points": 0,
     "schema_version": 3,
     "solution": false,
     "task": false
    },
    "run_control": {
     "frozen": true
    }
   },
   "outputs": [],
   "source": [
    "executable_name = \"is_odd\"\n",
    "source_files = [\"is_odd.c\"]\n",
    "cpp_flags = []"
   ]
  },
  {
   "cell_type": "code",
   "execution_count": null,
   "metadata": {
    "deletable": false,
    "editable": false,
    "hide_input": true,
    "nbgrader": {
     "cell_type": "code",
     "checksum": "f9f41bb47cd556f7a634b2aef02d2693",
     "grade": true,
     "grade_id": "cell-5d99a3e861d30d66",
     "locked": true,
     "points": 11,
     "schema_version": 3,
     "solution": false,
     "task": false
    },
    "run_control": {
     "frozen": true
    }
   },
   "outputs": [],
   "source": [
    "@jagl.testcase(\"1\", desc=\"Exercise Solved\")\n",
    "def testcase_2_1(result, suite, case):\n",
    "    varname = \"exercise_1_2_solved\"\n",
    "    result.setSucceeded()\n",
    "    jagl.check_variable_exists_and_has_type(result, globals(), varname, bool)\n",
    "    if result.isSucceeded():\n",
    "        result.setSucceeded(\"Exercise solved.\")\n",
    "    else:\n",
    "        result.setFailed(\"Exercise not solved.\")"
   ]
  },
  {
   "cell_type": "code",
   "execution_count": null,
   "metadata": {
    "deletable": false,
    "editable": false,
    "hide_input": true,
    "nbgrader": {
     "cell_type": "code",
     "checksum": "e31a5ca8d4eb9c1e2fc9619391a851fe",
     "grade": true,
     "grade_id": "cell-f62a5f7fa11fc2aa",
     "locked": true,
     "points": 7,
     "schema_version": 3,
     "solution": false,
     "task": false
    },
    "run_control": {
     "frozen": true
    }
   },
   "outputs": [],
   "source": [
    "@jagl.testcase(\"2\", desc=\"Compiling program\", deps=[\"1\"])\n",
    "def testcase_2_2(result, suite, case):\n",
    "    if os.path.isfile(executable_name):\n",
    "        result.setSucceeded(\"The program could be compiled successfully.\")\n",
    "        \n",
    "    else:\n",
    "        res = jagl.exec_bin(\"gcc\", [\"-o\", executable_name] + source_files + cpp_flags)\n",
    "        if res.state == jagl.ExecutionResult.SUCCESS:\n",
    "            stdout = jagl.bytes_decode(res.stdout).strip()\n",
    "            stderr = jagl.bytes_decode(res.stderr).strip()\n",
    "            if res.exitCode == 0:\n",
    "                if os.path.isfile(executable_name):\n",
    "                    result.setSucceeded(\"The program could be compiled successfully.\")\n",
    "                else:\n",
    "                    result.setFailed(\"gcc was executed successfully, but I couldn't find an executable.\")\n",
    "                if len(stderr) > 0:\n",
    "                    result.setSucceeded([\"However, there were warnings.\"] + stderr.split(\"\\n\"))\n",
    "            else:\n",
    "                result.setFailed([\"The program could not be compiled:\"] + stderr.split(\"\\n\"))\n",
    "        elif res.state == jagl.ExecutionResult.NOTFOUND:\n",
    "            result.setFailed(\"gcc could not be found. Please inform your course instructor.\")\n",
    "        elif res.state == jagl.ExecutionResult.TIMEOUT:\n",
    "            result.setFailed(\"Timeout while calling gcc. Please inform your course instructor.\")\n",
    "        elif res.state == jagl.ExecutionResult.ERROR:\n",
    "            result.setFailed(f'Unknown error during execution of gcc: {str(res.error)}. Please inform your course instructor.')"
   ]
  },
  {
   "cell_type": "code",
   "execution_count": null,
   "metadata": {
    "deletable": false,
    "editable": false,
    "hide_input": true,
    "nbgrader": {
     "cell_type": "code",
     "checksum": "cfc31d304e335fa2df8a2b046a78e9c1",
     "grade": true,
     "grade_id": "cell-d667d86fd98a7e7e",
     "locked": true,
     "points": 7,
     "schema_version": 3,
     "solution": false,
     "task": false
    },
    "run_control": {
     "frozen": true
    }
   },
   "outputs": [],
   "source": [
    "@jagl.testcase(\"3\", desc=\"Executing program\", deps=[\"2\"])\n",
    "def testcase_2_3(result, suite, case):\n",
    "    execresult = jagl.exec_bin(\"./\" + executable_name, [], None, timeout = 30)\n",
    "    jagl.check_execution_result(result, execresult, checkExitCode = False)\n",
    "    if execresult.exitCode is not None:\n",
    "        if execresult.exitCode == -11:\n",
    "            result.setFailed(\"Program caused a segmentation fault.\")\n",
    "        elif execresult.exitCode < 0:\n",
    "            result.setFailed(f\"Program was abnormally terminated (Signal: {-execresult.exitCode})\")\n",
    "        elif execresult.exitCode > 0:\n",
    "            result.setFailed(f\"Program returned an exit code other than 0 (Exit Code: {execresult.exitCode})\")"
   ]
  },
  {
   "cell_type": "code",
   "execution_count": null,
   "metadata": {
    "deletable": false,
    "editable": false,
    "hide_input": true,
    "nbgrader": {
     "cell_type": "code",
     "checksum": "519d4bdfe3e785b89fa12d7b2a94f870",
     "grade": true,
     "grade_id": "cell-db5135d36c9f26e7",
     "locked": true,
     "points": 0,
     "schema_version": 3,
     "solution": false,
     "task": false
    },
    "run_control": {
     "frozen": true
    }
   },
   "outputs": [],
   "source": []
  },
  {
   "cell_type": "code",
   "execution_count": null,
   "metadata": {
    "deletable": false,
    "editable": false,
    "hide_input": true,
    "nbgrader": {
     "cell_type": "code",
     "checksum": "6c133387d7227f6e25dff4a4d37f23d1",
     "grade": true,
     "grade_id": "cell-972576382fa92cd0",
     "locked": true,
     "points": 0,
     "schema_version": 3,
     "solution": false
    },
    "run_control": {
     "frozen": true
    }
   },
   "outputs": [],
   "source": []
  },
  {
   "cell_type": "code",
   "execution_count": null,
   "metadata": {
    "deletable": false,
    "editable": false,
    "hide_input": true,
    "nbgrader": {
     "cell_type": "code",
     "checksum": "9d00f44f53f32588087aafc5ff88421d",
     "grade": true,
     "grade_id": "cell-dd3c73dbe79d3e14",
     "locked": true,
     "points": 0,
     "schema_version": 3,
     "solution": false
    },
    "run_control": {
     "frozen": true
    }
   },
   "outputs": [],
   "source": []
  },
  {
   "cell_type": "markdown",
   "metadata": {
    "deletable": false,
    "editable": false,
    "nbgrader": {
     "cell_type": "markdown",
     "checksum": "98cbaf6a12a45d295d5d6bc30a06dd28",
     "grade": false,
     "grade_id": "cell-ee677be1e04e4c71",
     "locked": true,
     "schema_version": 3,
     "solution": false
    }
   },
   "source": [
    "---\n",
    "\n",
    "## 1.3 Pyramide (25%)\n",
    "\n",
    "Implementieren Sie ein Programm, welches exakt folgende Ausgabe erzeugt:\n",
    "```\n",
    "  *  \n",
    " ***\n",
    "*****\n",
    "```\n",
    "\n",
    "Dabei soll mindestens eine `for`-Schleife für die Ausgabe verwendet werden.\n",
    "\n",
    "Speichern Sie Ihre Lösung in der Datei `pyramid.c` ab und laden Sie diese auf JupyterHub in denselben Ordner wie den Übungszettel hoch."
   ]
  },
  {
   "cell_type": "code",
   "execution_count": null,
   "metadata": {
    "deletable": false,
    "editable": false,
    "hide_input": true,
    "nbgrader": {
     "cell_type": "code",
     "checksum": "fdecae960e776e38d77a6280bf109b7d",
     "grade": true,
     "grade_id": "cell-75ea02723d78583c",
     "locked": true,
     "points": 0,
     "schema_version": 3,
     "solution": false,
     "task": false
    },
    "run_control": {
     "frozen": true
    }
   },
   "outputs": [],
   "source": [
    "# new test suite\n",
    "jagl.testsuite_begin(\"Exercise 3\")\n",
    "\n",
    "# delete all build artifacts\n",
    "jagl.remove_paths(files=[\"pyramid\", \"*.o\"])"
   ]
  },
  {
   "cell_type": "code",
   "execution_count": 9,
   "metadata": {
    "nbgrader": {
     "cell_type": "code",
     "checksum": "119bdc54a95b506688e1ed153f45ec5f",
     "grade": false,
     "grade_id": "cell-f914525949d3e04c",
     "locked": false,
     "schema_version": 3,
     "solution": true
    }
   },
   "outputs": [],
   "source": [
    "%%bash\n",
    "\n",
    "# Schreiben Sie in diese Zelle den Befehl der dafür nötig ist um Ihr Programm zu kompilieren.\n",
    "# Beachten Sie dabei, dass der Name ihrer Quellcode-Datei \"pyramid.c\" sein sollte.\n",
    "# Beachten Sie dabei, dass der Name Ihres ausführbaren Programms \"pyramid\" sein sollte.\n",
    "# z.B. gcc -Wall -Werror -o pyramid pyramid.c\n",
    "\n",
    "gcc -Wall -Werror -o pyramid pyramid.c"
   ]
  },
  {
   "cell_type": "code",
   "execution_count": 10,
   "metadata": {
    "nbgrader": {
     "cell_type": "code",
     "checksum": "b49b480cbfd16e7038ad839480de7659",
     "grade": false,
     "grade_id": "cell-66503614df858e71",
     "locked": false,
     "schema_version": 3,
     "solution": true,
     "task": false
    }
   },
   "outputs": [],
   "source": [
    "# Weisen Sie der untenstehenden Variable den Wert True zu, sobald Sie die Aufgabe erfolgreich erledigt haben!\n",
    "\n",
    "# Datentyp: bool\n",
    "exercise_1_3_solved = True"
   ]
  },
  {
   "cell_type": "code",
   "execution_count": 11,
   "metadata": {},
   "outputs": [
    {
     "name": "stdout",
     "output_type": "stream",
     "text": [
      "  *  \n",
      " ***\n",
      "*****\n"
     ]
    }
   ],
   "source": [
    "%%bash\n",
    "\n",
    "# Benutzen Sie diese Zelle um Ihr Ergebnis zu testen.\n",
    "# Damit diese Zelle ausgeführt werden kann, müssen Sie zuerst Ihr Programm erfolgreich kompilieren.\n",
    "\n",
    "./pyramid"
   ]
  },
  {
   "cell_type": "code",
   "execution_count": null,
   "metadata": {
    "deletable": false,
    "editable": false,
    "hide_input": true,
    "nbgrader": {
     "cell_type": "code",
     "checksum": "32391b12f2f552b3e61688a913cd6e20",
     "grade": true,
     "grade_id": "cell-cf1749d15aa60a4b",
     "locked": true,
     "points": 0,
     "schema_version": 3,
     "solution": false,
     "task": false
    },
    "run_control": {
     "frozen": true
    }
   },
   "outputs": [],
   "source": [
    "executable_name = \"pyramid\"\n",
    "source_files = [\"pyramid.c\"]\n",
    "cpp_flags = []"
   ]
  },
  {
   "cell_type": "code",
   "execution_count": null,
   "metadata": {
    "deletable": false,
    "editable": false,
    "hide_input": true,
    "nbgrader": {
     "cell_type": "code",
     "checksum": "4dcd69180f9c4ccfda4e044d9e333172",
     "grade": true,
     "grade_id": "cell-6fb53c1e690f6619",
     "locked": true,
     "points": 11,
     "schema_version": 3,
     "solution": false,
     "task": false
    },
    "run_control": {
     "frozen": true
    }
   },
   "outputs": [],
   "source": [
    "@jagl.testcase(\"1\", desc=\"Exercise Solved\")\n",
    "def testcase_3_1(result, suite, case):\n",
    "    varname = \"exercise_1_3_solved\"\n",
    "    result.setSucceeded()\n",
    "    jagl.check_variable_exists_and_has_type(result, globals(), varname, bool)\n",
    "    if result.isSucceeded():\n",
    "        result.setSucceeded(\"Exercise solved.\")\n",
    "    else:\n",
    "        result.setFailed(\"Exercise not solved.\")"
   ]
  },
  {
   "cell_type": "code",
   "execution_count": null,
   "metadata": {
    "deletable": false,
    "editable": false,
    "hide_input": true,
    "nbgrader": {
     "cell_type": "code",
     "checksum": "654cddc419b6b6983188bfbd47eced34",
     "grade": true,
     "grade_id": "cell-ce2ddede92618bd9",
     "locked": true,
     "points": 7,
     "schema_version": 3,
     "solution": false,
     "task": false
    },
    "run_control": {
     "frozen": true
    }
   },
   "outputs": [],
   "source": [
    "@jagl.testcase(\"2\", desc=\"Compiling program\", deps=[\"1\"])\n",
    "def testcase_3_2(result, suite, case):\n",
    "    if os.path.isfile(executable_name):\n",
    "        result.setSucceeded(\"The program could be compiled successfully.\")\n",
    "        \n",
    "    else:\n",
    "        res = jagl.exec_bin(\"gcc\", [\"-o\", executable_name] + source_files + cpp_flags)\n",
    "        if res.state == jagl.ExecutionResult.SUCCESS:\n",
    "            stdout = jagl.bytes_decode(res.stdout).strip()\n",
    "            stderr = jagl.bytes_decode(res.stderr).strip()\n",
    "            if res.exitCode == 0:\n",
    "                if os.path.isfile(executable_name):\n",
    "                    result.setSucceeded(\"The program could be compiled successfully.\")\n",
    "                else:\n",
    "                    result.setFailed(\"gcc was executed successfully, but I couldn't find an executable.\")\n",
    "                if len(stderr) > 0:\n",
    "                    result.setSucceeded([\"However, there were warnings.\"] + stderr.split(\"\\n\"))\n",
    "            else:\n",
    "                result.setFailed([\"The program could not be compiled:\"] + stderr.split(\"\\n\"))\n",
    "        elif res.state == jagl.ExecutionResult.NOTFOUND:\n",
    "            result.setFailed(\"gcc could not be found. Please inform your course instructor.\")\n",
    "        elif res.state == jagl.ExecutionResult.TIMEOUT:\n",
    "            result.setFailed(\"Timeout while calling gcc. Please inform your course instructor.\")\n",
    "        elif res.state == jagl.ExecutionResult.ERROR:\n",
    "            result.setFailed(f'Unknown error during execution of gcc: {str(res.error)}. Please inform your course instructor.')"
   ]
  },
  {
   "cell_type": "code",
   "execution_count": null,
   "metadata": {
    "deletable": false,
    "editable": false,
    "hide_input": true,
    "nbgrader": {
     "cell_type": "code",
     "checksum": "03e60f11bf2dbf0e5b01872e370c94e4",
     "grade": true,
     "grade_id": "cell-51582378252d93d5",
     "locked": true,
     "points": 7,
     "schema_version": 3,
     "solution": false,
     "task": false
    },
    "run_control": {
     "frozen": true
    }
   },
   "outputs": [],
   "source": [
    "@jagl.testcase(\"3\", desc=\"Executing program\", deps=[\"2\"])\n",
    "def testcase_1_3(result, suite, case):\n",
    "    execresult = jagl.exec_bin(\"./\" + executable_name, [], None, timeout = 30)\n",
    "    jagl.check_execution_result(result, execresult, checkExitCode = False)\n",
    "    if execresult.exitCode is not None:\n",
    "        if execresult.exitCode == -11:\n",
    "            result.setFailed(\"Program caused a segmentation fault.\")\n",
    "        elif execresult.exitCode < 0:\n",
    "            result.setFailed(f\"Program was abnormally terminated (Signal: {-execresult.exitCode})\")\n",
    "        elif execresult.exitCode > 0:\n",
    "            result.setFailed(f\"Program returned an exit code other than 0 (Exit Code: {execresult.exitCode})\")"
   ]
  },
  {
   "cell_type": "code",
   "execution_count": null,
   "metadata": {
    "deletable": false,
    "editable": false,
    "hide_input": true,
    "nbgrader": {
     "cell_type": "code",
     "checksum": "a1466b84a5ec0d9125031b2035439a36",
     "grade": true,
     "grade_id": "cell-409b67ee785da528",
     "locked": true,
     "points": 0,
     "schema_version": 3,
     "solution": false,
     "task": false
    },
    "run_control": {
     "frozen": true
    }
   },
   "outputs": [],
   "source": []
  },
  {
   "cell_type": "code",
   "execution_count": null,
   "metadata": {
    "deletable": false,
    "editable": false,
    "hide_input": true,
    "nbgrader": {
     "cell_type": "code",
     "checksum": "9da6ed0237f22481e720ca86a9e7474c",
     "grade": true,
     "grade_id": "cell-274b0d4f7c5245f8",
     "locked": true,
     "points": 0,
     "schema_version": 3,
     "solution": false
    },
    "run_control": {
     "frozen": true
    }
   },
   "outputs": [],
   "source": []
  },
  {
   "cell_type": "code",
   "execution_count": null,
   "metadata": {
    "deletable": false,
    "editable": false,
    "hide_input": true,
    "nbgrader": {
     "cell_type": "code",
     "checksum": "2dea7a49bfa4f789989f1a2d7f2d6552",
     "grade": true,
     "grade_id": "cell-0459690231f7e254",
     "locked": true,
     "points": 0,
     "schema_version": 3,
     "solution": false
    },
    "run_control": {
     "frozen": true
    }
   },
   "outputs": [],
   "source": []
  },
  {
   "cell_type": "markdown",
   "metadata": {
    "deletable": false,
    "editable": false,
    "nbgrader": {
     "cell_type": "markdown",
     "checksum": "c01168e1415fa17e72ec7a07080f5e7f",
     "grade": false,
     "grade_id": "cell-4289c602c149d900",
     "locked": true,
     "schema_version": 3,
     "solution": false
    },
    "run_control": {
     "frozen": true
    }
   },
   "source": [
    "---\n",
    "\n",
    "## 1.4 Zweierpotenzen (25%)\n",
    "\n",
    "Implementieren Sie ein Programm, welches für einen beliebigen positiven Integer ermitteln kann, ob dieser eine Zweierpotenz (<MATH><var>2<sup>0</sup></var></MATH>, <MATH><var>2<sup>1</sup></var></MATH>, <MATH><var>2<sup>2</sup></var></MATH>, <MATH><var>2<sup>3</sup></var></MATH>,...) ist. Der zu untersuchende Integer soll dabei als Kommandozeilenparameter an das Programm übergeben werden. Falls es sich bei dem Integer um eine Zweierpotenz handelt, dann soll der entsprechende Exponent ausgegeben werden (z.B. für 32 soll 5 ausgegeben werden, weil <MATH><var>2<sup>5</sup></var>= <var>32</var></MATH>). Handelt es sich um keine Zweierpotenz, dann soll keinerlei Ausgabe erfolgen.\n",
    "\n",
    "Speichern Sie Ihre Lösung in der Datei `powerof2.c` ab und laden Sie diese auf JupyterHub in denselben Ordner wie den Übungszettel hoch."
   ]
  },
  {
   "cell_type": "code",
   "execution_count": null,
   "metadata": {
    "deletable": false,
    "editable": false,
    "hide_input": true,
    "nbgrader": {
     "cell_type": "code",
     "checksum": "110359acacab98acea85f3cdb874fcbb",
     "grade": true,
     "grade_id": "cell-b9fddce1d81c7453",
     "locked": true,
     "points": 0,
     "schema_version": 3,
     "solution": false,
     "task": false
    },
    "run_control": {
     "frozen": true
    }
   },
   "outputs": [],
   "source": [
    "# new test suite\n",
    "jagl.testsuite_begin(\"Exercise 4\")\n",
    "\n",
    "# delete all build artifacts\n",
    "jagl.remove_paths(files=[\"powerof2\", \"*.o\"])"
   ]
  },
  {
   "cell_type": "code",
   "execution_count": 12,
   "metadata": {
    "nbgrader": {
     "cell_type": "code",
     "checksum": "7958566d724d29de5be9a3d4c4975fb1",
     "grade": false,
     "grade_id": "cell-fec2fab46729e63b",
     "locked": false,
     "schema_version": 3,
     "solution": true
    }
   },
   "outputs": [],
   "source": [
    "%%bash\n",
    "\n",
    "# Schreiben Sie in diese Zelle den Befehl der dafür nötig ist um Ihr Programm zu kompilieren.\n",
    "# Beachten Sie dabei, dass der Name Ihres ausführbaren Programms \"powerof2\" sein sollte.\n",
    "# z.B. gcc -Wall -Werror -o powerof2 mein_quellcode.c\n",
    "\n",
    "\n",
    "gcc -Wall -Werror -o powerof2 powerof2.c"
   ]
  },
  {
   "cell_type": "code",
   "execution_count": 13,
   "metadata": {
    "nbgrader": {
     "cell_type": "code",
     "checksum": "25dff99ea6ed3048fc6e02135c3c007b",
     "grade": false,
     "grade_id": "cell-509aca5b41d67a4b",
     "locked": false,
     "schema_version": 3,
     "solution": true,
     "task": false
    }
   },
   "outputs": [],
   "source": [
    "# Weisen Sie der untenstehenden Variable den Wert True zu, sobald Sie die Aufgabe erfolgreich erledigt haben!\n",
    "\n",
    "# Datentyp: bool\n",
    "exercise_1_4_solved = True"
   ]
  },
  {
   "cell_type": "code",
   "execution_count": 14,
   "metadata": {},
   "outputs": [
    {
     "name": "stdout",
     "output_type": "stream",
     "text": [
      "5\n"
     ]
    }
   ],
   "source": [
    "%%bash\n",
    "\n",
    "# Benutzen Sie diese Zelle um Ihr Ergebnis zu testen.\n",
    "# Damit diese Zelle ausgeführt werden kann, müssen Sie zuerst Ihr Programm erfolgreich kompilieren.\n",
    "\n",
    "./powerof2 32"
   ]
  },
  {
   "cell_type": "code",
   "execution_count": 15,
   "metadata": {},
   "outputs": [],
   "source": [
    "%%bash\n",
    "\n",
    "# Benutzen Sie diese Zelle um Ihr Ergebnis zu testen.\n",
    "# Damit diese Zelle ausgeführt werden kann, müssen Sie zuerst Ihr Programm erfolgreich kompilieren.\n",
    "\n",
    "./powerof2 7"
   ]
  },
  {
   "cell_type": "code",
   "execution_count": null,
   "metadata": {
    "deletable": false,
    "editable": false,
    "hide_input": true,
    "nbgrader": {
     "cell_type": "code",
     "checksum": "433175dd5fac3e3e812ab211fa355f7b",
     "grade": true,
     "grade_id": "cell-9bcb431bd6d22479",
     "locked": true,
     "points": 0,
     "schema_version": 3,
     "solution": false,
     "task": false
    },
    "run_control": {
     "frozen": true
    }
   },
   "outputs": [],
   "source": [
    "executable_name = \"powerof2\"\n",
    "source_files = [\"powerof2.c\"]\n",
    "cpp_flags = []"
   ]
  },
  {
   "cell_type": "code",
   "execution_count": null,
   "metadata": {
    "deletable": false,
    "editable": false,
    "hide_input": true,
    "nbgrader": {
     "cell_type": "code",
     "checksum": "612cc922be203a66e23a10e67e71eb8f",
     "grade": true,
     "grade_id": "cell-4ec6e81b19345baf",
     "locked": true,
     "points": 11,
     "schema_version": 3,
     "solution": false,
     "task": false
    },
    "run_control": {
     "frozen": true
    }
   },
   "outputs": [],
   "source": [
    "@jagl.testcase(\"1\", desc=\"Exercise Solved\")\n",
    "def testcase_4_1(result, suite, case):\n",
    "    varname = \"exercise_1_4_solved\"\n",
    "    result.setSucceeded()\n",
    "    jagl.check_variable_exists_and_has_type(result, globals(), varname, bool)\n",
    "    if result.isSucceeded():\n",
    "        result.setSucceeded(\"Exercise solved.\")\n",
    "    else:\n",
    "        result.setFailed(\"Exercise not solved.\")"
   ]
  },
  {
   "cell_type": "code",
   "execution_count": null,
   "metadata": {
    "deletable": false,
    "editable": false,
    "hide_input": true,
    "nbgrader": {
     "cell_type": "code",
     "checksum": "1177a0cbc1bc7c49f5ce5d27731f4b42",
     "grade": true,
     "grade_id": "cell-bd46de5c09118f6e",
     "locked": true,
     "points": 7,
     "schema_version": 3,
     "solution": false,
     "task": false
    },
    "run_control": {
     "frozen": true
    }
   },
   "outputs": [],
   "source": [
    "@jagl.testcase(\"2\", desc=\"Compiling program\", deps=[\"1\"])\n",
    "def testcase_4_2(result, suite, case):\n",
    "    if os.path.isfile(executable_name):\n",
    "        result.setSucceeded(\"The program could be compiled successfully.\")\n",
    "        \n",
    "    else:\n",
    "        res = jagl.exec_bin(\"gcc\", [\"-o\", executable_name] + source_files + cpp_flags)\n",
    "        if res.state == jagl.ExecutionResult.SUCCESS:\n",
    "            stdout = jagl.bytes_decode(res.stdout).strip()\n",
    "            stderr = jagl.bytes_decode(res.stderr).strip()\n",
    "            if res.exitCode == 0:\n",
    "                if os.path.isfile(executable_name):\n",
    "                    result.setSucceeded(\"The program could be compiled successfully.\")\n",
    "                else:\n",
    "                    result.setFailed(\"gcc was executed successfully, but I couldn't find an executable.\")\n",
    "                if len(stderr) > 0:\n",
    "                    result.setSucceeded([\"However, there were warnings.\"] + stderr.split(\"\\n\"))\n",
    "            else:\n",
    "                result.setFailed([\"The program could not be compiled:\"] + stderr.split(\"\\n\"))\n",
    "        elif res.state == jagl.ExecutionResult.NOTFOUND:\n",
    "            result.setFailed(\"gcc could not be found. Please inform your course instructor.\")\n",
    "        elif res.state == jagl.ExecutionResult.TIMEOUT:\n",
    "            result.setFailed(\"Timeout while calling gcc. Please inform your course instructor.\")\n",
    "        elif res.state == jagl.ExecutionResult.ERROR:\n",
    "            result.setFailed(f'Unknown error during execution of gcc: {str(res.error)}. Please inform your course instructor.')"
   ]
  },
  {
   "cell_type": "code",
   "execution_count": null,
   "metadata": {
    "deletable": false,
    "editable": false,
    "hide_input": true,
    "nbgrader": {
     "cell_type": "code",
     "checksum": "d61827ec27cd7bead8ac1074558ea126",
     "grade": true,
     "grade_id": "cell-59da95b7285c77fb",
     "locked": true,
     "points": 7,
     "schema_version": 3,
     "solution": false,
     "task": false
    },
    "run_control": {
     "frozen": true
    }
   },
   "outputs": [],
   "source": [
    "@jagl.testcase(\"3\", desc=\"Executing program\", deps=[\"2\"])\n",
    "def testcase_4_3(result, suite, case):\n",
    "    execresult = jagl.exec_bin(\"./\" + executable_name, [], None, timeout = 30)\n",
    "    jagl.check_execution_result(result, execresult, checkExitCode = False)\n",
    "    if execresult.exitCode is not None:\n",
    "        if execresult.exitCode == -11:\n",
    "            result.setFailed(\"Program caused a segmentation fault.\")\n",
    "        elif execresult.exitCode < 0:\n",
    "            result.setFailed(f\"Program was abnormally terminated (Signal: {-execresult.exitCode})\")\n",
    "        elif execresult.exitCode > 0:\n",
    "            result.setFailed(f\"Program returned an exit code other than 0 (Exit Code: {execresult.exitCode})\")"
   ]
  },
  {
   "cell_type": "code",
   "execution_count": null,
   "metadata": {
    "deletable": false,
    "editable": false,
    "hide_input": true,
    "nbgrader": {
     "cell_type": "code",
     "checksum": "32d513ace26757c4f2275ad1a10948a5",
     "grade": true,
     "grade_id": "cell-8516dec8b8198b5d",
     "locked": true,
     "points": 0,
     "schema_version": 3,
     "solution": false
    },
    "run_control": {
     "frozen": true
    }
   },
   "outputs": [],
   "source": []
  },
  {
   "cell_type": "code",
   "execution_count": null,
   "metadata": {
    "deletable": false,
    "editable": false,
    "hide_input": true,
    "nbgrader": {
     "cell_type": "code",
     "checksum": "fb9f86461741c9b433bbadb71176ab3e",
     "grade": true,
     "grade_id": "cell-f5d57301b28e39e9",
     "locked": true,
     "points": 0,
     "schema_version": 3,
     "solution": false
    },
    "run_control": {
     "frozen": true
    }
   },
   "outputs": [],
   "source": []
  },
  {
   "cell_type": "code",
   "execution_count": null,
   "metadata": {
    "deletable": false,
    "editable": false,
    "hide_input": true,
    "nbgrader": {
     "cell_type": "code",
     "checksum": "f63561a4b3daab3a5cdbf36f487f40e2",
     "grade": true,
     "grade_id": "cell-0c7ed9720fb573ea",
     "locked": true,
     "points": 0,
     "schema_version": 3,
     "solution": false
    },
    "run_control": {
     "frozen": true
    }
   },
   "outputs": [],
   "source": []
  }
 ],
 "metadata": {
  "kernelspec": {
   "display_name": "Python 3 (ipykernel)",
   "language": "python",
   "name": "python3"
  },
  "language_info": {
   "codemirror_mode": {
    "name": "ipython",
    "version": 3
   },
   "file_extension": ".py",
   "mimetype": "text/x-python",
   "name": "python",
   "nbconvert_exporter": "python",
   "pygments_lexer": "ipython3",
   "version": "3.9.6"
  }
 },
 "nbformat": 4,
 "nbformat_minor": 2
}
