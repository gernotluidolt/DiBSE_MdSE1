{
 "cells": [
  {
   "cell_type": "markdown",
   "metadata": {
    "deletable": false,
    "editable": false,
    "nbgrader": {
     "cell_type": "markdown",
     "checksum": "b9ce270d6d3b308a0a4803f8cc03638f",
     "grade": false,
     "grade_id": "cell-14bc8bc2e3f3b50b",
     "locked": true,
     "schema_version": 3,
     "solution": false
    },
    "run_control": {
     "frozen": true
    }
   },
   "source": [
    "---\n",
    "Stellen Sie bitte sicher, dass alles wie vorhergesehen läuft, bevor Sie dieses Übungsblatt abgeben. **Starten Sie den Kernel neu** (in der Menüleiste die Option Kernel$\\rightarrow$Restart auswählen) und **validieren** Sie anschließend das Übungsblatt (in der Menüleiste auf Validate klicken) um Rückmeldung zu eventuellen fehlenden oder fehlerhaften Eingaben zu erhalten. \n",
    "\n",
    "Füllen Sie alle Stellen im Übungsblatt aus, welche entweder `DEIN CODE HIER` oder \"DEINE ANTWORT HIER\" enthalten. Geben Sie unterhalb Ihren vollständigen Namen an.\n",
    "\n",
    "Wenn Sie Code-Bestandteile aus anderen Quellen (wie z.B. Stackoverflow) kopieren, dann machen sie den kopierten Code in ihrer Quellcodedatei kenntlich und fügen eine Referenz auf die Quelle als Kommentar hinzu.\n",
    "\n",
    "Wenn Sie die Aufgaben in einer Gruppe erledigen, dann fügen Sie die Namen aller Gruppenmitglieder in der nachfolgende Zelle zu `Name` und zusätzlich als Kommentar am Anfang Ihrer Quellcodedatei hinzu."
   ]
  },
  {
   "cell_type": "markdown",
   "metadata": {
    "deletable": false,
    "editable": false,
    "nbgrader": {
     "cell_type": "markdown",
     "checksum": "008460e9429099ecfb93dcd32bf095e8",
     "grade": false,
     "grade_id": "cell-8ae8fd1bec813ca4",
     "locked": true,
     "schema_version": 3,
     "solution": false
    },
    "run_control": {
     "frozen": true
    }
   },
   "source": [
    "---"
   ]
  },
  {
   "cell_type": "code",
   "execution_count": null,
   "metadata": {},
   "outputs": [],
   "source": [
    "NAME = \"Gernot Luidolt\""
   ]
  },
  {
   "cell_type": "markdown",
   "metadata": {
    "deletable": false,
    "editable": false,
    "nbgrader": {
     "cell_type": "markdown",
     "checksum": "c192b9832dd6a90237eec99f9da76301",
     "grade": false,
     "grade_id": "cell-4f279d8aadb7cf1a",
     "locked": true,
     "schema_version": 3,
     "solution": false
    },
    "run_control": {
     "frozen": true
    }
   },
   "source": [
    "---"
   ]
  },
  {
   "cell_type": "markdown",
   "metadata": {
    "deletable": false,
    "editable": false,
    "nbgrader": {
     "cell_type": "markdown",
     "checksum": "877b41d24f134d695f9e372f78e86125",
     "grade": false,
     "grade_id": "cell-0bad267abe81c520",
     "locked": true,
     "schema_version": 3,
     "solution": false
    },
    "run_control": {
     "frozen": true
    }
   },
   "source": [
    "<table style=\"width: 100%\">\n",
    "    <tr style=\"background: #ffffff\">\n",
    "        <td style=\"padding-top:25px;width: 180px\"><img src=\"https://mci.edu/templates/mci/images/logo.svg\" alt=\"Logo\"></td>\n",
    "        <td style=\"width: 100%\">\n",
    "            <div style=\"text-align:right; width: 100%; text-align:right\"><font style=\"font-size:38px\"><b>Methoden der Softwareentwicklung I</b></font></div>\n",
    "            <div style=\"padding-top:0px; width: 100%; text-align:right\"><font size=\"4\"><b>WS 2023/24</b></font></div>\n",
    "        </td>\n",
    "    </tr>\n",
    "</table>"
   ]
  },
  {
   "cell_type": "code",
   "execution_count": null,
   "metadata": {
    "deletable": false,
    "editable": false,
    "hide_input": true,
    "nbgrader": {
     "cell_type": "code",
     "checksum": "f387656f27b9bdfa0018aaa76971e917",
     "grade": true,
     "grade_id": "cell-a8252b90db449747",
     "locked": true,
     "points": 0,
     "schema_version": 3,
     "solution": false,
     "task": false
    },
    "run_control": {
     "frozen": true
    }
   },
   "outputs": [],
   "source": [
    "import jagl\n",
    "import os"
   ]
  },
  {
   "cell_type": "markdown",
   "metadata": {
    "deletable": false,
    "editable": false,
    "nbgrader": {
     "cell_type": "markdown",
     "checksum": "16b7c2641d845d9a1cf1591211ed6bb5",
     "grade": false,
     "grade_id": "cell-cf0f51116472d5c2",
     "locked": true,
     "schema_version": 3,
     "solution": false
    },
    "run_control": {
     "frozen": true
    }
   },
   "source": [
    "---\n",
    "# Übungsblatt 5"
   ]
  },
  {
   "cell_type": "markdown",
   "metadata": {
    "deletable": false,
    "editable": false,
    "nbgrader": {
     "cell_type": "markdown",
     "checksum": "ab788700cbd831dfcfa583375e9d683b",
     "grade": false,
     "grade_id": "cell-2d2970e4dcac41f2",
     "locked": true,
     "schema_version": 3,
     "solution": false
    },
    "run_control": {
     "frozen": true
    }
   },
   "source": [
    "---\n",
    "Abgabe bis <b>Sonntag, 14. Jänner 2024, 23:55 Uhr</b>"
   ]
  },
  {
   "cell_type": "markdown",
   "metadata": {
    "deletable": false,
    "editable": false,
    "nbgrader": {
     "cell_type": "markdown",
     "checksum": "186f25c3ff836f97f6d17e1f3ad008ce",
     "grade": false,
     "grade_id": "cell-e28fa086a383475f",
     "locked": true,
     "schema_version": 3,
     "solution": false
    },
    "run_control": {
     "frozen": true
    }
   },
   "source": [
    "---\n",
    "### Achtung:\n",
    "\n",
    "*Bitte speichern Sie Ihre Quellcode-Dateien (&ast;.c) im selben Ordner wie dieses Übungsblatt. Beachten Sie außerdem die Kommentare zur richtigen Benennung Ihrer Dateien. Nur so ist eine korrekte Abgabe und Auswertung Ihrer Lösungen möglich.*"
   ]
  },
  {
   "cell_type": "code",
   "execution_count": null,
   "metadata": {
    "deletable": false,
    "editable": false,
    "hide_input": true,
    "nbgrader": {
     "cell_type": "code",
     "checksum": "2bfeea61db77488c6d8e913968fdaab5",
     "grade": true,
     "grade_id": "cell-aaaf569af38b06c1",
     "locked": true,
     "points": 0,
     "schema_version": 3,
     "solution": false,
     "task": false
    },
    "run_control": {
     "frozen": true
    }
   },
   "outputs": [],
   "source": [
    "# new test suite\n",
    "jagl.testsuite_begin(\"Exercise 1\")\n",
    "\n",
    "# delete all build artifacts\n",
    "jagl.remove_paths(files=[\"average\", \"*.o\"])"
   ]
  },
  {
   "cell_type": "markdown",
   "metadata": {
    "deletable": false,
    "editable": false,
    "nbgrader": {
     "cell_type": "markdown",
     "checksum": "4c2ac12e27a4e59d5a21b073d7712ab7",
     "grade": false,
     "grade_id": "cell-b0902fdf39b4c735",
     "locked": true,
     "schema_version": 3,
     "solution": false
    },
    "run_control": {
     "frozen": true
    }
   },
   "source": [
    "---\n",
    "## 5.1 Durchschnitt mit dynamischer Speicherverwaltung (50%)\n",
    "\n",
    "Implementieren Sie ein Programm, welches den Durchschnitt aller Elemente eines Integer-Arrays ausgibt. Der Benutzer soll jedes einzelne Array-Element über `stdin` eingeben. Im Gegensatz zu Aufgabe 3.3 soll der Speicher dieses Mal aber dynamisch verwaltet werden. Zu Beginn soll mit `malloc` Speicher für 5 Elemente (= Blockgröße) reserviert werden. Sobald dieser Speicher komplett befüllt ist, soll mit `realloc` Speicher für einen weiteren Block mit 5 Elementen reserviert werden. Wiederholen Sie diesen Vorgang so oft wie nötig.\n",
    "\n",
    "Wird etwas anderes als ein Integer eingegeben, dann soll diese Eingabe ignoriert und das Einlesen fortgesetzt werden. Sobald der Benutzer eine leere Zeile eingibt, soll das Einlesen beendet werden. Dann soll das Array an eine Funktion übergeben werden, welche den Durchschnitt der Elemente berechnet und ausgibt. Dabei soll exakt eine Nachkommastelle ausgegeben werden. Am Ende soll der alloziierte Speicher explizit wieder freigegeben werden. Ein Programmablauf könnte beispielweise so aussehen:\n",
    "\n",
    "`> Geben Sie die Elemente Ihres Arrays an:`<br/>\n",
    "`> Element #1:`<br/>\n",
    "5<br/>\n",
    "`> Element #2:`<br/>\n",
    "1<br/>\n",
    "`> Element #3:`<br/>\n",
    "not a number<br/>\n",
    "`> Element #3:`<br/>\n",
    "3<br/>\n",
    "`> Element #4:`<br/>\n",
    "<br/>\n",
    "`> Eingabe beendet.`<br/>\n",
    "`> Der Durchschnitt Ihres Arrays ist: 3.0`"
   ]
  },
  {
   "cell_type": "code",
   "execution_count": null,
   "metadata": {
    "nbgrader": {
     "cell_type": "code",
     "checksum": "19db4601f67791ede49b1c038b2ceed6",
     "grade": false,
     "grade_id": "cell-993ceeb7eae918bf",
     "locked": false,
     "schema_version": 3,
     "solution": true
    }
   },
   "outputs": [],
   "source": [
    "%%bash\n",
    "\n",
    "# Schreiben Sie in diese Zelle den Befehl der dafür nötig ist um Ihr Programm zu kompilieren.\n",
    "# Beachten Sie dabei, dass der Name ihrer Quellcode-Datei \"average.c\" sein sollte.\n",
    "# Beachten Sie dabei, dass der Name Ihres ausführbaren Programms \"average\" sein sollte.\n",
    "\n",
    "gcc -Wall -Werror -o average average.c"
   ]
  },
  {
   "cell_type": "code",
   "execution_count": null,
   "metadata": {
    "nbgrader": {
     "cell_type": "code",
     "checksum": "8867e2c4a0b1496527d2a060d16a2001",
     "grade": false,
     "grade_id": "cell-7fb8dfebf85cdec7",
     "locked": false,
     "schema_version": 3,
     "solution": true,
     "task": false
    }
   },
   "outputs": [],
   "source": [
    "# Weisen Sie der untenstehenden Variable den Wert True zu, sobald Sie die Aufgabe erfolgreich erledigt haben!\n",
    "\n",
    "# Datentyp: bool\n",
    "exercise_5_1_solved = True"
   ]
  },
  {
   "cell_type": "code",
   "execution_count": null,
   "metadata": {
    "deletable": false,
    "editable": false,
    "hide_input": true,
    "nbgrader": {
     "cell_type": "code",
     "checksum": "54cf24f36213621228a070113cdc3e71",
     "grade": true,
     "grade_id": "cell-10a73b5f5c0ac9ab",
     "locked": true,
     "points": 0,
     "schema_version": 3,
     "solution": false
    },
    "run_control": {
     "frozen": true
    }
   },
   "outputs": [],
   "source": [
    "executable_name = \"average\"\n",
    "source_files = [\"average.c\"]\n",
    "cpp_flags = []"
   ]
  },
  {
   "cell_type": "code",
   "execution_count": null,
   "metadata": {
    "deletable": false,
    "editable": false,
    "hide_input": true,
    "nbgrader": {
     "cell_type": "code",
     "checksum": "06524e2c68960586564bdd69634ea789",
     "grade": true,
     "grade_id": "cell-64beb067cd44700a",
     "locked": true,
     "points": 17,
     "schema_version": 3,
     "solution": false
    },
    "run_control": {
     "frozen": true
    }
   },
   "outputs": [],
   "source": [
    "@jagl.testcase(\"1\", desc=\"Exercise Solved\")\n",
    "def testcase_1_1(result, suite, case):\n",
    "    varname = \"exercise_5_1_solved\"\n",
    "    result.setSucceeded()\n",
    "    jagl.check_variable_exists_and_has_type(result, globals(), varname, bool)\n",
    "    if result.isSucceeded():\n",
    "        if eval(varname):\n",
    "            result.setSucceeded(\"Exercise solved.\")\n",
    "        else:\n",
    "            result.setFailed(\"Exercise not solved.\")"
   ]
  },
  {
   "cell_type": "code",
   "execution_count": null,
   "metadata": {
    "deletable": false,
    "editable": false,
    "hide_input": true,
    "nbgrader": {
     "cell_type": "code",
     "checksum": "013cfdf0adc33fc708b1ec1098d20018",
     "grade": true,
     "grade_id": "cell-1976a438e7faf4d9",
     "locked": true,
     "points": 17,
     "schema_version": 3,
     "solution": false
    },
    "run_control": {
     "frozen": true
    }
   },
   "outputs": [],
   "source": [
    "@jagl.testcase(\"2\", desc=\"Compiling program\", deps=[\"1\"])\n",
    "def testcase_1_2(result, suite, case):\n",
    "    if os.path.isfile(executable_name):\n",
    "        result.setSucceeded(\"The program could be compiled successfully.\")\n",
    "        \n",
    "    else:\n",
    "        res = jagl.exec_bin(\"gcc\", [\"-o\", executable_name] + source_files + cpp_flags)\n",
    "        if res.state == jagl.ExecutionResult.SUCCESS:\n",
    "            stdout = jagl.bytes_decode(res.stdout).strip()\n",
    "            stderr = jagl.bytes_decode(res.stderr).strip()\n",
    "            if res.exitCode == 0:\n",
    "                if os.path.isfile(executable_name):\n",
    "                    result.setSucceeded(\"The program could be compiled successfully.\")\n",
    "                else:\n",
    "                    result.setFailed(\"gcc was executed successfully, but I couldn't find an executable.\")\n",
    "                if len(stderr) > 0:\n",
    "                    result.setSucceeded([\"However, there were warnings.\"] + stderr.split(\"\\n\"))\n",
    "            else:\n",
    "                result.setFailed([\"The program could not be compiled:\"] + stderr.split(\"\\n\"))\n",
    "        elif res.state == jagl.ExecutionResult.NOTFOUND:\n",
    "            result.setFailed(\"gcc could not be found. Please inform your course instructor.\")\n",
    "        elif res.state == jagl.ExecutionResult.TIMEOUT:\n",
    "            result.setFailed(\"Timeout while calling gcc. Please inform your course instructor.\")\n",
    "        elif res.state == jagl.ExecutionResult.ERROR:\n",
    "            result.setFailed(f'Unknown error during execution of gcc: {str(res.error)}. Please inform your course instructor.')"
   ]
  },
  {
   "cell_type": "code",
   "execution_count": null,
   "metadata": {
    "deletable": false,
    "editable": false,
    "hide_input": true,
    "nbgrader": {
     "cell_type": "code",
     "checksum": "7f45fa4bd3d053946ea5c634d905e69c",
     "grade": true,
     "grade_id": "cell-5399ac9e0b54a1a8",
     "locked": true,
     "points": 16,
     "schema_version": 3,
     "solution": false
    },
    "run_control": {
     "frozen": true
    }
   },
   "outputs": [],
   "source": [
    "@jagl.testcase(\"3\", desc=\"Executing program\", deps=[\"2\"])\n",
    "def testcase_1_3(result, suite, case):\n",
    "    execresult = jagl.exec_bin(\"./\" + executable_name, [], \"22\\n11\\n2\\nbla\\n231\\n232\\n42\\n23\\n32\\n23\\n23\\n34\\n\\n\", timeout = 30)\n",
    "    jagl.check_execution_result(result, execresult, checkExitCode = False)\n",
    "    if execresult.exitCode is not None:\n",
    "        if execresult.exitCode == -11:\n",
    "            result.setFailed(\"Program caused a segmentation fault.\")\n",
    "        elif execresult.exitCode < 0:\n",
    "            result.setFailed(f\"Program was abnormally terminated (Signal: {-execresult.exitCode})\")\n",
    "        elif execresult.exitCode > 0:\n",
    "            result.setFailed(f\"Program returned an exit code other than 0 (Exit Code: {execresult.exitCode})\")"
   ]
  },
  {
   "cell_type": "code",
   "execution_count": null,
   "metadata": {
    "deletable": false,
    "editable": false,
    "hide_input": true,
    "nbgrader": {
     "cell_type": "code",
     "checksum": "68a9848932f00a1ac8df4147440e6780",
     "grade": true,
     "grade_id": "cell-60b195c84f2d2de0",
     "locked": true,
     "points": 0,
     "schema_version": 3,
     "solution": false
    },
    "run_control": {
     "frozen": true
    }
   },
   "outputs": [],
   "source": []
  },
  {
   "cell_type": "code",
   "execution_count": null,
   "metadata": {
    "deletable": false,
    "editable": false,
    "hide_input": true,
    "nbgrader": {
     "cell_type": "code",
     "checksum": "1a18a7ab41280175a7d3bae5d9a121c8",
     "grade": true,
     "grade_id": "cell-9b8863ab8223eec3",
     "locked": true,
     "points": 0,
     "schema_version": 3,
     "solution": false,
     "task": false
    },
    "run_control": {
     "frozen": true
    }
   },
   "outputs": [],
   "source": []
  },
  {
   "cell_type": "code",
   "execution_count": null,
   "metadata": {
    "deletable": false,
    "editable": false,
    "hide_input": true,
    "nbgrader": {
     "cell_type": "code",
     "checksum": "f92e671516e75ac0c1ddfaf147bba1ab",
     "grade": true,
     "grade_id": "cell-ad13970fcb08fb3f",
     "locked": true,
     "points": 0,
     "schema_version": 3,
     "solution": false,
     "task": false
    },
    "run_control": {
     "frozen": true
    }
   },
   "outputs": [],
   "source": []
  },
  {
   "cell_type": "code",
   "execution_count": null,
   "metadata": {
    "deletable": false,
    "editable": false,
    "hide_input": true,
    "nbgrader": {
     "cell_type": "code",
     "checksum": "667de488ef5b08247d236f9d6f9af789",
     "grade": true,
     "grade_id": "cell-fd5073ba9ee24f16",
     "locked": true,
     "points": 0,
     "schema_version": 3,
     "solution": false,
     "task": false
    },
    "run_control": {
     "frozen": true
    }
   },
   "outputs": [],
   "source": [
    "# new test suite\n",
    "jagl.testsuite_begin(\"Exercise 2\")\n",
    "\n",
    "# delete all build artifacts\n",
    "jagl.remove_paths(files=[\"quick_corr\", \"quick\", \"*.o\"])"
   ]
  },
  {
   "cell_type": "markdown",
   "metadata": {
    "deletable": false,
    "editable": false,
    "nbgrader": {
     "cell_type": "markdown",
     "checksum": "701cf1ec160861b13ad361391ff6fc33",
     "grade": false,
     "grade_id": "cell-10335cdb46e4250f",
     "locked": true,
     "schema_version": 3,
     "solution": false
    },
    "run_control": {
     "frozen": true
    }
   },
   "source": [
    "---\n",
    "## 5.2 Makros und Konstanten (50%)\n",
    "\n",
    "Im Ordner dieses Übungsblattes finden Sie die Quellcode-Datei \"quick.c\", welche eine Implementierung des QuickSort Sortieralgorithmus beinhaltet. In dieser Datei wurden einige Konstanten und Makros definiert, nur leider haben sich in den Code diverse Fehler eingeschlichen, welche eine erfolgreiche Kompilierung verhindern. Ihre Aufgabe ist es nun den Quellcode so zu ändern, dass eine erfolgreiche Kompilierung und Ausführung möglich ist. Es ist dabei nicht gestattet Konstanten und Makros zu entfernen, die bestehenden können aber abgeändert werden. Als Ausgabe des Programms wird das aufsteigend sortierte Array erwartet, wobei die einzelnen Elemente durch Tabulatoren getrennt werden sollen."
   ]
  },
  {
   "cell_type": "code",
   "execution_count": null,
   "metadata": {
    "nbgrader": {
     "cell_type": "code",
     "checksum": "dcbd52c43473e931ea834c46f005448a",
     "grade": false,
     "grade_id": "cell-4ba94f47d7e97e3f",
     "locked": false,
     "schema_version": 3,
     "solution": true
    }
   },
   "outputs": [],
   "source": [
    "%%bash\n",
    "\n",
    "# Schreiben Sie in diese Zelle den Befehl der dafür nötig ist um Ihr Programm zu kompilieren.\n",
    "# Beachten Sie dabei, dass der Name ihrer Quellcode-Datei \"quick_corr.c\" sein sollte.\n",
    "# Beachten Sie dabei, dass der Name Ihres ausführbaren Programms \"quick_corr\" sein sollte.\n",
    "\n",
    "gcc -Wall -Werror -o quick_corr quick_corr.c"
   ]
  },
  {
   "cell_type": "code",
   "execution_count": null,
   "metadata": {
    "nbgrader": {
     "cell_type": "code",
     "checksum": "ae8f71cd2584634c8b481147c572f363",
     "grade": false,
     "grade_id": "cell-c855b951b63ccdb9",
     "locked": false,
     "schema_version": 3,
     "solution": true,
     "task": false
    }
   },
   "outputs": [],
   "source": [
    "# Weisen Sie der untenstehenden Variable den Wert True zu, sobald Sie die Aufgabe erfolgreich erledigt haben!\n",
    "\n",
    "# Datentyp: bool\n",
    "exercise_5_2_solved = True"
   ]
  },
  {
   "cell_type": "code",
   "execution_count": null,
   "metadata": {
    "deletable": false,
    "editable": false,
    "hide_input": true,
    "nbgrader": {
     "cell_type": "code",
     "checksum": "3f008d8a2840e0866061b716943b9293",
     "grade": true,
     "grade_id": "cell-29e9c2f632bf7c9a",
     "locked": true,
     "points": 0,
     "schema_version": 3,
     "solution": false
    },
    "run_control": {
     "frozen": true
    }
   },
   "outputs": [],
   "source": [
    "executable_name = \"quick_corr\"\n",
    "source_files = [\"quick_corr.c\"]\n",
    "cpp_flags = []"
   ]
  },
  {
   "cell_type": "code",
   "execution_count": null,
   "metadata": {
    "deletable": false,
    "editable": false,
    "hide_input": true,
    "nbgrader": {
     "cell_type": "code",
     "checksum": "69e424fbcacc1856c4492ea87c5ea08e",
     "grade": true,
     "grade_id": "cell-7289eb205e7c7187",
     "locked": true,
     "points": 17,
     "schema_version": 3,
     "solution": false
    },
    "run_control": {
     "frozen": true
    }
   },
   "outputs": [],
   "source": [
    "@jagl.testcase(\"1\", desc=\"Exercise Solved\")\n",
    "def testcase_2_1(result, suite, case):\n",
    "    varname = \"exercise_5_2_solved\"\n",
    "    result.setSucceeded()\n",
    "    jagl.check_variable_exists_and_has_type(result, globals(), varname, bool)\n",
    "    if result.isSucceeded():\n",
    "        if eval(varname):\n",
    "            result.setSucceeded(\"Exercise solved.\")\n",
    "        else:\n",
    "            result.setFailed(\"Exercise not solved.\")"
   ]
  },
  {
   "cell_type": "code",
   "execution_count": null,
   "metadata": {
    "deletable": false,
    "editable": false,
    "hide_input": true,
    "nbgrader": {
     "cell_type": "code",
     "checksum": "409f30526546755ef7bf1e0144877982",
     "grade": true,
     "grade_id": "cell-10b092b68fe5b1db",
     "locked": true,
     "points": 17,
     "schema_version": 3,
     "solution": false
    },
    "run_control": {
     "frozen": true
    }
   },
   "outputs": [],
   "source": [
    "@jagl.testcase(\"2\", desc=\"Compiling program\", deps=[\"1\"])\n",
    "def testcase_2_2(result, suite, case):\n",
    "    if os.path.isfile(executable_name):\n",
    "        result.setSucceeded(\"The program could be compiled successfully.\")\n",
    "        \n",
    "    else:\n",
    "        res = jagl.exec_bin(\"gcc\", [\"-o\", executable_name] + source_files + cpp_flags)\n",
    "        if res.state == jagl.ExecutionResult.SUCCESS:\n",
    "            stdout = jagl.bytes_decode(res.stdout).strip()\n",
    "            stderr = jagl.bytes_decode(res.stderr).strip()\n",
    "            if res.exitCode == 0:\n",
    "                if os.path.isfile(executable_name):\n",
    "                    result.setSucceeded(\"The program could be compiled successfully.\")\n",
    "                else:\n",
    "                    result.setFailed(\"gcc was executed successfully, but I couldn't find an executable.\")\n",
    "                if len(stderr) > 0:\n",
    "                    result.setSucceeded([\"However, there were warnings.\"] + stderr.split(\"\\n\"))\n",
    "            else:\n",
    "                result.setFailed([\"The program could not be compiled:\"] + stderr.split(\"\\n\"))\n",
    "        elif res.state == jagl.ExecutionResult.NOTFOUND:\n",
    "            result.setFailed(\"gcc could not be found. Please inform your course instructor.\")\n",
    "        elif res.state == jagl.ExecutionResult.TIMEOUT:\n",
    "            result.setFailed(\"Timeout while calling gcc. Please inform your course instructor.\")\n",
    "        elif res.state == jagl.ExecutionResult.ERROR:\n",
    "            result.setFailed(f'Unknown error during execution of gcc: {str(res.error)}. Please inform your course instructor.')"
   ]
  },
  {
   "cell_type": "code",
   "execution_count": null,
   "metadata": {
    "deletable": false,
    "editable": false,
    "hide_input": true,
    "nbgrader": {
     "cell_type": "code",
     "checksum": "e7e7935e252ae9ead61f4105ecb8d70d",
     "grade": true,
     "grade_id": "cell-809ed90fa4fd2de5",
     "locked": true,
     "points": 16,
     "schema_version": 3,
     "solution": false,
     "task": false
    },
    "run_control": {
     "frozen": true
    }
   },
   "outputs": [],
   "source": [
    "@jagl.testcase(\"3\", desc=\"Executing program\", deps=[\"2\"])\n",
    "def testcase_2_3(result, suite, case):\n",
    "    execresult = jagl.exec_bin(\"./\" + executable_name, timeout = 30)\n",
    "    jagl.check_execution_result(result, execresult, checkExitCode = False)\n",
    "    if execresult.exitCode is not None:\n",
    "        if execresult.exitCode == -11:\n",
    "            result.setFailed(\"Program caused a segmentation fault.\")\n",
    "        elif execresult.exitCode < 0:\n",
    "            result.setFailed(f\"Program was abnormally terminated (Signal: {-execresult.exitCode})\")\n",
    "        elif execresult.exitCode > 0:\n",
    "            result.setFailed(f\"Program returned an exit code other than 0 (Exit Code: {execresult.exitCode})\")\n"
   ]
  },
  {
   "cell_type": "code",
   "execution_count": null,
   "metadata": {
    "deletable": false,
    "editable": false,
    "hide_input": true,
    "nbgrader": {
     "cell_type": "code",
     "checksum": "69d60a7b3c7a3dc26fed83a8fd00f2c0",
     "grade": true,
     "grade_id": "cell-2949b330e2468fbc",
     "locked": true,
     "points": 0,
     "schema_version": 3,
     "solution": false,
     "task": false
    },
    "run_control": {
     "frozen": true
    }
   },
   "outputs": [],
   "source": []
  },
  {
   "cell_type": "code",
   "execution_count": null,
   "metadata": {
    "deletable": false,
    "editable": false,
    "hide_input": true,
    "nbgrader": {
     "cell_type": "code",
     "checksum": "3ce89634116098d0a3ed873b4d28f3f4",
     "grade": true,
     "grade_id": "cell-04f64fccd6337932",
     "locked": true,
     "points": 0,
     "schema_version": 3,
     "solution": false,
     "task": false
    },
    "run_control": {
     "frozen": true
    }
   },
   "outputs": [],
   "source": []
  }
 ],
 "metadata": {
  "kernelspec": {
   "display_name": "Python 3 (ipykernel)",
   "language": "python",
   "name": "python3"
  },
  "language_info": {
   "codemirror_mode": {
    "name": "ipython",
    "version": 3
   },
   "file_extension": ".py",
   "mimetype": "text/x-python",
   "name": "python",
   "nbconvert_exporter": "python",
   "pygments_lexer": "ipython3",
   "version": "3.9.6"
  }
 },
 "nbformat": 4,
 "nbformat_minor": 2
}
