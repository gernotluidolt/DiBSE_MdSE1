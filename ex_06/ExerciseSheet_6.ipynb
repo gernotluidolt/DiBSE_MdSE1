{
 "cells": [
  {
   "cell_type": "markdown",
   "metadata": {
    "deletable": false,
    "editable": false,
    "nbgrader": {
     "cell_type": "markdown",
     "checksum": "b9ce270d6d3b308a0a4803f8cc03638f",
     "grade": false,
     "grade_id": "cell-14bc8bc2e3f3b50b",
     "locked": true,
     "schema_version": 3,
     "solution": false
    },
    "run_control": {
     "frozen": true
    }
   },
   "source": [
    "---\n",
    "Stellen Sie bitte sicher, dass alles wie vorhergesehen läuft, bevor Sie dieses Übungsblatt abgeben. **Starten Sie den Kernel neu** (in der Menüleiste die Option Kernel$\\rightarrow$Restart auswählen) und **validieren** Sie anschließend das Übungsblatt (in der Menüleiste auf Validate klicken) um Rückmeldung zu eventuellen fehlenden oder fehlerhaften Eingaben zu erhalten. \n",
    "\n",
    "Füllen Sie alle Stellen im Übungsblatt aus, welche entweder `DEIN CODE HIER` oder \"DEINE ANTWORT HIER\" enthalten. Geben Sie unterhalb Ihren vollständigen Namen an.\n",
    "\n",
    "Wenn Sie Code-Bestandteile aus anderen Quellen (wie z.B. Stackoverflow) kopieren, dann machen sie den kopierten Code in ihrer Quellcodedatei kenntlich und fügen eine Referenz auf die Quelle als Kommentar hinzu.\n",
    "\n",
    "Wenn Sie die Aufgaben in einer Gruppe erledigen, dann fügen Sie die Namen aller Gruppenmitglieder in der nachfolgende Zelle zu `Name` und zusätzlich als Kommentar am Anfang Ihrer Quellcodedatei hinzu."
   ]
  },
  {
   "cell_type": "markdown",
   "metadata": {
    "deletable": false,
    "editable": false,
    "nbgrader": {
     "cell_type": "markdown",
     "checksum": "008460e9429099ecfb93dcd32bf095e8",
     "grade": false,
     "grade_id": "cell-8ae8fd1bec813ca4",
     "locked": true,
     "schema_version": 3,
     "solution": false
    },
    "run_control": {
     "frozen": true
    }
   },
   "source": [
    "---"
   ]
  },
  {
   "cell_type": "code",
   "execution_count": null,
   "metadata": {},
   "outputs": [],
   "source": [
    "NAME = \"Gernot Luidolt\""
   ]
  },
  {
   "cell_type": "markdown",
   "metadata": {
    "deletable": false,
    "editable": false,
    "nbgrader": {
     "cell_type": "markdown",
     "checksum": "c192b9832dd6a90237eec99f9da76301",
     "grade": false,
     "grade_id": "cell-4f279d8aadb7cf1a",
     "locked": true,
     "schema_version": 3,
     "solution": false
    },
    "run_control": {
     "frozen": true
    }
   },
   "source": [
    "---"
   ]
  },
  {
   "cell_type": "markdown",
   "metadata": {
    "deletable": false,
    "editable": false,
    "nbgrader": {
     "cell_type": "markdown",
     "checksum": "9fae97564b2127c17788357b1286063d",
     "grade": false,
     "grade_id": "cell-a9dfd5786df22363",
     "locked": true,
     "schema_version": 3,
     "solution": false
    },
    "run_control": {
     "frozen": true
    }
   },
   "source": [
    "<table style=\"width: 100%\">\n",
    "    <tr style=\"background: #ffffff\">\n",
    "        <td style=\"padding-top:25px;width: 180px\"><img src=\"https://mci.edu/templates/mci/images/logo.svg\" alt=\"Logo\"></td>\n",
    "        <td style=\"width: 100%\">\n",
    "            <div style=\"text-align:right; width: 100%; text-align:right\"><font style=\"font-size:38px\"><b>Methoden der Softwareentwicklung I</b></font></div>\n",
    "            <div style=\"padding-top:0px; width: 100%; text-align:right\"><font size=\"4\"><b>WS 2022/23</b></font></div>\n",
    "        </td>\n",
    "    </tr>\n",
    "</table>"
   ]
  },
  {
   "cell_type": "code",
   "execution_count": null,
   "metadata": {
    "deletable": false,
    "editable": false,
    "hide_input": true,
    "nbgrader": {
     "cell_type": "code",
     "checksum": "4c6efa3061d16402d412370e0e76fbe5",
     "grade": true,
     "grade_id": "cell-84c7041465836e7a",
     "locked": true,
     "points": 0,
     "schema_version": 3,
     "solution": false,
     "task": false
    },
    "run_control": {
     "frozen": true
    }
   },
   "outputs": [],
   "source": [
    "import jagl\n",
    "import os"
   ]
  },
  {
   "cell_type": "markdown",
   "metadata": {
    "deletable": false,
    "editable": false,
    "nbgrader": {
     "cell_type": "markdown",
     "checksum": "530a2d8024833d1f1ff0f3849ed15943",
     "grade": false,
     "grade_id": "cell-95e0038440711914",
     "locked": true,
     "schema_version": 3,
     "solution": false
    },
    "run_control": {
     "frozen": true
    }
   },
   "source": [
    "---\n",
    "# Übungsblatt 6"
   ]
  },
  {
   "cell_type": "markdown",
   "metadata": {
    "deletable": false,
    "editable": false,
    "hide_input": true,
    "nbgrader": {
     "cell_type": "markdown",
     "checksum": "b01fd60f36b0e45d33ec4b6998aefa4a",
     "grade": false,
     "grade_id": "cell-365560ab1cb3fd01",
     "locked": true,
     "schema_version": 3,
     "solution": false
    },
    "run_control": {
     "frozen": true
    }
   },
   "source": [
    "---\n",
    "Abgabe bis <b>Sonntag, 22. Jänner 2023, 23:55 Uhr</b>"
   ]
  },
  {
   "cell_type": "markdown",
   "metadata": {
    "deletable": false,
    "editable": false,
    "nbgrader": {
     "cell_type": "markdown",
     "checksum": "043c7847af7c185369ed3e8a8ccc1ef2",
     "grade": false,
     "grade_id": "cell-5ab017bf7f627650",
     "locked": true,
     "schema_version": 3,
     "solution": false
    },
    "run_control": {
     "frozen": true
    }
   },
   "source": [
    "---\n",
    "### Achtung:\n",
    "\n",
    "*Bitte speichern Sie Ihre Quellcode-Dateien (&ast;.c) im selben Ordner wie dieses Übungsblatt. Beachten Sie außerdem die Kommentare zur richtigen Benennung Ihrer Dateien. Nur so ist eine korrekte Abgabe und Auswertung Ihrer Lösungen möglich.*"
   ]
  },
  {
   "cell_type": "code",
   "execution_count": null,
   "metadata": {
    "deletable": false,
    "editable": false,
    "hide_input": true,
    "nbgrader": {
     "cell_type": "code",
     "checksum": "62352c3b66ef73170778edea03f78b5c",
     "grade": true,
     "grade_id": "cell-8b7d5e31f36336fe",
     "locked": true,
     "points": 0,
     "schema_version": 3,
     "solution": false
    },
    "run_control": {
     "frozen": true
    }
   },
   "outputs": [],
   "source": [
    "# new test suite\n",
    "jagl.testsuite_begin(\"Exercise 1\")\n",
    "\n",
    "# delete all build artifacts\n",
    "jagl.remove_paths(files=[\"cities\", \"*.o\"])"
   ]
  },
  {
   "cell_type": "markdown",
   "metadata": {
    "deletable": false,
    "editable": false,
    "hide_input": false,
    "nbgrader": {
     "cell_type": "markdown",
     "checksum": "2aeb6871b4a2dfd26f52df7e2cd35c80",
     "grade": false,
     "grade_id": "cell-8ee3c1395998bfcb",
     "locked": true,
     "schema_version": 3,
     "solution": false,
     "task": false
    },
    "run_control": {
     "frozen": true
    }
   },
   "source": [
    "---\n",
    "## 6.1 Klausur vom letzten Jahr: Länder, Städte und Bevölkerungsdichte (33%)\n",
    "\n",
    "Implementieren Sie ein Programm, welches für eine Liste von Ländern jeweils die Stadt mit der größten Bevölkerungsdiche ausgibt. Verwenden Sie dazu die Datei `cities.csv`, die Sie im Ordner dieser Klausur finden. Diese enthält 40 Datensätze von Städten, in was für einem Land diese Städte liegen, die Anzahl der Bewohner und die Größe der Fläche, die die Städte einnehmen. So gibt zum Beispiel der Datensatz `Vienna;Austria;2400000;613.5` neben der Stadt (\"Vienna\") und dem Land (\"Austria\") auch die Bevölkerungsgröße (2400000 Bewohner) und die Größe der Fläche der Stadt (613.5 \\$km^2\\$) an.\n",
    "\n",
    "Der Benutzer soll als Kommandozeilenparameter eine beliebig lange Liste von Ländern angeben können. Es soll dann für jedes angegebene Land die Stadt mit der größten Bevölkerungsdichte (Bewohner pro \\$km^2\\$) (mit genau 2 Nachkommastellen!) ausgegeben werden.\n",
    "Hier ein beispielhafter Programmaufruf inklusive Ausgabe:<br/>\n",
    "\n",
    "- Aufruf: <br/>`./cities Australia Italy`.<br/>\n",
    "- Ausgabe: <br/>`Italy: Asti with 3400.57 people per km2`<br/>\n",
    "`Australia: Richmond with 2528.23 people per km2`<br/>\n",
    "<br/>\n",
    "\n",
    "### Es gilt zu beachten:\n",
    "\n",
    "- Die Reihenfolge der Ausgabe soll der **umgekehrten** Reihenfolge der Eingabeparameter entsprechen. Wird also `Australia` zuerst eingegeben, soll auch dessen Ausgabe als letztes erscheinen (siehe Ausgabe oben).\n",
    "\n",
    "\n",
    "- Sollte die Datei `cities.csv` plötzlich mehr oder weniger als 40 Datensätze beinhalten, dann darf Ihr Programm nicht abstürzen. Überzählige Zeilen können aber ignoriert werden.\n",
    "\n",
    "\n",
    "- Ihr Programm sollte auch bei ungültigen Zeilen (z.B. bei fehlenden Daten) nicht abstürzen. Ungültige Zeilen können auch ignoriert werden.\n",
    "\n",
    "\n",
    "- Wenn die Datei `cities.csv` nicht zum Lesen geöffnet werden kann, dann soll eine Fehlermeldung auf `stderr` ausgegeben, und das Programm mit einem Exit-Code ungleich 0 beendet werden. __Wichtig:__ Die Fehlermeldung muss das Wort \"Lesefehler\" enthalten.\n",
    "\n",
    "\n",
    "- Wird kein Kommandozeilenparameter angegeben, dann soll eine Fehlermeldung auf `stderr` ausgegeben, und das Programm mit einem Exit-Code ungleich 0 beendet werden. __Wichtig:__ Die Fehlermeldung muss das Wort \"Eingabefehler\" enthalten.\n",
    "\n",
    "\n",
    "- Wird ein Land, welches im Datensatz nicht existiert, als Kommandozeilenparameter angegeben, soll dies dem Nutzer durch die Nachricht `Country '<Eingabe aus Eingabeparameter>' not found` mitgeteilt werden (wie im folgenden Beispiel):\n",
    "  - Aufruf: <br/>`./cities Australia China Italy`.<br/>\n",
    "  - Ausgabe: <br/>`Italy: Asti with 3400.57 people per km2`<br/>\n",
    "  `Country 'China' not found`<br/>\n",
    "`Australia: Richmond with 2528.23 people per km2`<br/>\n",
    "<br/>\n",
    "\n",
    "- Sorgen Sie dafür, dass bei Beendigung des Programms alle benötigten Ressourcen explizit wieder freigegeben werden.\n",
    "\n",
    "\n",
    "- Vermeiden Sie Umlaute, Sonderzeichen o.ä. so weit wie möglich, um Kompatibilitätsproblemen zwischen Windows und Linux vorzubeugen.\n",
    "\n",
    "\n",
    "### Hilfestellung für eine mögliche Herangehensweise:\n",
    "<div class=\"alert alert-block alert-info\">\n",
    "    <b>Hinweis:</b> Sie müssen sich <b><u>NICHT</u></b> an diesen Ablauf halten - wichtig ist nur, dass Ihr Programm den oberhalb präsentierten Angaben gerecht wird. Sehen Sie den folgenden Abschnitt lediglich als Hilfestellung an, um die Aufgabe in kleinere Einheiten zerlegen zu können.\n",
    "</div>\n",
    "\n",
    "(1) Erstellen Sie zunächst die `main()`-Funktion, lesen sie die Kommandozeilenparameter ein und überprüfen Sie diese auf ihre Richtigkeit.\n",
    "<div style='height: 15px';></div>\n",
    "(2) Erstellen Sie eine Struktur mit passenden Feldern, um die Daten der Städte speichern zu können.\n",
    "<div style='height: 15px';></div>\n",
    "(3) Implementieren Sie eine Funktion, welche die Daten der Städte aus der Datei liest und in der zuvor erstellten Struktur speichert. Erzeugen Sie hierfür ein Array ausreichender Größe für 40 Datensätzen. Sie müssen die Array-Größe nicht dynamisch anpassen.\n",
    "<div style='height: 15px';></div>\n",
    "(4) Implementieren Sie eine Funktion, welche für ein gegebenes Land die Stadt mit der größten Bevölkerungsdichte und die Bevölkerungsdichte selber zurückgibt.\n",
    "<div style='height: 15px';></div>\n",
    "(5) Führen Sie die in den Schritten 1-4 erstellten Bestandteile zu einem funktionsfähigen Programm zusammen.\n",
    "\n",
    "\n",
    "\n",
    "### Hinweis:\n",
    "\n",
    "- Die Datensätze wurden zufällig erstellt. Daher stimmen die Daten nicht mit den Daten von den realen Städten überein.\n",
    "\n",
    "\n"
   ]
  },
  {
   "cell_type": "code",
   "execution_count": null,
   "metadata": {
    "nbgrader": {
     "cell_type": "code",
     "checksum": "bb86e4daee9b89601caac3e33f384b1e",
     "grade": false,
     "grade_id": "cell-f24fe38c24023632",
     "locked": false,
     "schema_version": 3,
     "solution": true,
     "task": false
    }
   },
   "outputs": [],
   "source": [
    "%%bash\n",
    "\n",
    "# Schreiben Sie in diese Zelle den Befehl der dafür nötig ist um Ihr Programm zu kompilieren.\n",
    "# Beachten Sie dabei, dass der Name Ihrer Quellcode-Datei \"cities.c\" sein sollte.\n",
    "# Beachten Sie dabei, dass der Name Ihres ausführbaren Programms \"cities\" sein sollte.\n",
    "\n",
    "gcc -Wall -Werror -o cities cities.c"
   ]
  },
  {
   "cell_type": "code",
   "execution_count": null,
   "metadata": {
    "nbgrader": {
     "cell_type": "code",
     "checksum": "905ec2d3786c4c1fc0c31fbd3c0e09a1",
     "grade": true,
     "grade_id": "cell-dd088ae9c4d250fb",
     "locked": false,
     "points": 0,
     "schema_version": 3,
     "solution": true,
     "task": false
    }
   },
   "outputs": [],
   "source": [
    "# Weisen Sie der untenstehenden Variable den Wert True zu, sobald Sie die Aufgabe erfolgreich erledigt haben!\n",
    "\n",
    "# Datentyp: bool\n",
    "exercise_6_1_solved = True"
   ]
  },
  {
   "cell_type": "code",
   "execution_count": null,
   "metadata": {
    "deletable": false,
    "editable": false,
    "hide_input": true,
    "nbgrader": {
     "cell_type": "code",
     "checksum": "111ac6857d9f597bb427ee51209f2807",
     "grade": true,
     "grade_id": "cell-d88520d2b36f1719",
     "locked": true,
     "points": 0,
     "schema_version": 3,
     "solution": false,
     "task": false
    },
    "run_control": {
     "frozen": true
    }
   },
   "outputs": [],
   "source": [
    "executable_name = \"cities\"\n",
    "source_files = [\"cities.c\"]\n",
    "cpp_flags = []"
   ]
  },
  {
   "cell_type": "code",
   "execution_count": null,
   "metadata": {
    "deletable": false,
    "editable": false,
    "hide_input": true,
    "nbgrader": {
     "cell_type": "code",
     "checksum": "cc34f9acbd9ec5bb5997f68280afa47e",
     "grade": true,
     "grade_id": "cell-c224cfcaba5d4cde",
     "locked": true,
     "points": 11,
     "schema_version": 3,
     "solution": false,
     "task": false
    },
    "run_control": {
     "frozen": true
    }
   },
   "outputs": [],
   "source": [
    "@jagl.testcase(\"1\", desc=\"Exercise Solved\")\n",
    "def testcase_1_1(result, suite, case):\n",
    "    varname = \"exercise_6_1_solved\"\n",
    "    result.setSucceeded()\n",
    "    jagl.check_variable_exists_and_has_type(result, globals(), varname, bool)\n",
    "    if result.isSucceeded():\n",
    "        if eval(varname):\n",
    "            result.setSucceeded(\"Exercise solved.\")\n",
    "        else:\n",
    "            result.setFailed(\"Exercise not solved.\")"
   ]
  },
  {
   "cell_type": "code",
   "execution_count": null,
   "metadata": {
    "deletable": false,
    "editable": false,
    "hide_input": true,
    "nbgrader": {
     "cell_type": "code",
     "checksum": "1b5f0254c986795c8c96397ac2bd75e8",
     "grade": true,
     "grade_id": "cell-5d0ae68b5c3a383b",
     "locked": true,
     "points": 11,
     "schema_version": 3,
     "solution": false,
     "task": false
    },
    "run_control": {
     "frozen": true
    }
   },
   "outputs": [],
   "source": [
    "@jagl.testcase(\"2\", desc=\"Compiling program\", deps=[\"1\"])\n",
    "def testcase_1_2(result, suite, case):\n",
    "    if os.path.isfile(executable_name):\n",
    "        result.setSucceeded(\"The program could be compiled successfully.\")\n",
    "        \n",
    "    else:\n",
    "        res = jagl.exec_bin(\"gcc\", [\"-o\", executable_name] + source_files + cpp_flags)\n",
    "        if res.state == jagl.ExecutionResult.SUCCESS:\n",
    "            stdout = jagl.bytes_decode(res.stdout).strip()\n",
    "            stderr = jagl.bytes_decode(res.stderr).strip()\n",
    "            if res.exitCode == 0:\n",
    "                if os.path.isfile(executable_name):\n",
    "                    result.setSucceeded(\"The program could be compiled successfully.\")\n",
    "                else:\n",
    "                    result.setFailed(\"gcc was executed successfully, but I couldn't find an executable.\")\n",
    "                if len(stderr) > 0:\n",
    "                    result.setSucceeded([\"However, there were warnings.\"] + stderr.split(\"\\n\"))\n",
    "            else:\n",
    "                result.setFailed([\"The program could not be compiled:\"] + stderr.split(\"\\n\"))\n",
    "        elif res.state == jagl.ExecutionResult.NOTFOUND:\n",
    "            result.setFailed(\"gcc could not be found. Please inform your course instructor.\")\n",
    "        elif res.state == jagl.ExecutionResult.TIMEOUT:\n",
    "            result.setFailed(\"Timeout while calling gcc. Please inform your course instructor.\")\n",
    "        elif res.state == jagl.ExecutionResult.ERROR:\n",
    "            result.setFailed(f'Unknown error during execution of gcc: {str(res.error)}. Please inform your course instructor.')"
   ]
  },
  {
   "cell_type": "code",
   "execution_count": null,
   "metadata": {
    "deletable": false,
    "editable": false,
    "hide_input": true,
    "nbgrader": {
     "cell_type": "code",
     "checksum": "602c22d289657f85356d3649e3ca1365",
     "grade": true,
     "grade_id": "cell-2ab22ef272caf062",
     "locked": true,
     "points": 11,
     "schema_version": 3,
     "solution": false,
     "task": false
    },
    "run_control": {
     "frozen": true
    }
   },
   "outputs": [],
   "source": [
    "@jagl.testcase(\"3\", desc=\"Executing program\", deps=[\"2\"])\n",
    "def testcase_1_3(result, suite, case):\n",
    "    execresult = jagl.exec_bin(\"./\" + executable_name, [\"Australia\", \"Italy\", \"Germany\", \"USA\"])\n",
    "    jagl.check_execution_result(result, execresult, checkExitCode = False)\n",
    "    if execresult.exitCode is not None:\n",
    "        if execresult.exitCode == -11:\n",
    "            result.setFailed(\"Program caused a segmentation fault.\")\n",
    "        elif execresult.exitCode < 0:\n",
    "            result.setFailed(f\"Program was abnormally terminated (Signal: {-execresult.exitCode})\")\n",
    "        elif execresult.exitCode > 0:\n",
    "            result.setFailed(f\"Program returned an exit code other than 0 (Exit Code: {execresult.exitCode})\")"
   ]
  },
  {
   "cell_type": "code",
   "execution_count": null,
   "metadata": {
    "deletable": false,
    "editable": false,
    "hide_input": true,
    "nbgrader": {
     "cell_type": "code",
     "checksum": "db172f4896264ba5d25c2113cb0cff2f",
     "grade": true,
     "grade_id": "cell-e48b982fc6269ec3",
     "locked": true,
     "points": 0,
     "schema_version": 3,
     "solution": false,
     "task": false
    },
    "run_control": {
     "frozen": true
    }
   },
   "outputs": [],
   "source": []
  },
  {
   "cell_type": "code",
   "execution_count": null,
   "metadata": {
    "deletable": false,
    "editable": false,
    "hide_input": true,
    "nbgrader": {
     "cell_type": "code",
     "checksum": "9d39aacf0d8df8216e3926ef86ff6074",
     "grade": true,
     "grade_id": "cell-457d698c2e123d18",
     "locked": true,
     "points": 0,
     "schema_version": 3,
     "solution": false,
     "task": false
    },
    "run_control": {
     "frozen": true
    }
   },
   "outputs": [],
   "source": []
  },
  {
   "cell_type": "code",
   "execution_count": null,
   "metadata": {
    "deletable": false,
    "editable": false,
    "hide_input": true,
    "nbgrader": {
     "cell_type": "code",
     "checksum": "37396f193aa1637c80aada8e24464658",
     "grade": true,
     "grade_id": "cell-90a3c0ed75407fb5",
     "locked": true,
     "points": 0,
     "schema_version": 3,
     "solution": false,
     "task": false
    },
    "run_control": {
     "frozen": true
    }
   },
   "outputs": [],
   "source": []
  },
  {
   "cell_type": "code",
   "execution_count": null,
   "metadata": {
    "deletable": false,
    "editable": false,
    "hide_input": true,
    "nbgrader": {
     "cell_type": "code",
     "checksum": "7d0a5408467cdb2cf0f9370af3ea6b56",
     "grade": true,
     "grade_id": "cell-9de645277c3bf928",
     "locked": true,
     "points": 0,
     "schema_version": 3,
     "solution": false,
     "task": false
    },
    "run_control": {
     "frozen": true
    }
   },
   "outputs": [],
   "source": [
    "# new test suite\n",
    "jagl.testsuite_begin(\"Exercise 2\")\n",
    "\n",
    "# delete all build artifacts\n",
    "jagl.remove_paths(files=[\"products\", \"*.o\"])"
   ]
  },
  {
   "cell_type": "markdown",
   "metadata": {
    "deletable": false,
    "editable": false,
    "hide_input": true,
    "nbgrader": {
     "cell_type": "markdown",
     "checksum": "30bc991940e7ac30b0e678677eeb48d6",
     "grade": false,
     "grade_id": "cell-aed9a49b2e2191cd",
     "locked": true,
     "schema_version": 3,
     "solution": false,
     "task": false
    },
    "run_control": {
     "frozen": true
    }
   },
   "source": [
    "---\n",
    "## 6.2 Klausur vom vorletzten Jahr: Datenbank für Gebrauchtwagen (33%)\n",
    "\n",
    "Ein Gebrauchtwagenhändler führt eine Liste mit allen verfügbaren Gebrauchtwagen. Da es ihm mit der Zeit zu mühsam geworden ist, ständig manuell in dieser Liste nach passenden Autos zu suchen, hat er Sie beauftragt, ein entsprechendes Programm zu implementieren, dass anhand von gegebenen Kriterien nach passenden Autos in dieser Liste sucht.\n",
    "\n",
    "Die Liste der Gebrauchtwagen ist in der Datei `gebrauchtwagen.csv` (zu finden im Ordner dieser Klausur) gespeichert. Die Datei enthält 42 Datensätze in der Form `<Marke>:<Modell>:<Baujahr>:<Kilometerstand>:<Verkaufspreis>:<Liste der Zusatzausstattungen>`. Die Liste der Zusatzausstattungen enthält zwischen 0 und 6 Zusatzausstattungen, die durch das Rautezeichen `#` getrennt sind. So repräsentiert zum Beispiel der Datensatz `VW:Golf:1993:469928:33806.57:Schiebedach#Automatikgetriebe#Klimaanlage` einen VW Golf, Baujahr 1993, mit einen Kilometerstand von 469928 km und einen Verkaufspreis von 33806.57 Euro. Dieser VW Golf hat drei Zusatzausstattungen, nämlich ein Schiebedach, ein Automatikgetriebe und eine Klimaanlage.\n",
    "\n",
    "Der Benutzer soll als Kommandozeilenparameter ein Mindestbaujahr (erforderlich), einen maximalen Preis pro Kilometer (erforderlich, berechnet sich aus dem Verkaufspreis dividiert durch den Kilometerstand) und eine Liste an gewünschten Zusatzausstattungen angeben können (optional, d.h. kann auch weggelassen werden). Es soll dann eine Liste von Gebrauchtwagen ausgegeben werden, deren Baujahr größer oder gleich dem angegebenen Mindestbaujahr und deren Preis pro Kilometer kleiner oder gleich dem angegebenen maximalen Preis pro Kilometer ist und die alle angebenen Zusatzausstattungen mitbringen. Die Reihenfolge der Ausgabe soll der **umgekehrten** Reihenfolge der Datensätze in der Datei entsprechen.\n",
    "\n",
    "Hier ein beispielhafter Programmaufruf inklusive Ausgabe:<br/>\n",
    "\n",
    "- Aufruf: <br/>`./usedcars 2010 0.1 Spurassistent`<br/>\n",
    "- Ausgabe: <br/>\n",
    "`Renault Panda, Baujahr 2017, Kilometerstand: 364250 km, Preis: 21434.31 Euro`<br/>\n",
    "&nbsp;&nbsp;&nbsp;&nbsp;`Zusatzausstattung: Freisprecheinrichtung, Spurassistent`<br/>\n",
    "`VW Panda, Baujahr 2010, Kilometerstand: 526619 km, Preis: 36413.43 Euro`<br/>\n",
    "&nbsp;&nbsp;&nbsp;&nbsp;`Zusatzausstattung: Spurassistent`<br/>\n",
    "<br/>\n",
    "\n",
    "Halten Sie sich bitte so nahe wie möglich an das im Beispiel verwendete Ausgabeformat. Geben Sie die Zusatzausstattungen in einer separaten Zeile aus, die 4 Leerzeichen eingerückt ist (wenn keine Zusatzausstattungen vorhanden sind, dann lassen sie die separate Zeile einfach weg).\n",
    "\n",
    "### Es gilt zu beachten:\n",
    "\n",
    "- Prinzipiell können Sie davon ausgehen, dass die Anzahl der Datensätze immer gleich bleibt. Sollte die Datei `gebrauchtwagen.csv` aber doch plötzlich mehr oder weniger als die angebene Anzahl an Datensätze beinhalten, dann darf Ihr Programm nicht abstürzen. Überzählige Zeilen können ignoriert werden.\n",
    "\n",
    "\n",
    "- Ihr Programm sollte auch bei ungültigen Zeilen (z.B. bei fehlenden Daten) nicht abstürzen. Ungültige Zeilen können ignoriert werden. Geben Sie aber eine entsprechende Fehlermeldung auf `stderr` aus, die die Zeilennummer enthält. __Wichtig:__ Die Fehlermeldung muss das Wort \"Zeilenfehler\" enthalten.\n",
    "\n",
    "\n",
    "- Wenn die Datei `gebrauchtwagen.csv` nicht geöffnet werden kann, dann soll eine Fehlermeldung auf `stderr` ausgegeben, und das Programm mit einem Exit-Code ungleich 0 beendet werden. __Wichtig:__ Die Fehlermeldung muss das Wort \"Lesefehler\" enthalten.\n",
    "\n",
    "\n",
    "- Werden keine bzw. zuwenig Kommandozeilenparameter angegeben, dann soll eine Fehlermeldung auf `stderr` ausgegeben, und das Programm mit einem Exit-Code ungleich 0 beendet werden. __Wichtig:__ Die Fehlermeldung muss das Wort \"Eingabefehler\" enthalten.\n",
    "\n",
    "\n",
    "- Wird eine ungültige Zahl (z.B. Buchstabenfolge anstatt einer Zahl bzw. Zahl, die auch Buchstaben enthält) als Kommandozeilenparameter angegeben, dann soll eine Fehlermeldung auf `stderr` ausgegeben, und das Programm mit einem Exit-Code ungleich 0 beendet werden. __Wichtig:__ Die Fehlermeldung muss das Wort \"Eingabefehler\" enthalten.\n",
    "\n",
    "\n",
    "- Wird ein falscher Zahlenbereich (z.B. negatives Jahr) als Kommandozeilenparameter angegeben, dann soll eine Fehlermeldung auf `stderr` ausgegeben, und das Programm mit einem Exit-Code ungleich 0 beendet werden. __Wichtig:__ Die Fehlermeldung muss das Wort \"Eingabefehler\" enthalten.\n",
    "\n",
    "\n",
    "- Sorgen Sie dafür, dass bei Beendigung des Programms alle benötigten Ressourcen explizit wieder freigegeben werden.\n",
    "\n",
    "\n",
    "- Vermeiden Sie Umlaute, Sonderzeichen o.ä. so weit wie möglich, um Kompatibilitätsproblemen zwischen Windows und Linux vorzubeugen.\n",
    "\n",
    "\n",
    "\n",
    "### Hilfestellung für eine mögliche Herangehensweise:\n",
    "\n",
    "<div class=\"alert alert-block alert-info\">\n",
    "    <b>Hinweis:</b> Sie müssen sich <b><u>NICHT</u></b> an diesen Ablauf halten - wichtig ist nur, dass Ihr Programm den oberhalb präsentierten Angaben gerecht wird. Sehen Sie den folgenden Abschnitt lediglich als Hilfestellung an, um die Aufgabe in kleinere Einheiten zerlegen zu können.\n",
    "</div>\n",
    "\n",
    "\n",
    "(1) Erstellen Sie zunächst die `main()`-Funktion, lesen sie die Kommandozeilenparameter ein und überprüfen Sie diese auf ihre Richtigkeit.\n",
    "\n",
    "\n",
    "<div style='height: 15px';></div>\n",
    "(2) Erstellen Sie eine Struktur mit passenden Feldern, um die Datensätze aus der Eingabedatei speichern zu können. Achten Sie dabei darauf, dass sie genügend Speicherplatz für die Zeichenketten vorsehen (Sie können davon ausgehen, dass keine Zeichenfolge länger als 64 Zeichen ist).\n",
    "\n",
    "\n",
    "<div style='height: 15px';></div>\n",
    "(3) Implementieren Sie eine Funktion für das Einlesen der Eingabedatei, welche die Daten in der zuvor erstellten Struktur speichert. Erzeugen Sie hierfür ein Array mit ausreichender Größe. Sie müssen die Array-Größe nicht dynamisch anpassen.\n",
    "\n",
    "\n",
    "<div style='height: 15px';></div>\n",
    "(4) Implementieren Sie eine Funktion, welche für jeden Datensatz überprüft, ob die angegebenen Bedingungen erfüllt sind (Mindestbaujahr, maximaler Preis pro Kilometer, gewünschte Zusatzausstattungen). Wenn ja, dann geben Sie die Fahrzeugdaten entsprechend aus. Achten Sie dabei auf die richtige Reihenfolge.\n",
    "\n",
    "\n",
    "<div style='height: 15px';></div>\n",
    "(5) Führen Sie die in den Schritten 1-4 erstellten Bestandteile zu einem funktionsfähigen Programm zusammen.\n",
    "\n",
    "\n",
    "### Hinweis:\n",
    "\n",
    "- Bei der Erstellung der Fahrzeugdaten wurde aus einer Liste von Automarken und -modellen zufällige Kombinationen ausgewählt und auch die weiteren Parameter wurden zufällig erstellt. Die Datensätze haben daher keinen Bezug auf real existierende Fahrzeuge und können unrealistische Parameter beinhalten."
   ]
  },
  {
   "cell_type": "code",
   "execution_count": null,
   "metadata": {
    "nbgrader": {
     "cell_type": "code",
     "checksum": "3ede580c3804707601764d2e63e8775e",
     "grade": false,
     "grade_id": "cell-c47b81f5df1b0ed9",
     "locked": false,
     "schema_version": 3,
     "solution": true,
     "task": false
    }
   },
   "outputs": [],
   "source": [
    "%%bash\n",
    "\n",
    "# Schreiben Sie in diese Zelle den Befehl der dafür nötig ist um Ihr Programm zu kompilieren.\n",
    "# Beachten Sie dabei, dass der Name Ihrer Quellcode-Datei \"usedcars.c\" sein sollte.\n",
    "# Beachten Sie dabei, dass der Name Ihres ausführbaren Programms \"usedcars\" sein sollte.\n",
    "\n",
    "gcc -Wall -Werror -o usedcars usedcars.c"
   ]
  },
  {
   "cell_type": "code",
   "execution_count": null,
   "metadata": {
    "nbgrader": {
     "cell_type": "code",
     "checksum": "4ce817261fe1ff0595f2409e7449e039",
     "grade": false,
     "grade_id": "cell-0e009610e976c6e8",
     "locked": false,
     "schema_version": 3,
     "solution": true,
     "task": false
    }
   },
   "outputs": [],
   "source": [
    "# Weisen Sie der untenstehenden Variable den Wert True zu, sobald Sie die Aufgabe erfolgreich erledigt haben!\n",
    "\n",
    "# Datentyp: bool\n",
    "exercise_6_2_solved = True"
   ]
  },
  {
   "cell_type": "code",
   "execution_count": null,
   "metadata": {
    "deletable": false,
    "editable": false,
    "hide_input": true,
    "nbgrader": {
     "cell_type": "code",
     "checksum": "ecd1826b907faf309ac9c9da09d6d5f8",
     "grade": true,
     "grade_id": "cell-56a19989066ad59c",
     "locked": true,
     "points": 0,
     "schema_version": 3,
     "solution": false,
     "task": false
    },
    "run_control": {
     "frozen": true
    }
   },
   "outputs": [],
   "source": [
    "executable_name = \"usedcars\"\n",
    "source_files = [\"usedcars.c\"]\n",
    "cpp_flags = []"
   ]
  },
  {
   "cell_type": "code",
   "execution_count": null,
   "metadata": {
    "deletable": false,
    "editable": false,
    "hide_input": true,
    "nbgrader": {
     "cell_type": "code",
     "checksum": "c5e5db6f06a9f49b174cbdd23604dc16",
     "grade": true,
     "grade_id": "cell-1e3a5b2353e782b6",
     "locked": true,
     "points": 11,
     "schema_version": 3,
     "solution": false,
     "task": false
    },
    "run_control": {
     "frozen": true
    }
   },
   "outputs": [],
   "source": [
    "@jagl.testcase(\"1\", desc=\"Exercise Solved\")\n",
    "def testcase_2_1(result, suite, case):\n",
    "    varname = \"exercise_6_2_solved\"\n",
    "    result.setSucceeded()\n",
    "    jagl.check_variable_exists_and_has_type(result, globals(), varname, bool)\n",
    "    if result.isSucceeded():\n",
    "        if eval(varname):\n",
    "            result.setSucceeded(\"Exercise solved.\")\n",
    "        else:\n",
    "            result.setFailed(\"Exercise not solved.\")"
   ]
  },
  {
   "cell_type": "code",
   "execution_count": null,
   "metadata": {
    "deletable": false,
    "editable": false,
    "hide_input": true,
    "nbgrader": {
     "cell_type": "code",
     "checksum": "b9f8e6a274dec99d61da74c740d69da4",
     "grade": true,
     "grade_id": "cell-8987a7c36961506b",
     "locked": true,
     "points": 11,
     "schema_version": 3,
     "solution": false,
     "task": false
    },
    "run_control": {
     "frozen": true
    }
   },
   "outputs": [],
   "source": [
    "@jagl.testcase(\"2\", desc=\"Compiling program\", deps=[\"1\"])\n",
    "def testcase_2_2(result, suite, case):\n",
    "    if os.path.isfile(executable_name):\n",
    "        result.setSucceeded(\"The program could be compiled successfully.\")\n",
    "        \n",
    "    else:\n",
    "        res = jagl.exec_bin(\"gcc\", [\"-o\", executable_name] + source_files + cpp_flags)\n",
    "        if res.state == jagl.ExecutionResult.SUCCESS:\n",
    "            stdout = jagl.bytes_decode(res.stdout).strip()\n",
    "            stderr = jagl.bytes_decode(res.stderr).strip()\n",
    "            if res.exitCode == 0:\n",
    "                if os.path.isfile(executable_name):\n",
    "                    result.setSucceeded(\"The program could be compiled successfully.\")\n",
    "                else:\n",
    "                    result.setFailed(\"gcc was executed successfully, but I couldn't find an executable.\")\n",
    "                if len(stderr) > 0:\n",
    "                    result.setSucceeded([\"However, there were warnings.\"] + stderr.split(\"\\n\"))\n",
    "            else:\n",
    "                result.setFailed([\"The program could not be compiled:\"] + stderr.split(\"\\n\"))\n",
    "        elif res.state == jagl.ExecutionResult.NOTFOUND:\n",
    "            result.setFailed(\"gcc could not be found. Please inform your course instructor.\")\n",
    "        elif res.state == jagl.ExecutionResult.TIMEOUT:\n",
    "            result.setFailed(\"Timeout while calling gcc. Please inform your course instructor.\")\n",
    "        elif res.state == jagl.ExecutionResult.ERROR:\n",
    "            result.setFailed(f'Unknown error during execution of gcc: {str(res.error)}. Please inform your course instructor.')"
   ]
  },
  {
   "cell_type": "code",
   "execution_count": null,
   "metadata": {
    "deletable": false,
    "editable": false,
    "hide_input": true,
    "nbgrader": {
     "cell_type": "code",
     "checksum": "c7985f94bad533be34a937a0b8b879e9",
     "grade": true,
     "grade_id": "cell-3aaeac85f198f4bb",
     "locked": true,
     "points": 11,
     "schema_version": 3,
     "solution": false,
     "task": false
    },
    "run_control": {
     "frozen": true
    }
   },
   "outputs": [],
   "source": [
    "@jagl.testcase(\"3\", desc=\"Executing program\", deps=[\"2\"])\n",
    "def testcase_2_3(result, suite, case):\n",
    "    execresult = jagl.exec_bin(\"./\" + executable_name, [\"2010\", \"0.1\", \"Spurassistent\"], None, timeout = 30)\n",
    "    jagl.check_execution_result(result, execresult, checkExitCode = False)\n",
    "    if execresult.exitCode is not None:\n",
    "        if execresult.exitCode == -11:\n",
    "            result.setFailed(\"Program caused a segmentation fault.\")\n",
    "        elif execresult.exitCode < 0:\n",
    "            result.setFailed(f\"Program was abnormally terminated (Signal: {-execresult.exitCode})\")\n",
    "        elif execresult.exitCode > 0:\n",
    "            result.setFailed(f\"Program returned an exit code other than 0 (Exit Code: {execresult.exitCode})\")"
   ]
  },
  {
   "cell_type": "code",
   "execution_count": null,
   "metadata": {
    "deletable": false,
    "editable": false,
    "hide_input": true,
    "nbgrader": {
     "cell_type": "code",
     "checksum": "7ac1723179ac6dab21ed7fbeafcfe699",
     "grade": true,
     "grade_id": "cell-b350a559aadf0bf4",
     "locked": true,
     "points": 0,
     "schema_version": 3,
     "solution": false,
     "task": false
    },
    "run_control": {
     "frozen": true
    }
   },
   "outputs": [],
   "source": []
  },
  {
   "cell_type": "code",
   "execution_count": null,
   "metadata": {
    "deletable": false,
    "editable": false,
    "hide_input": true,
    "nbgrader": {
     "cell_type": "code",
     "checksum": "8e2b373ebc2d5f1dfc338eaa349d52ea",
     "grade": true,
     "grade_id": "cell-3263443a9471de44",
     "locked": true,
     "points": 0,
     "schema_version": 3,
     "solution": false,
     "task": false
    },
    "run_control": {
     "frozen": true
    }
   },
   "outputs": [],
   "source": []
  },
  {
   "cell_type": "code",
   "execution_count": null,
   "metadata": {
    "deletable": false,
    "editable": false,
    "hide_input": true,
    "nbgrader": {
     "cell_type": "code",
     "checksum": "e6011f0063492ad61249e7023dd53a5c",
     "grade": true,
     "grade_id": "cell-0db6c458c6e1e2d8",
     "locked": true,
     "points": 0,
     "schema_version": 3,
     "solution": false,
     "task": false
    },
    "run_control": {
     "frozen": true
    }
   },
   "outputs": [],
   "source": []
  },
  {
   "cell_type": "code",
   "execution_count": null,
   "metadata": {
    "deletable": false,
    "editable": false,
    "hide_input": true,
    "nbgrader": {
     "cell_type": "code",
     "checksum": "d0736560e42e75ffc83bc2d3df9f05fd",
     "grade": true,
     "grade_id": "cell-8b9ec97613762b11",
     "locked": true,
     "points": 0,
     "schema_version": 3,
     "solution": false,
     "task": false
    },
    "run_control": {
     "frozen": true
    }
   },
   "outputs": [],
   "source": [
    "# new test suite\n",
    "jagl.testsuite_begin(\"Exercise 3\")\n",
    "\n",
    "# delete all build artifacts\n",
    "jagl.remove_paths(files=[\"snow\", \"*.o\"])"
   ]
  },
  {
   "cell_type": "markdown",
   "metadata": {
    "deletable": false,
    "editable": false,
    "nbgrader": {
     "cell_type": "markdown",
     "checksum": "ae28289f54bdcc089e0ca1e490827f1d",
     "grade": false,
     "grade_id": "cell-2b4117145717a77c",
     "locked": true,
     "schema_version": 3,
     "solution": false
    },
    "run_control": {
     "frozen": true
    }
   },
   "source": [
    "---\n",
    "## 6.3 Schneefall (34%)\n",
    "\n",
    "Implementieren Sie ein Programm, welches Schneefall-Daten für verschiedene Tiroler Ortschaften aus Dateien einliest, verarbeitet und in bestimmter Form wieder in eine Datei ausgibt. Sie finden im Ordner dieses Übungsblattes den Unterordner `snow_data`. In diesem Ordner gibt es genau 8 Textdokumente, wobei jedes dieser Dokumente Schneefall-Daten für 8 verschiedene Tiroler Ortschaften im Format `Ortsname;Schneefall-Menge (in cm)` enthält. In Datei `1.txt` befinden sich die Datensätze für Tag 1, in Datei `2.txt` jene von Tag 2, und so weiter. Der Benutzer soll einen bestimmten Ort und einen bestimmten Tag angeben können. Als Ausgabe sollen dann die jeweiligen Schneefall-Mengen von diesem Ort an allen vorherigen Tagen (inklusive des angegebenen Tages), sowie die Summe dieser Schneefall-Mengen, in ein Textdokument geschrieben werden. Hier ein beispielhafter Programmablauf:<br/>\n",
    "\n",
    "`> Geben Sie einen Ort an:`<br/>\n",
    "`Ischgl`<br/>\n",
    "`> Geben Sie einen Tag an:`<br/>\n",
    "`3`<br/>\n",
    "`> Die Ergebnisse Ihrer Anfrage wurden erfolgreich in eine Datei geschrieben.`<br/>\n",
    "\n",
    "So sollte der Inhalt der Ausgabedatei für obige Eingaben aussehen:<br/>\n",
    "`Tag 1: 5`<br/>\n",
    "`Tag 2: 23`<br/>\n",
    "`Tag 3: 3`<br/>\n",
    "`Summe: 31`<br/>\n",
    "\n",
    "Es gilt zu beachten:\n",
    "- Wird eine Ortschaft angegeben zu welcher keine Datensätze existieren, dann soll keine Ausgabedatei erzeugt werden. Zudem soll eine Fehlermeldung auf `stderr` ausgegeben, und das Programm mit einem Exit-Code ungleich 0 beendet, werden. __Wichtig:__ Die Fehlermeldung muss das Wort \"Eingabefehler\" enthalten.\n",
    "- Als korrekte Eingabe für den Tag sollen nur Integer-Werte zwischen 1 und 8 akzepiert werden (Eingaben wie `3xyz` oder `4.0` werden nicht akzeptiert). Bei jeglichen anderen Eingaben soll eine Fehlermeldung auf `stderr` ausgegeben, und das Programm mit einem Exit-Code ungleich 0 beendet, werden. __Wichtig:__ Die Fehlermeldung muss das Wort \"Eingabefehler\" enthalten.\n",
    "- Die Ausgabedatei soll ebenfalls im Ordner `snow_data` angelegt werden. Sie soll im Format `Ortsname_Tag.txt` benannt werden. Für obiges Beispiel wäre dies `Ischgl_3.txt`.\n",
    "- Wenn eine Eingabedatei nicht zum Lesen geöffnet werden kann, dann soll eine Fehlermeldung auf `stderr` ausgegeben, und das Programm mit einem Exit-Code ungleich 0 beendet, werden. __Wichtig:__ Die Fehlermeldung muss das Wort \"Lesefehler\" enthalten.\n",
    "- Wenn die Ausgabedatei nicht zum Schreiben geöffnet werden kann, dann soll eine Fehlermeldung auf `stderr` ausgegeben, und das Programm mit einem Exit-Code ungleich 0 beendet, werden. __Wichtig:__ Die Fehlermeldung muss das Wort \"Schreibfehler\" enthalten.\n",
    "- Der Inhalt der Ausgabedatei soll wie im obigen Beispiel formatiert werden. Wichtig dabei ist, dass jeder Eintrag in eine neue Zeile geschrieben wird und jede Zeile (außer jener mit der Summe) sowohl die Nummer des Tages als auch die entsprechende Schneefall-Menge enthält.\n",
    "- Falls Sie während Ihrer Implementierung eine Zeichenkette mit einem Integer konkatenieren möchten, dann können Sie dazu beispielsweise die Funktion [sprintf](http://openbook.rheinwerk-verlag.de/c_von_a_bis_z/016_c_ein_ausgabe_funktionen_023.htm#mje9fb10a998a98c8cd031e1e59f80a1af) aus der Header-Datei `stdio.h` verwenden.\n",
    "- Sobald das Lesen von bzw. das Schreiben in eine Datei abgeschlossen ist, muss diese durch den entsprechenden Befehl wieder geschlossen werden."
   ]
  },
  {
   "cell_type": "code",
   "execution_count": null,
   "metadata": {
    "nbgrader": {
     "cell_type": "code",
     "checksum": "a005e4c4897b9c345d5dc2ca97fc8430",
     "grade": false,
     "grade_id": "cell-4ab5c29de6d6b81b",
     "locked": false,
     "schema_version": 3,
     "solution": true
    }
   },
   "outputs": [],
   "source": [
    "%%bash\n",
    "\n",
    "# Schreiben Sie in diese Zelle den Befehl der dafür nötig ist um Ihr Programm zu kompilieren.\n",
    "# Beachten Sie dabei, dass der Name Ihrer Quellcode-Datei \"snow.c\" sein sollte.\n",
    "# Beachten Sie dabei, dass der Name Ihres ausführbaren Programms \"snow\" sein sollte.\n",
    "\n",
    "gcc -Wall -Werror -o snow snow.c"
   ]
  },
  {
   "cell_type": "code",
   "execution_count": null,
   "metadata": {
    "hide_input": false,
    "nbgrader": {
     "cell_type": "code",
     "checksum": "ffbfaad9abf1ee3355a71f265225769e",
     "grade": false,
     "grade_id": "cell-0f3e8c857547573a",
     "locked": false,
     "schema_version": 3,
     "solution": true,
     "task": false
    }
   },
   "outputs": [],
   "source": [
    "# Weisen Sie der untenstehenden Variable den Wert True zu, sobald Sie die Aufgabe erfolgreich erledigt haben!\n",
    "\n",
    "# Datentyp: bool\n",
    "exercise_6_3_solved = True"
   ]
  },
  {
   "cell_type": "code",
   "execution_count": null,
   "metadata": {
    "deletable": false,
    "editable": false,
    "hide_input": true,
    "nbgrader": {
     "cell_type": "code",
     "checksum": "8c92baed472c6e50de20bda794981563",
     "grade": true,
     "grade_id": "cell-9ce8816fe423d268",
     "locked": true,
     "points": 0,
     "schema_version": 3,
     "solution": false
    },
    "run_control": {
     "frozen": true
    }
   },
   "outputs": [],
   "source": [
    "executable_name = \"snow\"\n",
    "source_files = [\"snow.c\"]\n",
    "cpp_flags = []"
   ]
  },
  {
   "cell_type": "code",
   "execution_count": null,
   "metadata": {
    "deletable": false,
    "editable": false,
    "hide_input": true,
    "nbgrader": {
     "cell_type": "code",
     "checksum": "0f0a7cd04e09192578ddc73e1d7ce34f",
     "grade": true,
     "grade_id": "cell-32d11e23af2c6ad3",
     "locked": true,
     "points": 12,
     "schema_version": 3,
     "solution": false
    },
    "run_control": {
     "frozen": true
    }
   },
   "outputs": [],
   "source": [
    "@jagl.testcase(\"1\", desc=\"Exercise Solved\")\n",
    "def testcase_3_1(result, suite, case):\n",
    "    varname = \"exercise_6_3_solved\"\n",
    "    result.setSucceeded()\n",
    "    jagl.check_variable_exists_and_has_type(result, globals(), varname, bool)\n",
    "    if result.isSucceeded():\n",
    "        if eval(varname):\n",
    "            result.setSucceeded(\"Exercise solved.\")\n",
    "        else:\n",
    "            result.setFailed(\"Exercise not solved.\")"
   ]
  },
  {
   "cell_type": "code",
   "execution_count": null,
   "metadata": {
    "deletable": false,
    "editable": false,
    "hide_input": true,
    "nbgrader": {
     "cell_type": "code",
     "checksum": "7eb4d77e4c99ab528bfb9c17bb496fd5",
     "grade": true,
     "grade_id": "cell-9ef25a6c72264275",
     "locked": true,
     "points": 11,
     "schema_version": 3,
     "solution": false
    },
    "run_control": {
     "frozen": true
    }
   },
   "outputs": [],
   "source": [
    "@jagl.testcase(\"2\", desc=\"Compiling program\", deps=[\"1\"])\n",
    "def testcase_3_2(result, suite, case):\n",
    "    if os.path.isfile(executable_name):\n",
    "        result.setSucceeded(\"The program could be compiled successfully.\")\n",
    "        \n",
    "    else:\n",
    "        res = jagl.exec_bin(\"gcc\", [\"-o\", executable_name] + source_files + cpp_flags)\n",
    "        if res.state == jagl.ExecutionResult.SUCCESS:\n",
    "            stdout = jagl.bytes_decode(res.stdout).strip()\n",
    "            stderr = jagl.bytes_decode(res.stderr).strip()\n",
    "            if res.exitCode == 0:\n",
    "                if os.path.isfile(executable_name):\n",
    "                    result.setSucceeded(\"The program could be compiled successfully.\")\n",
    "                else:\n",
    "                    result.setFailed(\"gcc was executed successfully, but I couldn't find an executable.\")\n",
    "                if len(stderr) > 0:\n",
    "                    result.setSucceeded([\"However, there were warnings.\"] + stderr.split(\"\\n\"))\n",
    "            else:\n",
    "                result.setFailed([\"The program could not be compiled:\"] + stderr.split(\"\\n\"))\n",
    "        elif res.state == jagl.ExecutionResult.NOTFOUND:\n",
    "            result.setFailed(\"gcc could not be found. Please inform your course instructor.\")\n",
    "        elif res.state == jagl.ExecutionResult.TIMEOUT:\n",
    "            result.setFailed(\"Timeout while calling gcc. Please inform your course instructor.\")\n",
    "        elif res.state == jagl.ExecutionResult.ERROR:\n",
    "            result.setFailed(f'Unknown error during execution of gcc: {str(res.error)}. Please inform your course instructor.')"
   ]
  },
  {
   "cell_type": "code",
   "execution_count": null,
   "metadata": {
    "deletable": false,
    "editable": false,
    "hide_input": true,
    "nbgrader": {
     "cell_type": "code",
     "checksum": "7578a3e1917f5c5333d4b25dc16757d6",
     "grade": true,
     "grade_id": "cell-d57cfc9c9ffc5bee",
     "locked": true,
     "points": 11,
     "schema_version": 3,
     "solution": false
    },
    "run_control": {
     "frozen": true
    }
   },
   "outputs": [],
   "source": [
    "@jagl.testcase(\"3\", desc=\"Executing program\", deps=[\"2\"])\n",
    "def testcase_3_3(result, suite, case):\n",
    "    execresult = jagl.exec_bin(\"./\" + executable_name, [], \"Ischgl\\n3\\n\\n\", timeout = 30)\n",
    "    jagl.check_execution_result(result, execresult, checkExitCode = False)\n",
    "    if execresult.exitCode is not None:\n",
    "        if execresult.exitCode == -11:\n",
    "            result.setFailed(\"Program caused a segmentation fault.\")\n",
    "        elif execresult.exitCode < 0:\n",
    "            result.setFailed(f\"Program was abnormally terminated (Signal: {-execresult.exitCode})\")\n",
    "        elif execresult.exitCode > 0:\n",
    "            result.setFailed(f\"Program returned an exit code other than 0 (Exit Code: {execresult.exitCode})\")"
   ]
  },
  {
   "cell_type": "code",
   "execution_count": null,
   "metadata": {
    "deletable": false,
    "editable": false,
    "hide_input": true,
    "nbgrader": {
     "cell_type": "code",
     "checksum": "d7e7bda9ba1320e9bf1ef40536656400",
     "grade": true,
     "grade_id": "cell-5a7840aed63b6313",
     "locked": true,
     "points": 0,
     "schema_version": 3,
     "solution": false
    },
    "run_control": {
     "frozen": true
    }
   },
   "outputs": [],
   "source": []
  },
  {
   "cell_type": "code",
   "execution_count": null,
   "metadata": {
    "deletable": false,
    "editable": false,
    "hide_input": true,
    "nbgrader": {
     "cell_type": "code",
     "checksum": "22226e8deb3ac77da83d637e0c71d20e",
     "grade": true,
     "grade_id": "cell-a2b306cd564d28be",
     "locked": true,
     "points": 0,
     "schema_version": 3,
     "solution": false
    },
    "run_control": {
     "frozen": true
    }
   },
   "outputs": [],
   "source": []
  },
  {
   "cell_type": "code",
   "execution_count": null,
   "metadata": {
    "deletable": false,
    "editable": false,
    "hide_input": true,
    "nbgrader": {
     "cell_type": "code",
     "checksum": "156ca3448481f4ce26956acc5b6d6f21",
     "grade": true,
     "grade_id": "cell-a55753d262ddd5e8",
     "locked": true,
     "points": 0,
     "schema_version": 3,
     "solution": false,
     "task": false
    },
    "run_control": {
     "frozen": true
    }
   },
   "outputs": [],
   "source": []
  }
 ],
 "metadata": {
  "kernelspec": {
   "display_name": "Python 3 (ipykernel)",
   "language": "python",
   "name": "python3"
  },
  "language_info": {
   "codemirror_mode": {
    "name": "ipython",
    "version": 3
   },
   "file_extension": ".py",
   "mimetype": "text/x-python",
   "name": "python",
   "nbconvert_exporter": "python",
   "pygments_lexer": "ipython3",
   "version": "3.9.6"
  }
 },
 "nbformat": 4,
 "nbformat_minor": 2
}
