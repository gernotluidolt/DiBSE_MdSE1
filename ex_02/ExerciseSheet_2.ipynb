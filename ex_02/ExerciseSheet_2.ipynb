{
 "cells": [
  {
   "cell_type": "markdown",
   "metadata": {
    "deletable": false,
    "editable": false,
    "nbgrader": {
     "cell_type": "markdown",
     "checksum": "b9ce270d6d3b308a0a4803f8cc03638f",
     "grade": false,
     "grade_id": "cell-14bc8bc2e3f3b50b",
     "locked": true,
     "schema_version": 3,
     "solution": false
    },
    "run_control": {
     "frozen": true
    }
   },
   "source": [
    "---\n",
    "Stellen Sie bitte sicher, dass alles wie vorhergesehen läuft, bevor Sie dieses Übungsblatt abgeben. **Starten Sie den Kernel neu** (in der Menüleiste die Option Kernel$\\rightarrow$Restart auswählen) und **validieren** Sie anschließend das Übungsblatt (in der Menüleiste auf Validate klicken) um Rückmeldung zu eventuellen fehlenden oder fehlerhaften Eingaben zu erhalten. \n",
    "\n",
    "Füllen Sie alle Stellen im Übungsblatt aus, welche entweder `DEIN CODE HIER` oder \"DEINE ANTWORT HIER\" enthalten. Geben Sie unterhalb Ihren vollständigen Namen an.\n",
    "\n",
    "Wenn Sie Code-Bestandteile aus anderen Quellen (wie z.B. Stackoverflow) kopieren, dann machen sie den kopierten Code in ihrer Quellcodedatei kenntlich und fügen eine Referenz auf die Quelle als Kommentar hinzu.\n",
    "\n",
    "Wenn Sie die Aufgaben in einer Gruppe erledigen, dann fügen Sie die Namen aller Gruppenmitglieder in der nachfolgende Zelle zu `Name` und zusätzlich als Kommentar am Anfang Ihrer Quellcodedatei hinzu."
   ]
  },
  {
   "cell_type": "markdown",
   "metadata": {
    "deletable": false,
    "editable": false,
    "nbgrader": {
     "cell_type": "markdown",
     "checksum": "008460e9429099ecfb93dcd32bf095e8",
     "grade": false,
     "grade_id": "cell-8ae8fd1bec813ca4",
     "locked": true,
     "schema_version": 3,
     "solution": false
    },
    "run_control": {
     "frozen": true
    }
   },
   "source": [
    "---"
   ]
  },
  {
   "cell_type": "code",
   "execution_count": null,
   "metadata": {},
   "outputs": [],
   "source": [
    "NAME = \"Gernot Luidolt\""
   ]
  },
  {
   "cell_type": "markdown",
   "metadata": {
    "deletable": false,
    "editable": false,
    "nbgrader": {
     "cell_type": "markdown",
     "checksum": "c192b9832dd6a90237eec99f9da76301",
     "grade": false,
     "grade_id": "cell-4f279d8aadb7cf1a",
     "locked": true,
     "schema_version": 3,
     "solution": false
    },
    "run_control": {
     "frozen": true
    }
   },
   "source": [
    "---"
   ]
  },
  {
   "cell_type": "markdown",
   "metadata": {
    "deletable": false,
    "editable": false,
    "nbgrader": {
     "cell_type": "markdown",
     "checksum": "622d480475688eeecebf97ac87248301",
     "grade": false,
     "grade_id": "cell-fc298ae0d0ddd2e7",
     "locked": true,
     "schema_version": 3,
     "solution": false
    },
    "run_control": {
     "frozen": true
    }
   },
   "source": [
    "<table style=\"width: 100%\">\n",
    "    <tr style=\"background: #ffffff\">\n",
    "        <td style=\"padding-top:25px;width: 180px\"><img src=\"https://mci.edu/templates/mci/images/logo.svg\" alt=\"Logo\"></td>\n",
    "        <td style=\"width: 100%\">\n",
    "            <div style=\"text-align:right; width: 100%; text-align:right\"><font style=\"font-size:38px\"><b>Methoden der Softwareentwicklung I</b></font></div>\n",
    "            <div style=\"padding-top:0px; width: 100%; text-align:right\"><font size=\"4\"><b>WS 2023/24</b></font></div>\n",
    "        </td>\n",
    "    </tr>\n",
    "</table>"
   ]
  },
  {
   "cell_type": "markdown",
   "metadata": {
    "deletable": false,
    "editable": false,
    "nbgrader": {
     "cell_type": "markdown",
     "checksum": "61f690b7f9620e68e45e095214879d3a",
     "grade": false,
     "grade_id": "cell-849104d615b4fdbe",
     "locked": true,
     "schema_version": 3,
     "solution": false
    },
    "run_control": {
     "frozen": true
    }
   },
   "source": [
    "---\n",
    "# Übungsblatt 2"
   ]
  },
  {
   "cell_type": "code",
   "execution_count": null,
   "metadata": {
    "deletable": false,
    "editable": false,
    "hide_input": true,
    "nbgrader": {
     "cell_type": "code",
     "checksum": "c4fb87d0d43ac4a38e2cb469b5a56614",
     "grade": true,
     "grade_id": "cell-081869a9921bfb58",
     "locked": true,
     "points": 0,
     "schema_version": 3,
     "solution": false,
     "task": false
    },
    "run_control": {
     "frozen": true
    }
   },
   "outputs": [],
   "source": [
    "import jagl\n",
    "import os"
   ]
  },
  {
   "cell_type": "markdown",
   "metadata": {
    "deletable": false,
    "editable": false,
    "nbgrader": {
     "cell_type": "markdown",
     "checksum": "f0564898c4c5188b4fe31fcbec1ab4ec",
     "grade": false,
     "grade_id": "cell-1acaea690ca81fe2",
     "locked": true,
     "schema_version": 3,
     "solution": false
    },
    "run_control": {
     "frozen": true
    }
   },
   "source": [
    "---\n",
    "Abgabe bis <b>Sonntag, 10. Dezember 2023, 23:55 Uhr</b>"
   ]
  },
  {
   "cell_type": "markdown",
   "metadata": {
    "deletable": false,
    "editable": false,
    "nbgrader": {
     "cell_type": "markdown",
     "checksum": "17bdbd8a7edbae65b99c3d50c6e05e76",
     "grade": false,
     "grade_id": "cell-bc0c3a4366bc981f",
     "locked": true,
     "schema_version": 3,
     "solution": false
    },
    "run_control": {
     "frozen": true
    }
   },
   "source": [
    "---\n",
    "### Achtung:\n",
    "\n",
    "*Bitte speichern Sie Ihre Quellcode-Dateien (&ast;.c) im selben Ordner wie dieses Übungsblatt. Beachten Sie außerdem die Kommentare zur richtigen Benennung Ihrer Dateien. Nur so ist eine korrekte Abgabe und Auswertung Ihrer Lösungen möglich.*"
   ]
  },
  {
   "cell_type": "markdown",
   "metadata": {
    "deletable": false,
    "editable": false,
    "nbgrader": {
     "cell_type": "markdown",
     "checksum": "ca51eee8cbae15aee9b61c32c2ec5f4c",
     "grade": false,
     "grade_id": "cell-7490e34522869920",
     "locked": true,
     "schema_version": 3,
     "solution": false
    },
    "run_control": {
     "frozen": true
    }
   },
   "source": [
    "---\n",
    "*Bitte verwenden Sie für Ihre Lösungen einen ordentlichen Programmierstil. Vor allem auf eine korrekte Formatierung, aussagekräftige Variablennamen und ausführliche Kommentare sollte dabei Wert gelegt werden.*"
   ]
  },
  {
   "cell_type": "code",
   "execution_count": null,
   "metadata": {
    "deletable": false,
    "editable": false,
    "hide_input": true,
    "nbgrader": {
     "cell_type": "code",
     "checksum": "40d6413038b423c2fc9a4f70cce34232",
     "grade": true,
     "grade_id": "cell-b6c24bdcce6ba25d",
     "locked": true,
     "points": 0,
     "schema_version": 3,
     "solution": false
    },
    "run_control": {
     "frozen": true
    }
   },
   "outputs": [],
   "source": [
    "# new test suite\n",
    "jagl.testsuite_begin(\"Exercise 1\")\n",
    "\n",
    "# delete all build artifacts\n",
    "jagl.remove_paths(files=[\"pyramid2\", \"*.o\"])"
   ]
  },
  {
   "cell_type": "markdown",
   "metadata": {
    "deletable": false,
    "editable": false,
    "nbgrader": {
     "cell_type": "markdown",
     "checksum": "9ac89fab0b646ab388201895ff960099",
     "grade": false,
     "grade_id": "cell-13c4d6a721da9a73",
     "locked": true,
     "schema_version": 3,
     "solution": false
    },
    "run_control": {
     "frozen": true
    }
   },
   "source": [
    "---\n",
    "## 2.1 Beliebige Pyramide (20%)\n",
    "\n",
    "Nachdem Sie in Übungsblatt 1 ein Programm implementiert haben, welches Pyramiden aus Sternchen ausgegeben hat, ist es nun Ihre Aufgabe jenes Programm so abzuändern, sodass beliebig große Pyramiden ausgegeben werden können. Übergeben Sie dazu die Größe (= Anzahl Zeilen) der Pyramide als Kommandozeilenparameter an Ihr Programm. So soll beispielsweise eine Pyramide mit Kommandozeilenparameter 5 so aussehen:\n",
    "\n",
    "```\n",
    "    *  \n",
    "   ***\n",
    "  *****\n",
    " *******\n",
    "*********\n",
    "```\n",
    "\n",
    "Überprüfen Sie auch, ob der Benutzer tatsächlich einen Kommandozeilenparameter übergeben hat. Wenn nicht, dann geben Sie eine aussagekräftige Fehlermeldung aus und beenden das Programm mit einem Exit Code ungleich 0.\n",
    "\n",
    "Ihr Programm soll für jede natürliche Zahl eine gültige Ausgabe liefern. Achten Sie darauf, dass vor und nach der Pyramide keine leere Zeilen vorkommen. Implementieren Sie Ihr Programm in einer Daten namens `pyramid2.c`."
   ]
  },
  {
   "cell_type": "code",
   "execution_count": 1,
   "metadata": {
    "nbgrader": {
     "cell_type": "code",
     "checksum": "38dbcb349258179d43534c523dcac083",
     "grade": false,
     "grade_id": "cell-2c0e3b77878b835a",
     "locked": false,
     "schema_version": 3,
     "solution": true
    }
   },
   "outputs": [],
   "source": [
    "%%bash\n",
    "\n",
    "# Schreiben Sie in diese Zelle den Befehl der dafür nötig ist um Ihr Programm zu kompilieren.\n",
    "# Beachten Sie dabei, dass der Name Ihres ausführbaren Programms \"pyramid2\" sein sollte.\n",
    "\n",
    "gcc -Wall -Werror -o pyramid2 pyramid2.c"
   ]
  },
  {
   "cell_type": "code",
   "execution_count": 2,
   "metadata": {
    "nbgrader": {
     "cell_type": "code",
     "checksum": "8d629ca6d08cc14f6c65e35009d02e9a",
     "grade": false,
     "grade_id": "cell-baf62c3b63cab1de",
     "locked": false,
     "schema_version": 3,
     "solution": true,
     "task": false
    }
   },
   "outputs": [],
   "source": [
    "# Weisen Sie der untenstehenden Variable den Wert True zu, sobald Sie die Aufgabe erfolgreich erledigt haben!\n",
    "\n",
    "# Datentyp: bool\n",
    "exercise_2_1_solved = True"
   ]
  },
  {
   "cell_type": "code",
   "execution_count": 3,
   "metadata": {},
   "outputs": [
    {
     "name": "stdout",
     "output_type": "stream",
     "text": [
      "     *\n",
      "    ***\n",
      "   *****\n",
      "  *******\n",
      " *********\n",
      "***********\n"
     ]
    }
   ],
   "source": [
    "%%bash\n",
    "\n",
    "# Benutzen Sie diese Zelle um Ihr Ergebnis zu testen.\n",
    "# Damit diese Zelle ausgeführt werden kann, müssen Sie zuerst Ihr Programm erfolgreich kompilieren.\n",
    "\n",
    "./pyramid2 6"
   ]
  },
  {
   "cell_type": "code",
   "execution_count": null,
   "metadata": {
    "deletable": false,
    "editable": false,
    "hide_input": true,
    "nbgrader": {
     "cell_type": "code",
     "checksum": "8bee9822000c509740552dc692778f5d",
     "grade": true,
     "grade_id": "cell-43c57d8641079d0f",
     "locked": true,
     "points": 0,
     "schema_version": 3,
     "solution": false
    },
    "run_control": {
     "frozen": true
    }
   },
   "outputs": [],
   "source": [
    "executable_name = \"pyramid2\"\n",
    "source_files = [\"pyramid2.c\"]\n",
    "cpp_flags = []"
   ]
  },
  {
   "cell_type": "code",
   "execution_count": null,
   "metadata": {
    "deletable": false,
    "editable": false,
    "hide_input": true,
    "nbgrader": {
     "cell_type": "code",
     "checksum": "2f05737762ebda0fb882952bc85d1d7d",
     "grade": true,
     "grade_id": "cell-03bcee6a86bc2374",
     "locked": true,
     "points": 5,
     "schema_version": 3,
     "solution": false
    },
    "run_control": {
     "frozen": true
    }
   },
   "outputs": [],
   "source": [
    "@jagl.testcase(\"1\", desc=\"Exercise Solved\")\n",
    "def testcase_2_1(result, suite, case):\n",
    "    varname = \"exercise_2_1_solved\"\n",
    "    result.setSucceeded()\n",
    "    jagl.check_variable_exists_and_has_type(result, globals(), varname, bool)\n",
    "    if result.isSucceeded():\n",
    "        if eval(varname):\n",
    "            result.setSucceeded(\"Exercise solved.\")\n",
    "        else:\n",
    "            result.setFailed(\"Exercise not solved.\")"
   ]
  },
  {
   "cell_type": "code",
   "execution_count": null,
   "metadata": {
    "deletable": false,
    "editable": false,
    "hide_input": true,
    "nbgrader": {
     "cell_type": "code",
     "checksum": "b444727496152eaca8f36f9eac4383fb",
     "grade": true,
     "grade_id": "cell-c3da20cb63a09d5d",
     "locked": true,
     "points": 0,
     "schema_version": 3,
     "solution": false,
     "task": false
    },
    "run_control": {
     "frozen": true
    }
   },
   "outputs": [],
   "source": [
    "@jagl.testcase(\"1b\", desc=\"Check source files\", deps=[\"1\"])\n",
    "def testcase_1_1b(result, suite, case):\n",
    "    result.setSucceeded()\n",
    "    jagl.check_path_exists(result, files=source_files, message = \"Did you upload the source files?\")\n",
    "    if result.isSucceeded():\n",
    "        result.addMessage(\"Source files were found.\")"
   ]
  },
  {
   "cell_type": "code",
   "execution_count": null,
   "metadata": {
    "deletable": false,
    "editable": false,
    "hide_input": true,
    "nbgrader": {
     "cell_type": "code",
     "checksum": "b0789050e7fc916ea48e6868d7ed6598",
     "grade": true,
     "grade_id": "cell-e633af8eaea00662",
     "locked": true,
     "points": 5,
     "schema_version": 3,
     "solution": false
    },
    "run_control": {
     "frozen": true
    }
   },
   "outputs": [],
   "source": [
    "@jagl.testcase(\"2\", desc=\"Compiling program\", deps=[\"1b\"])\n",
    "def testcase_1_2(result, suite, case):\n",
    "    if os.path.isfile(executable_name):\n",
    "        result.setSucceeded(\"The program could be compiled successfully.\")\n",
    "        \n",
    "    else:\n",
    "        res = jagl.exec_bin(\"gcc\", [\"-o\", executable_name] + source_files + cpp_flags)\n",
    "        if res.state == jagl.ExecutionResult.SUCCESS:\n",
    "            stdout = jagl.bytes_decode(res.stdout).strip()\n",
    "            stderr = jagl.bytes_decode(res.stderr).strip()\n",
    "            if res.exitCode == 0:\n",
    "                if os.path.isfile(executable_name):\n",
    "                    result.setSucceeded(\"The program could be compiled successfully.\")\n",
    "                else:\n",
    "                    result.setFailed(\"gcc was executed successfully, but I couldn't find an executable.\")\n",
    "                if len(stderr) > 0:\n",
    "                    result.setSucceeded([\"However, there were warnings.\"] + stderr.split(\"\\n\"))\n",
    "            else:\n",
    "                result.setFailed([\"The program could not be compiled:\"] + stderr.split(\"\\n\"))\n",
    "        elif res.state == jagl.ExecutionResult.NOTFOUND:\n",
    "            result.setFailed(\"gcc could not be found. Please inform your course instructor.\")\n",
    "        elif res.state == jagl.ExecutionResult.TIMEOUT:\n",
    "            result.setFailed(\"Timeout while calling gcc. Please inform your course instructor.\")\n",
    "        elif res.state == jagl.ExecutionResult.ERROR:\n",
    "            result.setFailed(f'Unknown error during execution of gcc: {str(res.error)}. Please inform your course instructor.')"
   ]
  },
  {
   "cell_type": "code",
   "execution_count": null,
   "metadata": {
    "deletable": false,
    "editable": false,
    "hide_input": true,
    "nbgrader": {
     "cell_type": "code",
     "checksum": "f7efc9caf330164e055246445e478942",
     "grade": true,
     "grade_id": "cell-39e231dbd74b198d",
     "locked": true,
     "points": 5,
     "schema_version": 3,
     "solution": false,
     "task": false
    },
    "run_control": {
     "frozen": true
    }
   },
   "outputs": [],
   "source": [
    "@jagl.testcase(\"3\", desc=\"Executing program\", deps=[\"2\"])\n",
    "def testcase_1_3(result, suite, case):\n",
    "    execresult = jagl.exec_bin(\"./\" + executable_name, [\"6\"], None, timeout = 30)\n",
    "    jagl.check_execution_result(result, execresult, checkExitCode = False)\n",
    "    if execresult.exitCode is not None:\n",
    "        if execresult.exitCode == -11:\n",
    "            result.setFailed(\"Program caused a segmentation fault.\")\n",
    "        elif execresult.exitCode < 0:\n",
    "            result.setFailed(f\"Program was abnormally terminated (Signal: {-execresult.exitCode})\")\n",
    "        elif execresult.exitCode > 0:\n",
    "            result.setFailed(f\"Program returned an exit code other than 0 (Exit Code: {execresult.exitCode})\")"
   ]
  },
  {
   "cell_type": "code",
   "execution_count": null,
   "metadata": {
    "deletable": false,
    "editable": false,
    "hide_input": true,
    "nbgrader": {
     "cell_type": "code",
     "checksum": "99e1ebbc71eba5a7893dbdad4dffc371",
     "grade": true,
     "grade_id": "cell-7713721d09e9d9cc",
     "locked": true,
     "points": 5,
     "schema_version": 3,
     "solution": false,
     "task": false
    },
    "run_control": {
     "frozen": true
    }
   },
   "outputs": [],
   "source": [
    "@jagl.testcase(\"4\", desc=\"Executing program without arguments\", deps=[\"2\"])\n",
    "def testcase_1_4(result, suite, case):\n",
    "    execresult = jagl.exec_bin(\"./\" + executable_name, [], None, timeout = 30)\n",
    "    jagl.check_execution_result(result, execresult, checkExitCode = False)\n",
    "    if execresult.exitCode is not None:\n",
    "        if execresult.exitCode == -11:\n",
    "            result.setFailed(\"Program caused a segmentation fault.\")\n",
    "        elif execresult.exitCode < 0:\n",
    "            result.setFailed(f\"Program was abnormally terminated (Signal: {-execresult.exitCode})\")\n",
    "        elif execresult.exitCode == 0:\n",
    "            result.setFailed(f\"Program returned exit code 0\")"
   ]
  },
  {
   "cell_type": "code",
   "execution_count": null,
   "metadata": {
    "deletable": false,
    "editable": false,
    "hide_input": true,
    "nbgrader": {
     "cell_type": "code",
     "checksum": "a4609e6bc10e33e351e0b450724f81ed",
     "grade": true,
     "grade_id": "cell-1df0f750191dadb2",
     "locked": true,
     "points": 0,
     "schema_version": 3,
     "solution": false,
     "task": false
    },
    "run_control": {
     "frozen": true
    }
   },
   "outputs": [],
   "source": []
  },
  {
   "cell_type": "code",
   "execution_count": null,
   "metadata": {
    "deletable": false,
    "editable": false,
    "hide_input": true,
    "nbgrader": {
     "cell_type": "code",
     "checksum": "051339cdc813962cef6719fa143a3977",
     "grade": true,
     "grade_id": "cell-b6b0b3dd69246e0b",
     "locked": true,
     "points": 0,
     "schema_version": 3,
     "solution": false,
     "task": false
    },
    "run_control": {
     "frozen": true
    }
   },
   "outputs": [],
   "source": [
    "# new test suite\n",
    "jagl.testsuite_begin(\"Exercise 2\")\n",
    "\n",
    "# delete all build artifacts\n",
    "jagl.remove_paths(files=[\"calculator\", \"*.o\"])"
   ]
  },
  {
   "cell_type": "markdown",
   "metadata": {
    "deletable": false,
    "editable": false,
    "nbgrader": {
     "cell_type": "markdown",
     "checksum": "873434435f493aac4a4dac6495b7fd89",
     "grade": false,
     "grade_id": "cell-9b63f5866b570141",
     "locked": true,
     "schema_version": 3,
     "solution": false
    },
    "run_control": {
     "frozen": true
    }
   },
   "source": [
    "---\n",
    "## 2.2 Header-Dateien (40%)\n",
    "\n",
    "Implementieren Sie ein Programm, welches eine der Grundrechenoperationen (`+`, `-`, `*`, `/`) und zwei natürliche Zahlen als Kommandozeilenparameter übergeben bekommt. Die beiden Zahlen sollen vom Programm dann entsprechend der angegebenen Operation verarbeitet werden und anschließend soll das Ergebnis ausgegeben werden. Beispielsweise soll `./calculator 3 - 4` als Ausgabe `-1` liefern. \n",
    "\n",
    "Bei dieser Aufgabe wollen wir den Umgang mit mehreren Quellcode-Dateien und Header-Dateien trainieren. Aus diesem Grund implementieren wir die Grundrechenoperationen in einer eigenen Quellcode-Datei namens `operations.c`. Damit wir die Grundrechenoperationen in einer anderen Quellcode-Datei verwenden können, brauchen wir zusätzlich noch eine Header-Datei namens `operations.h`, die die Deklarationen der Grundrechenoperationen beinhaltet. Die `main`-Funktion unseres Programms, welche die Grundrechenoperationen verwenden soll, implementieren wir in einer separaten Quellcode-Datei namens `calculator.c`.\n",
    "\n",
    "Des weiteren wollen wir auch das Erstellen eines Programmes trainieren, das aus mehreren Quellcode-Dateien besteht. Aus diesem Grund werden wir beim Bauen des Programms den Kompilier- und den Linker-Schritt getrennt voneinander durchführen. Erstellen Sie zuerst aus jeder Quellcode-Datei eine Objekt-Datei indem Sie für jede Quellcode-Datei den Befehl `gcc -Werror -Wall -c -o <code-file>.o <code-file>.c` ausführen. Das Kommandozeilenargument (man redet hier auch von Compiler Optionen) `-c` weist den Compiler hierbei an, dass er nach dem Kompilierschritt stoppen und nicht den Linker-Schritt ausführen soll.  Nachdem wir aus jeder Quellcode-Datei eine Objekt-Datei erzeugt haben, können wir den Linker anweisen, aus den einzelnen Objekt-Dateien eine ausführbare Datei zu erzeugen. Führen Sie hierzu den Befehl `gcc -o <executable_name> <object_file1>.o <object_file2>.o ...` aus. Schreiben Sie diese Befehle auch alle in die entsprechende Zelle unten.\n",
    "\n",
    "Überprüfen Sie auch, ob der Benutzer tatsächlich genügend Kommandozeilenparameter übergeben hat. Wenn nicht, dann geben Sie eine aussagekräftige Fehlermeldung aus und beenden das Programm mit einem Exit Code ungleich 0.\n",
    "\n",
    "Anmerkung: Leider kann das Operationssymbol `*` nicht direkt als Kommandozeilenparameter verwendet werden, da das Zeichen `*` eine Sonderbedeutung hat (nämlich als sog. [Wildcard](https://de.wikipedia.org/wiki/Wildcard_(Informatik))). Sie müssen daher dieses Zeichen mit Anführungszeichen umgeben, also `\"*\"`, um dem Computer mitzuteilen, dass Sie für das Zeichen `*` keine Sonderbedeutung wollen. "
   ]
  },
  {
   "cell_type": "code",
   "execution_count": 4,
   "metadata": {
    "nbgrader": {
     "cell_type": "code",
     "checksum": "ce9eae32f6897ff96b7d3c7ff48e12b1",
     "grade": false,
     "grade_id": "cell-80cee4c9168ebf73",
     "locked": false,
     "schema_version": 3,
     "solution": true
    }
   },
   "outputs": [],
   "source": [
    "%%bash\n",
    "\n",
    "# Schreiben Sie in diese Zelle den Befehl der dafür nötig ist um Ihr Programm zu kompilieren.\n",
    "# Der Name Ihrer Header-Datei muss \"operations.h\" sein.\n",
    "# Der Name der Quellcode-Datei, welche Ihre main-Funktion beinhaltet, muss \"calculator.c\" sein.\n",
    "# Der Name der Quellcode-Datei, welche Ihre Berechnungen ausführt, muss \"operations.c\" sein.\n",
    "# Der Name Ihres ausführbaren Programms muss \"calculator\" sein.\n",
    "\n",
    "# DEINE ANTWORT HIER\n",
    "gcc -Werror -Wall -c -o operations.o operations.c\n",
    "gcc -Werror -Wall -c -o calculator.o calculator.c\n",
    "gcc -o calculator operations.o calculator.o"
   ]
  },
  {
   "cell_type": "code",
   "execution_count": 6,
   "metadata": {
    "nbgrader": {
     "cell_type": "code",
     "checksum": "6e9a934f02c9b62373760ce376e330e1",
     "grade": false,
     "grade_id": "cell-bf666a3296d5c592",
     "locked": false,
     "schema_version": 3,
     "solution": true,
     "task": false
    }
   },
   "outputs": [],
   "source": [
    "# Weisen Sie der untenstehenden Variable den Wert True zu, sobald Sie die Aufgabe erfolgreich erledigt haben!\n",
    "\n",
    "# Datentyp: bool\n",
    "exercise_2_2_solved = True"
   ]
  },
  {
   "cell_type": "code",
   "execution_count": 7,
   "metadata": {},
   "outputs": [
    {
     "name": "stdout",
     "output_type": "stream",
     "text": [
      "11\n"
     ]
    }
   ],
   "source": [
    "%%bash\n",
    "\n",
    "# Benutzen Sie diese Zelle um Ihr Ergebnis zu testen.\n",
    "# Damit diese Zelle ausgeführt werden kann, müssen Sie zuerst Ihr Programm erfolgreich kompilieren.\n",
    "\n",
    "./calculator 7 + 4"
   ]
  },
  {
   "cell_type": "code",
   "execution_count": 8,
   "metadata": {},
   "outputs": [
    {
     "name": "stdout",
     "output_type": "stream",
     "text": [
      "18\n"
     ]
    }
   ],
   "source": [
    "%%bash\n",
    "\n",
    "# Benutzen Sie diese Zelle um Ihr Ergebnis zu testen.\n",
    "# Damit diese Zelle ausgeführt werden kann, müssen Sie zuerst Ihr Programm erfolgreich kompilieren.\n",
    "\n",
    "./calculator 2 \"*\" 9"
   ]
  },
  {
   "cell_type": "code",
   "execution_count": null,
   "metadata": {
    "deletable": false,
    "editable": false,
    "hide_input": true,
    "nbgrader": {
     "cell_type": "code",
     "checksum": "23f0538c042b2b95c39dc4d62cda128f",
     "grade": true,
     "grade_id": "cell-446cb4d32ccb8079",
     "locked": true,
     "points": 0,
     "schema_version": 3,
     "solution": false
    },
    "run_control": {
     "frozen": true
    }
   },
   "outputs": [],
   "source": [
    "executable_name = \"calculator\"\n",
    "source_files = [\"calculator.c\", \"operations.c\"]\n",
    "cpp_flags = []"
   ]
  },
  {
   "cell_type": "code",
   "execution_count": null,
   "metadata": {
    "deletable": false,
    "editable": false,
    "hide_input": true,
    "nbgrader": {
     "cell_type": "code",
     "checksum": "f58d15db35ba73e76c5d34505e61ebd1",
     "grade": true,
     "grade_id": "cell-bdd4362595a64b55",
     "locked": true,
     "points": 10,
     "schema_version": 3,
     "solution": false
    },
    "run_control": {
     "frozen": true
    }
   },
   "outputs": [],
   "source": [
    "@jagl.testcase(\"1\", desc=\"Exercise Solved\")\n",
    "def testcase_2_1(result, suite, case):\n",
    "    varname = \"exercise_2_2_solved\"\n",
    "    result.setSucceeded()\n",
    "    jagl.check_variable_exists_and_has_type(result, globals(), varname, bool)\n",
    "    if result.isSucceeded():\n",
    "        if eval(varname):\n",
    "            result.setSucceeded(\"Exercise solved.\")\n",
    "        else:\n",
    "            result.setFailed(\"Exercise not solved.\")"
   ]
  },
  {
   "cell_type": "code",
   "execution_count": null,
   "metadata": {
    "deletable": false,
    "editable": false,
    "hide_input": true,
    "nbgrader": {
     "cell_type": "code",
     "checksum": "18b695c329c5e6214be8b95caea045a0",
     "grade": true,
     "grade_id": "cell-efa1985d8fd587b5",
     "locked": true,
     "points": 0,
     "schema_version": 3,
     "solution": false,
     "task": false
    },
    "run_control": {
     "frozen": true
    }
   },
   "outputs": [],
   "source": [
    "@jagl.testcase(\"1b\", desc=\"Check source files\", deps=[\"1\"])\n",
    "def testcase_2_1b(result, suite, case):\n",
    "    result.setSucceeded()\n",
    "    jagl.check_path_exists(result, files=source_files + [\"operations.h\"], message = \"Did you upload the source files?\")\n",
    "    if result.isSucceeded():\n",
    "        result.addMessage(\"Source files were found.\")"
   ]
  },
  {
   "cell_type": "code",
   "execution_count": null,
   "metadata": {
    "deletable": false,
    "editable": false,
    "hide_input": true,
    "nbgrader": {
     "cell_type": "code",
     "checksum": "ca116515dd431072365ec9b629ded3f6",
     "grade": true,
     "grade_id": "cell-0b18357529effa8d",
     "locked": true,
     "points": 10,
     "schema_version": 3,
     "solution": false
    },
    "run_control": {
     "frozen": true
    }
   },
   "outputs": [],
   "source": [
    "@jagl.testcase(\"2\", desc=\"Compiling program\", deps=[\"1b\"])\n",
    "def testcase_2_2(result, suite, case):\n",
    "    if os.path.isfile(executable_name):\n",
    "        result.setSucceeded(\"The program could be compiled successfully.\")\n",
    "        \n",
    "    else:\n",
    "        res = jagl.exec_bin(\"gcc\", [\"-o\", executable_name] + source_files + cpp_flags)\n",
    "        if res.state == jagl.ExecutionResult.SUCCESS:\n",
    "            stdout = jagl.bytes_decode(res.stdout).strip()\n",
    "            stderr = jagl.bytes_decode(res.stderr).strip()\n",
    "            if res.exitCode == 0:\n",
    "                if os.path.isfile(executable_name):\n",
    "                    result.setSucceeded(\"The program could be compiled successfully.\")\n",
    "                else:\n",
    "                    result.setFailed(\"gcc was executed successfully, but I couldn't find an executable.\")\n",
    "                if len(stderr) > 0:\n",
    "                    result.setSucceeded([\"However, there were warnings.\"] + stderr.split(\"\\n\"))\n",
    "            else:\n",
    "                result.setFailed([\"The program could not be compiled:\"] + stderr.split(\"\\n\"))\n",
    "        elif res.state == jagl.ExecutionResult.NOTFOUND:\n",
    "            result.setFailed(\"gcc could not be found. Please inform your course instructor.\")\n",
    "        elif res.state == jagl.ExecutionResult.TIMEOUT:\n",
    "            result.setFailed(\"Timeout while calling gcc. Please inform your course instructor.\")\n",
    "        elif res.state == jagl.ExecutionResult.ERROR:\n",
    "            result.setFailed(f'Unknown error during execution of gcc: {str(res.error)}. Please inform your course instructor.')"
   ]
  },
  {
   "cell_type": "code",
   "execution_count": null,
   "metadata": {
    "deletable": false,
    "editable": false,
    "hide_input": true,
    "nbgrader": {
     "cell_type": "code",
     "checksum": "08944c5ae5a1daea2a6cd22bcdd5e4ae",
     "grade": true,
     "grade_id": "cell-b75d76dbf448d3bc",
     "locked": true,
     "points": 10,
     "schema_version": 3,
     "solution": false
    },
    "run_control": {
     "frozen": true
    }
   },
   "outputs": [],
   "source": [
    "@jagl.testcase(\"3\", desc=\"Executing program\", deps=[\"2\"])\n",
    "def testcase_2_3(result, suite, case):\n",
    "    execresult = jagl.exec_bin(\"./\" + executable_name, [\"7\", \"+\", \"4\"], None, timeout = 30)\n",
    "    jagl.check_execution_result(result, execresult, checkExitCode = False)\n",
    "    if execresult.exitCode is not None:\n",
    "        if execresult.exitCode == -11:\n",
    "            result.setFailed(\"Program caused a segmentation fault.\")\n",
    "        elif execresult.exitCode < 0:\n",
    "            result.setFailed(f\"Program was abnormally terminated (Signal: {-execresult.exitCode})\")\n",
    "        elif execresult.exitCode > 0:\n",
    "            result.setFailed(f\"Program returned an exit code other than 0 (Exit Code: {execresult.exitCode})\")"
   ]
  },
  {
   "cell_type": "code",
   "execution_count": null,
   "metadata": {
    "deletable": false,
    "editable": false,
    "hide_input": true,
    "nbgrader": {
     "cell_type": "code",
     "checksum": "4a6479b15eae6301cd5c6ac8546c05fa",
     "grade": true,
     "grade_id": "cell-81fcb17ba8d23fb7",
     "locked": true,
     "points": 10,
     "schema_version": 3,
     "solution": false
    },
    "run_control": {
     "frozen": true
    }
   },
   "outputs": [],
   "source": [
    "@jagl.testcase(\"4\", desc=\"Executing program without arguments\", deps=[\"2\"])\n",
    "def testcase_2_4(result, suite, case):\n",
    "    execresult = jagl.exec_bin(\"./\" + executable_name, [], None, timeout = 30)\n",
    "    jagl.check_execution_result(result, execresult, checkExitCode = False)\n",
    "    if execresult.exitCode is not None:\n",
    "        if execresult.exitCode == -11:\n",
    "            result.setFailed(\"Program caused a segmentation fault.\")\n",
    "        elif execresult.exitCode < 0:\n",
    "            result.setFailed(f\"Program was abnormally terminated (Signal: {-execresult.exitCode})\")\n",
    "        elif execresult.exitCode == 0:\n",
    "            result.setFailed(f\"Program returned exit code 0\")"
   ]
  },
  {
   "cell_type": "code",
   "execution_count": null,
   "metadata": {
    "deletable": false,
    "editable": false,
    "hide_input": true,
    "nbgrader": {
     "cell_type": "code",
     "checksum": "e0dc3b7cfe1a40175797bb26c30d5a4b",
     "grade": true,
     "grade_id": "cell-45f2c59291b588b4",
     "locked": true,
     "points": 0,
     "schema_version": 3,
     "solution": false
    },
    "run_control": {
     "frozen": true
    }
   },
   "outputs": [],
   "source": []
  },
  {
   "cell_type": "code",
   "execution_count": null,
   "metadata": {
    "deletable": false,
    "editable": false,
    "hide_input": true,
    "nbgrader": {
     "cell_type": "code",
     "checksum": "d9967a12520df8c6ccf61ee1156c7fb9",
     "grade": true,
     "grade_id": "cell-bf68d05b9f72fd71",
     "locked": true,
     "points": 0,
     "schema_version": 3,
     "solution": false,
     "task": false
    },
    "run_control": {
     "frozen": true
    }
   },
   "outputs": [],
   "source": []
  },
  {
   "cell_type": "markdown",
   "metadata": {
    "deletable": false,
    "editable": false,
    "nbgrader": {
     "cell_type": "markdown",
     "checksum": "579b8e69fc1d53dc6226e81a7e3f9602",
     "grade": false,
     "grade_id": "cell-c2dfbd437ffce8b7",
     "locked": true,
     "schema_version": 3,
     "solution": false
    },
    "run_control": {
     "frozen": true
    }
   },
   "source": [
    "---\n",
    "## 2.3 Datentypen (24%)\n",
    "\n",
    "Erläutern Sie für folgende Szenarien welche C-Datentypen für eine Implementierung am Besten geeignet wären. Begründen Sie Ihre Wahl in wenigen Sätzen.\n",
    "\n",
    "a.&nbsp;&nbsp;&nbsp; Um eine Statistik zu erheben, sollen von tausenden Menschen Daten gesammelt werden. Dabei soll auch das aktuelle Alter einer befragten Person festgehalten werden. Welchen Datentyp würden Sie für das Alter verwenden?"
   ]
  },
  {
   "cell_type": "markdown",
   "metadata": {
    "nbgrader": {
     "cell_type": "markdown",
     "checksum": "db2e57c8cc93c0394844975dcaef4afb",
     "grade": true,
     "grade_id": "cell-9f10e159583d9b42",
     "locked": false,
     "points": 8,
     "schema_version": 3,
     "solution": true
    }
   },
   "source": [
    "int - Das Alter einer Person wird meist als Ganzzahl dargestellt, außerdem handelt es sich nicht um sehr große Zahlen, weshalb der Datentyp int gut passen würde."
   ]
  },
  {
   "cell_type": "markdown",
   "metadata": {
    "deletable": false,
    "editable": false,
    "nbgrader": {
     "cell_type": "markdown",
     "checksum": "9dee145910ba490dd977ad2faaaca5b1",
     "grade": false,
     "grade_id": "cell-c7aee997e47975dc",
     "locked": true,
     "schema_version": 3,
     "solution": false
    },
    "run_control": {
     "frozen": true
    }
   },
   "source": [
    "b.&nbsp;&nbsp;&nbsp; Eine Datenbank zur Speicherung von Fotos soll in C implementiert werden. Es sollen täglich etwa 1000 Fotos in der Datenbank abgelegt werden. Dabei soll jedes gespeicherte Foto eine eindeutige ID erhalten. Welchen Datentyp würden Sie für diese ID verwenden?"
   ]
  },
  {
   "cell_type": "markdown",
   "metadata": {
    "nbgrader": {
     "cell_type": "markdown",
     "checksum": "4c46ab79d351140449aca1783147ec81",
     "grade": true,
     "grade_id": "cell-5ef3fe0df6adf42a",
     "locked": false,
     "points": 8,
     "schema_version": 3,
     "solution": true
    }
   },
   "source": [
    "long - Da täglich so viele Fotos in die Datenbank geladen werden, würde der Wertebereich eines int schnell nicht mehr ausreichen um jedem Foto eine eindeutige ID zuzuweisen, der Datentyp long hat einen erheblich größeren Wertebereich und ist somit die bessere Wahl."
   ]
  },
  {
   "cell_type": "markdown",
   "metadata": {
    "deletable": false,
    "editable": false,
    "nbgrader": {
     "cell_type": "markdown",
     "checksum": "3bcf2c72c5584c8d167fb47f0b74a3f0",
     "grade": false,
     "grade_id": "cell-1ecc0673009c751b",
     "locked": true,
     "schema_version": 3,
     "solution": false
    },
    "run_control": {
     "frozen": true
    }
   },
   "source": [
    "c.&nbsp;&nbsp;&nbsp; Ein Temperatursensor liefert durchgehend aktuelle Temperaturdaten (in °C) an ein C Programm. Welchen Datentyp würden Sie für die Speicherung dieser Temperaturdaten verwenden?"
   ]
  },
  {
   "cell_type": "markdown",
   "metadata": {
    "nbgrader": {
     "cell_type": "markdown",
     "checksum": "b0e25b4ce147ca525e2254d4663a2bfc",
     "grade": true,
     "grade_id": "cell-674f794f0aad8647",
     "locked": false,
     "points": 8,
     "schema_version": 3,
     "solution": true
    }
   },
   "source": [
    "float - Da Dezimalzahlen gespeichert werden müssen ist float die richtige Wahl, es sei denn die Temperaturen müssten sehr präzise dargestellt werden, dann wäre ein double besser, für die meisten solcher Anwendungen sollte ein float aber genügen."
   ]
  },
  {
   "cell_type": "code",
   "execution_count": null,
   "metadata": {
    "deletable": false,
    "editable": false,
    "hide_input": true,
    "nbgrader": {
     "cell_type": "code",
     "checksum": "24bfde36c3a6fef085c204854c4dd177",
     "grade": true,
     "grade_id": "cell-13c9f2dfa2dd8481",
     "locked": true,
     "points": 0,
     "schema_version": 3,
     "solution": false,
     "task": false
    },
    "run_control": {
     "frozen": true
    }
   },
   "outputs": [],
   "source": [
    "# new test suite\n",
    "jagl.testsuite_begin(\"Exercise 4\")\n",
    "\n",
    "# delete all build artifacts\n",
    "jagl.remove_paths(files=[\"prime\", \"*.o\"])"
   ]
  },
  {
   "cell_type": "markdown",
   "metadata": {
    "deletable": false,
    "editable": false,
    "hide_input": true,
    "nbgrader": {
     "cell_type": "markdown",
     "checksum": "02c60c7f7a28bcbd0fcf8487eb1dc291",
     "grade": false,
     "grade_id": "cell-eb366c966f0c1080",
     "locked": true,
     "schema_version": 3,
     "solution": false
    },
    "run_control": {
     "frozen": true
    }
   },
   "source": [
    "---\n",
    "## 2.4 Primzahlen (16%)\n",
    "\n",
    "Implementieren Sie ein Programm, welches sämtliche Primzahlen zwischen 1 und (inklusive) n ausgibt. Bei n handelt es sich um eine beliebige natürliche Zahl, die als Kommandozeilenparameter an das Programm übergeben werden soll. Es sollen immer exakt 10 gesuchte Primzahlen in einer Zeile ausgegeben werden, bevor in eine neue Zeile gesprungen wird. Die einzelnen Zahlen sollen dabei durch Tabulatoren (der Tabulator wird in C durch `\\t` repräsentiert) getrennt werden.\n",
    "\n",
    "Überprüfen Sie auch, ob der Benutzer tatsächlich einen Kommandozeilenparameter übergeben hat. Wenn nicht, dann geben Sie eine aussagekräftige Fehlermeldung aus und beenden das Programm mit einem Exit Code ungleich 0.\n",
    "\n",
    "Implementieren Sie Ihr Programm in einer Datei namens `prime.c`."
   ]
  },
  {
   "cell_type": "code",
   "execution_count": 1,
   "metadata": {
    "nbgrader": {
     "cell_type": "code",
     "checksum": "3eae3e3474503a97e321c015e56a9a67",
     "grade": false,
     "grade_id": "cell-0e65c66c0a305026",
     "locked": false,
     "schema_version": 3,
     "solution": true
    }
   },
   "outputs": [],
   "source": [
    "%%bash\n",
    "\n",
    "# Schreiben Sie in diese Zelle den Befehl der dafür nötig ist um Ihr Programm zu kompilieren.\n",
    "# Der Name Ihres ausführbaren Programms muss \"prime\" sein.\n",
    "\n",
    "gcc -Wall -Werror -o prime prime.c"
   ]
  },
  {
   "cell_type": "code",
   "execution_count": 2,
   "metadata": {
    "nbgrader": {
     "cell_type": "code",
     "checksum": "8ec6b2c2591421ec28efec3756e594cc",
     "grade": false,
     "grade_id": "cell-ca89b21206d1a62a",
     "locked": false,
     "schema_version": 3,
     "solution": true,
     "task": false
    }
   },
   "outputs": [],
   "source": [
    "# Weisen Sie der untenstehenden Variable den Wert True zu, sobald Sie die Aufgabe erfolgreich erledigt haben!\n",
    "\n",
    "# Datentyp: bool\n",
    "exercise_2_4_solved = True"
   ]
  },
  {
   "cell_type": "code",
   "execution_count": 8,
   "metadata": {},
   "outputs": [
    {
     "name": "stdout",
     "output_type": "stream",
     "text": [
      "2\t3\t5\t7\t11\t13\t17\t19\t23\t29\t\n",
      "31\t37\t41\t43\t47\t53\t59\t61\t67\t71\t\n",
      "73\t79\t83\t89\t97\t101\t103\t107\t109\t113\t\n",
      "127\t131\t137\t139\t149\t151\t157\t163\t167\t173\t\n",
      "179\t181\t191\t193\t197\t199\t211\t223\t227\t229\t\n",
      "233\t239\t241\t251\t257\t263\t269\t271\t277\t281\t\n",
      "283\t293\t307\t311\t313\t317\t331\t337\t347\t349\t\n",
      "353\t359\t367\t373\t379\t383\t389\t397\t401\t409\t\n",
      "419\t421\t431\t433\t439\t443\t449\t457\t461\t463\t\n",
      "467\t479\t487\t491\t499\t503\t509\t521\t523\t541\t\n",
      "547\t557\t563\t569\t571\t577\t587\t593\t599\t601\t\n",
      "607\t613\t617\t619\t631\t641\t643\t647\t653\t659\t\n",
      "661\t673\t677\t683\t691\t701\t709\t719\t727\t733\t\n",
      "739\t743\t751\t757\t761\t769\t773\t787\t797\t809\t\n",
      "811\t821\t823\t827\t829\t839\t853\t857\t859\t863\t\n",
      "877\t881\t883\t887\t907\t911\t919\t929\t937\t941\t\n",
      "947\t953\t967\t971\t977\t983\t991\t997\t"
     ]
    }
   ],
   "source": [
    "%%bash\n",
    "\n",
    "# Benutzen Sie diese Zelle um Ihr Ergebnis zu testen.\n",
    "# Damit diese Zelle ausgeführt werden kann, müssen Sie zuerst Ihr Programm erfolgreich kompilieren.\n",
    "\n",
    "./prime 1000"
   ]
  },
  {
   "cell_type": "code",
   "execution_count": null,
   "metadata": {
    "deletable": false,
    "editable": false,
    "hide_input": true,
    "nbgrader": {
     "cell_type": "code",
     "checksum": "ea2dc592e45bbf9e94969db283deaa35",
     "grade": true,
     "grade_id": "cell-1924f566f70debcf",
     "locked": true,
     "points": 0,
     "schema_version": 3,
     "solution": false
    },
    "run_control": {
     "frozen": true
    }
   },
   "outputs": [],
   "source": [
    "executable_name = \"prime\"\n",
    "source_files = [\"prime.c\"]\n",
    "cpp_flags = []"
   ]
  },
  {
   "cell_type": "code",
   "execution_count": null,
   "metadata": {
    "deletable": false,
    "editable": false,
    "hide_input": true,
    "nbgrader": {
     "cell_type": "code",
     "checksum": "372ea4edaf66a7e4d0782651a55fe8e0",
     "grade": true,
     "grade_id": "cell-71902cc913a1333e",
     "locked": true,
     "points": 4,
     "schema_version": 3,
     "solution": false
    },
    "run_control": {
     "frozen": true
    }
   },
   "outputs": [],
   "source": [
    "@jagl.testcase(\"1\", desc=\"Exercise Solved\")\n",
    "def testcase_2_4(result, suite, case):\n",
    "    varname = \"exercise_2_4_solved\"\n",
    "    result.setSucceeded()\n",
    "    jagl.check_variable_exists_and_has_type(result, globals(), varname, bool)\n",
    "    if result.isSucceeded():\n",
    "        if eval(varname):\n",
    "            result.setSucceeded(\"Exercise solved.\")\n",
    "        else:\n",
    "            result.setFailed(\"Exercise not solved.\")"
   ]
  },
  {
   "cell_type": "code",
   "execution_count": null,
   "metadata": {
    "deletable": false,
    "editable": false,
    "hide_input": true,
    "nbgrader": {
     "cell_type": "code",
     "checksum": "995ceddafbe2bc1a1067d9be78418a7c",
     "grade": true,
     "grade_id": "cell-a96f5be5830a6152",
     "locked": true,
     "points": 0,
     "schema_version": 3,
     "solution": false,
     "task": false
    },
    "run_control": {
     "frozen": true
    }
   },
   "outputs": [],
   "source": [
    "@jagl.testcase(\"1b\", desc=\"Check source files\", deps=[\"1\"])\n",
    "def testcase_4_1b(result, suite, case):\n",
    "    result.setSucceeded()\n",
    "    jagl.check_path_exists(result, files=source_files, message = \"Did you upload the source files?\")\n",
    "    if result.isSucceeded():\n",
    "        result.addMessage(\"Source files were found.\")"
   ]
  },
  {
   "cell_type": "code",
   "execution_count": null,
   "metadata": {
    "deletable": false,
    "editable": false,
    "hide_input": true,
    "nbgrader": {
     "cell_type": "code",
     "checksum": "b4dd343eebd72221ec5f0d500c581930",
     "grade": true,
     "grade_id": "cell-dc5f935029d5a808",
     "locked": true,
     "points": 4,
     "schema_version": 3,
     "solution": false
    },
    "run_control": {
     "frozen": true
    }
   },
   "outputs": [],
   "source": [
    "@jagl.testcase(\"2\", desc=\"Compiling program\", deps=[\"1b\"])\n",
    "def testcase_4_2(result, suite, case):\n",
    "    if os.path.isfile(executable_name):\n",
    "        result.setSucceeded(\"The program could be compiled successfully.\")\n",
    "        \n",
    "    else:\n",
    "        res = jagl.exec_bin(\"gcc\", [\"-o\", executable_name] + source_files + cpp_flags)\n",
    "        if res.state == jagl.ExecutionResult.SUCCESS:\n",
    "            stdout = jagl.bytes_decode(res.stdout).strip()\n",
    "            stderr = jagl.bytes_decode(res.stderr).strip()\n",
    "            if res.exitCode == 0:\n",
    "                if os.path.isfile(executable_name):\n",
    "                    result.setSucceeded(\"The program could be compiled successfully.\")\n",
    "                else:\n",
    "                    result.setFailed(\"gcc was executed successfully, but I couldn't find an executable.\")\n",
    "                if len(stderr) > 0:\n",
    "                    result.setSucceeded([\"However, there were warnings.\"] + stderr.split(\"\\n\"))\n",
    "            else:\n",
    "                result.setFailed([\"The program could not be compiled:\"] + stderr.split(\"\\n\"))\n",
    "        elif res.state == jagl.ExecutionResult.NOTFOUND:\n",
    "            result.setFailed(\"gcc could not be found. Please inform your course instructor.\")\n",
    "        elif res.state == jagl.ExecutionResult.TIMEOUT:\n",
    "            result.setFailed(\"Timeout while calling gcc. Please inform your course instructor.\")\n",
    "        elif res.state == jagl.ExecutionResult.ERROR:\n",
    "            result.setFailed(f'Unknown error during execution of gcc: {str(res.error)}. Please inform your course instructor.')"
   ]
  },
  {
   "cell_type": "code",
   "execution_count": null,
   "metadata": {
    "deletable": false,
    "editable": false,
    "hide_input": true,
    "nbgrader": {
     "cell_type": "code",
     "checksum": "b38368855161deec8da051571c7f9ca4",
     "grade": true,
     "grade_id": "cell-113ab9e330248656",
     "locked": true,
     "points": 4,
     "schema_version": 3,
     "solution": false
    },
    "run_control": {
     "frozen": true
    }
   },
   "outputs": [],
   "source": [
    "@jagl.testcase(\"3\", desc=\"Executing program\", deps=[\"2\"])\n",
    "def testcase_4_3(result, suite, case):\n",
    "    execresult = jagl.exec_bin(\"./\" + executable_name, [\"100\"], None, timeout = 30)\n",
    "    jagl.check_execution_result(result, execresult, checkExitCode = False)\n",
    "    if execresult.exitCode is not None:\n",
    "        if execresult.exitCode == -11:\n",
    "            result.setFailed(\"Program caused a segmentation fault.\")\n",
    "        elif execresult.exitCode < 0:\n",
    "            result.setFailed(f\"Program was abnormally terminated (Signal: {-execresult.exitCode})\")\n",
    "        elif execresult.exitCode > 0:\n",
    "            result.setFailed(f\"Program returned an exit code other than 0 (Exit Code: {execresult.exitCode})\")"
   ]
  },
  {
   "cell_type": "code",
   "execution_count": null,
   "metadata": {
    "deletable": false,
    "editable": false,
    "hide_input": true,
    "nbgrader": {
     "cell_type": "code",
     "checksum": "5c850baa65c44e2206d0d438a4124399",
     "grade": true,
     "grade_id": "cell-9daaef79fbbb0719",
     "locked": true,
     "points": 4,
     "schema_version": 3,
     "solution": false,
     "task": false
    },
    "run_control": {
     "frozen": true
    }
   },
   "outputs": [],
   "source": [
    "@jagl.testcase(\"4\", desc=\"Executing program without arguments\", deps=[\"2\"])\n",
    "def testcase_4_4(result, suite, case):\n",
    "    execresult = jagl.exec_bin(\"./\" + executable_name, [], None, timeout = 30)\n",
    "    jagl.check_execution_result(result, execresult, checkExitCode = False)\n",
    "    if execresult.exitCode is not None:\n",
    "        if execresult.exitCode == -11:\n",
    "            result.setFailed(\"Program caused a segmentation fault.\")\n",
    "        elif execresult.exitCode < 0:\n",
    "            result.setFailed(f\"Program was abnormally terminated (Signal: {-execresult.exitCode})\")\n",
    "        elif execresult.exitCode == 0:\n",
    "            result.setFailed(f\"Program returned exit code 0\")"
   ]
  },
  {
   "cell_type": "code",
   "execution_count": null,
   "metadata": {
    "deletable": false,
    "editable": false,
    "hide_input": true,
    "nbgrader": {
     "cell_type": "code",
     "checksum": "5b4794dac312fa9f5a1a04c0cbef7e58",
     "grade": true,
     "grade_id": "cell-ca1077d3e39037cf",
     "locked": true,
     "points": 0,
     "schema_version": 3,
     "solution": false
    },
    "run_control": {
     "frozen": true
    }
   },
   "outputs": [],
   "source": []
  },
  {
   "cell_type": "code",
   "execution_count": null,
   "metadata": {
    "deletable": false,
    "editable": false,
    "hide_input": true,
    "nbgrader": {
     "cell_type": "code",
     "checksum": "e6563e4f9dd347dc82bb1a748200fcb5",
     "grade": true,
     "grade_id": "cell-8187f3e44f738086",
     "locked": true,
     "points": 0,
     "schema_version": 3,
     "solution": false,
     "task": false
    },
    "run_control": {
     "frozen": true
    }
   },
   "outputs": [],
   "source": []
  }
 ],
 "metadata": {
  "kernelspec": {
   "display_name": "Python 3 (ipykernel)",
   "language": "python",
   "name": "python3"
  },
  "language_info": {
   "codemirror_mode": {
    "name": "ipython",
    "version": 3
   },
   "file_extension": ".py",
   "mimetype": "text/x-python",
   "name": "python",
   "nbconvert_exporter": "python",
   "pygments_lexer": "ipython3",
   "version": "3.9.6"
  }
 },
 "nbformat": 4,
 "nbformat_minor": 2
}
