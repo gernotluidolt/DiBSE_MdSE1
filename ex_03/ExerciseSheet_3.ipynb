{
 "cells": [
  {
   "cell_type": "markdown",
   "metadata": {
    "deletable": false,
    "editable": false,
    "nbgrader": {
     "cell_type": "markdown",
     "checksum": "b9ce270d6d3b308a0a4803f8cc03638f",
     "grade": false,
     "grade_id": "cell-14bc8bc2e3f3b50b",
     "locked": true,
     "schema_version": 3,
     "solution": false
    },
    "run_control": {
     "frozen": true
    }
   },
   "source": [
    "---\n",
    "Stellen Sie bitte sicher, dass alles wie vorhergesehen läuft, bevor Sie dieses Übungsblatt abgeben. **Starten Sie den Kernel neu** (in der Menüleiste die Option Kernel$\\rightarrow$Restart auswählen) und **validieren** Sie anschließend das Übungsblatt (in der Menüleiste auf Validate klicken) um Rückmeldung zu eventuellen fehlenden oder fehlerhaften Eingaben zu erhalten. \n",
    "\n",
    "Füllen Sie alle Stellen im Übungsblatt aus, welche entweder `DEIN CODE HIER` oder \"DEINE ANTWORT HIER\" enthalten. Geben Sie unterhalb Ihren vollständigen Namen an.\n",
    "\n",
    "Wenn Sie Code-Bestandteile aus anderen Quellen (wie z.B. Stackoverflow) kopieren, dann machen sie den kopierten Code in ihrer Quellcodedatei kenntlich und fügen eine Referenz auf die Quelle als Kommentar hinzu.\n",
    "\n",
    "Wenn Sie die Aufgaben in einer Gruppe erledigen, dann fügen Sie die Namen aller Gruppenmitglieder in der nachfolgende Zelle zu `Name` und zusätzlich als Kommentar am Anfang Ihrer Quellcodedatei hinzu."
   ]
  },
  {
   "cell_type": "markdown",
   "metadata": {
    "deletable": false,
    "editable": false,
    "nbgrader": {
     "cell_type": "markdown",
     "checksum": "008460e9429099ecfb93dcd32bf095e8",
     "grade": false,
     "grade_id": "cell-8ae8fd1bec813ca4",
     "locked": true,
     "schema_version": 3,
     "solution": false
    },
    "run_control": {
     "frozen": true
    }
   },
   "source": [
    "---"
   ]
  },
  {
   "cell_type": "code",
   "execution_count": null,
   "metadata": {},
   "outputs": [],
   "source": [
    "NAME = \"Gernot Luidolt\""
   ]
  },
  {
   "cell_type": "markdown",
   "metadata": {
    "deletable": false,
    "editable": false,
    "nbgrader": {
     "cell_type": "markdown",
     "checksum": "c192b9832dd6a90237eec99f9da76301",
     "grade": false,
     "grade_id": "cell-4f279d8aadb7cf1a",
     "locked": true,
     "schema_version": 3,
     "solution": false
    },
    "run_control": {
     "frozen": true
    }
   },
   "source": [
    "---"
   ]
  },
  {
   "cell_type": "markdown",
   "metadata": {
    "deletable": false,
    "editable": false,
    "nbgrader": {
     "cell_type": "markdown",
     "checksum": "4f713aa2fab59668f4b40f408ad718a1",
     "grade": false,
     "grade_id": "cell-3cc22e30328cf9c1",
     "locked": true,
     "schema_version": 3,
     "solution": false
    },
    "run_control": {
     "frozen": true
    }
   },
   "source": [
    "<table style=\"width: 100%\">\n",
    "    <tr style=\"background: #ffffff\">\n",
    "        <td style=\"padding-top:25px;width: 180px\"><img src=\"https://mci.edu/templates/mci/images/logo.svg\" alt=\"Logo\"></td>\n",
    "        <td style=\"width: 100%\">\n",
    "            <div style=\"text-align:right; width: 100%; text-align:right\"><font style=\"font-size:38px\"><b>Methoden der Softwareentwicklung I</b></font></div>\n",
    "            <div style=\"padding-top:0px; width: 100%; text-align:right\"><font size=\"4\"><b>WS 2023/24</b></font></div>\n",
    "        </td>\n",
    "    </tr>\n",
    "</table>"
   ]
  },
  {
   "cell_type": "markdown",
   "metadata": {
    "deletable": false,
    "editable": false,
    "nbgrader": {
     "cell_type": "markdown",
     "checksum": "c10b03b436b08c4ad92c5f2f09322660",
     "grade": false,
     "grade_id": "cell-0b150e057f7c420e",
     "locked": true,
     "schema_version": 3,
     "solution": false
    },
    "run_control": {
     "frozen": true
    }
   },
   "source": [
    "---\n",
    "# Übungsblatt 3"
   ]
  },
  {
   "cell_type": "code",
   "execution_count": null,
   "metadata": {
    "deletable": false,
    "editable": false,
    "hide_input": true,
    "nbgrader": {
     "cell_type": "code",
     "checksum": "1d6bc38f501ca2dfb22d2c4e2cf851e5",
     "grade": true,
     "grade_id": "cell-ff4768aec829a504",
     "locked": true,
     "points": 0,
     "schema_version": 3,
     "solution": false,
     "task": false
    },
    "run_control": {
     "frozen": true
    }
   },
   "outputs": [],
   "source": [
    "import jagl\n",
    "import os\n",
    "import shutil"
   ]
  },
  {
   "cell_type": "markdown",
   "metadata": {
    "deletable": false,
    "editable": false,
    "nbgrader": {
     "cell_type": "markdown",
     "checksum": "f8cf7a8d283920ab4fa41c1ceef4105d",
     "grade": false,
     "grade_id": "cell-67c26f38515f8c96",
     "locked": true,
     "schema_version": 3,
     "solution": false
    },
    "run_control": {
     "frozen": true
    }
   },
   "source": [
    "---\n",
    "Abgabe bis <b>Sonntag, 17. Dezember 2023, 23:55 Uhr</b>"
   ]
  },
  {
   "cell_type": "markdown",
   "metadata": {
    "deletable": false,
    "editable": false,
    "nbgrader": {
     "cell_type": "markdown",
     "checksum": "591a1aa9719895c9280d477897cffc44",
     "grade": false,
     "grade_id": "cell-5a9fde2c1ea41921",
     "locked": true,
     "schema_version": 3,
     "solution": false
    },
    "run_control": {
     "frozen": true
    }
   },
   "source": [
    "---\n",
    "### Achtung:\n",
    "\n",
    "*Bitte speichern Sie Ihre Quellcode-Dateien (&ast;.c) im selben Ordner wie dieses Übungsblatt. Beachten Sie außerdem die Kommentare zur richtigen Benennung Ihrer Dateien. Nur so ist eine korrekte Abgabe und Auswertung Ihrer Lösungen möglich.*"
   ]
  },
  {
   "cell_type": "markdown",
   "metadata": {
    "deletable": false,
    "editable": false,
    "nbgrader": {
     "cell_type": "markdown",
     "checksum": "d5e3d77560899ec6d010b913b51e38a5",
     "grade": false,
     "grade_id": "cell-f45fa7f21da8f7d8",
     "locked": true,
     "schema_version": 3,
     "solution": false
    },
    "run_control": {
     "frozen": true
    }
   },
   "source": [
    "---\n",
    "*Bitte verwenden Sie für Ihre Lösungen einen ordentlichen Programmierstil. Vor allem auf eine korrekte Formatierung, aussagekräftige Variablennamen und ausführliche Kommentare sollte dabei Wert gelegt werden.*"
   ]
  },
  {
   "cell_type": "code",
   "execution_count": null,
   "metadata": {
    "deletable": false,
    "editable": false,
    "hide_input": true,
    "nbgrader": {
     "cell_type": "code",
     "checksum": "f8ee820c72307b09fa727c2eca54a066",
     "grade": true,
     "grade_id": "cell-63730cd3b4f85aa9",
     "locked": true,
     "points": 0,
     "schema_version": 3,
     "solution": false
    },
    "run_control": {
     "frozen": true
    }
   },
   "outputs": [],
   "source": [
    "# new test suite\n",
    "jagl.testsuite_begin(\"Exercise 1\")\n",
    "\n",
    "# delete all build artifacts\n",
    "jagl.remove_paths(files=[\"upper\", \"*.o\"])"
   ]
  },
  {
   "cell_type": "markdown",
   "metadata": {
    "deletable": false,
    "editable": false,
    "nbgrader": {
     "cell_type": "markdown",
     "checksum": "fbddd957acaa5aba8b1d1193420fcfdd",
     "grade": false,
     "grade_id": "cell-d3ee756e1fa380ed",
     "locked": true,
     "schema_version": 3,
     "solution": false
    },
    "run_control": {
     "frozen": true
    }
   },
   "source": [
    "---\n",
    "## 3.1 Großbuchstaben (21%)\n",
    "\n",
    "Implementieren Sie ein Programm, dass mittels `scanf` eine Zeichenfolge einliest, jeden Kleinbuchstaben darin durch den entsprechenden Großbuchstaben ersetzt und die veränderte Zeichenfolge ausgibt. Nur Kleinbuchstaben sollen verändert werden, andere Zeichen sollen beibehalten werden. Ihre Implementierung soll für alle Zeichenfolgen mit Länge kleiner als 50 funktionieren. Achten Sie in Ihrer Implementierung darauf, dass es auch bei längeren Zeichenfolgen zu keinem Buffer-Overflow kommt.\n",
    "\n",
    "**Achtung:** Die Benutzung von Bibliotheksfunktionen zur Umwandlung Ihrer Zeichenkette ist nicht erlaubt. Außerdem ist die Eingabe von Daten via `scanf` in Jupyter-Notebook nicht möglich. Testen Sie Ihre Implementierung daher direkt in der Kommandozeile."
   ]
  },
  {
   "cell_type": "code",
   "execution_count": 1,
   "metadata": {
    "nbgrader": {
     "cell_type": "code",
     "checksum": "b0cd8e69dc46d66481106e0229331ae9",
     "grade": false,
     "grade_id": "cell-3a74b8400aa1f071",
     "locked": false,
     "schema_version": 3,
     "solution": true
    }
   },
   "outputs": [],
   "source": [
    "%%bash\n",
    "\n",
    "# Schreiben Sie in diese Zelle den Befehl der dafür nötig ist um Ihr Programm zu kompilieren.\n",
    "# Beachten Sie dabei, dass der Name ihrer Quellcode-Datei \"upper.c\" sein sollte.\n",
    "# Beachten Sie dabei, dass der Name Ihres ausführbaren Programms \"upper\" sein sollte.\n",
    "\n",
    "gcc -Wall -Werror -o upper upper.c"
   ]
  },
  {
   "cell_type": "code",
   "execution_count": 2,
   "metadata": {
    "nbgrader": {
     "cell_type": "code",
     "checksum": "eeabebeaf3f69ea7cb495fa53b5ec2b5",
     "grade": false,
     "grade_id": "cell-ea8a5024b36ef4db",
     "locked": false,
     "schema_version": 3,
     "solution": true,
     "task": false
    }
   },
   "outputs": [],
   "source": [
    "# Weisen Sie der untenstehenden Variable den Wert True zu, sobald Sie die Aufgabe erfolgreich erledigt haben!\n",
    "\n",
    "# Datentyp: bool\n",
    "exercise_3_1_solved = True"
   ]
  },
  {
   "cell_type": "code",
   "execution_count": null,
   "metadata": {
    "deletable": false,
    "editable": false,
    "hide_input": true,
    "nbgrader": {
     "cell_type": "code",
     "checksum": "cb4f5c0b911c457c38c4a69156499481",
     "grade": true,
     "grade_id": "cell-d335ba7af91536d2",
     "locked": true,
     "points": 0,
     "schema_version": 3,
     "solution": false,
     "task": false
    },
    "run_control": {
     "frozen": true
    }
   },
   "outputs": [],
   "source": [
    "executable_name = \"upper\"\n",
    "source_files = [\"upper.c\"]\n",
    "cpp_flags = []"
   ]
  },
  {
   "cell_type": "code",
   "execution_count": null,
   "metadata": {
    "deletable": false,
    "editable": false,
    "hide_input": true,
    "nbgrader": {
     "cell_type": "code",
     "checksum": "6d9eb7b8a1bafcc78033faf9e9de0846",
     "grade": true,
     "grade_id": "cell-1b571f8c36b4a34c",
     "locked": true,
     "points": 7,
     "schema_version": 3,
     "solution": false,
     "task": false
    },
    "run_control": {
     "frozen": true
    }
   },
   "outputs": [],
   "source": [
    "@jagl.testcase(\"1\", desc=\"Exercise Solved\")\n",
    "def testcase_1_1(result, suite, case):\n",
    "    varname = \"exercise_3_1_solved\"\n",
    "    result.setSucceeded()\n",
    "    jagl.check_variable_exists_and_has_type(result, globals(), varname, bool)\n",
    "    if result.isSucceeded():\n",
    "        if eval(varname):\n",
    "            result.setSucceeded(\"Exercise solved.\")\n",
    "        else:\n",
    "            result.setFailed(\"Exercise not solved.\")"
   ]
  },
  {
   "cell_type": "code",
   "execution_count": null,
   "metadata": {
    "deletable": false,
    "editable": false,
    "hide_input": true,
    "nbgrader": {
     "cell_type": "code",
     "checksum": "e3fefd554b48e691fe5c4c56fc877f20",
     "grade": true,
     "grade_id": "cell-6521e7235014a2bb",
     "locked": true,
     "points": 7,
     "schema_version": 3,
     "solution": false,
     "task": false
    },
    "run_control": {
     "frozen": true
    }
   },
   "outputs": [],
   "source": [
    "@jagl.testcase(\"2\", desc=\"Compiling program\", deps=[\"1\"])\n",
    "def testcase_1_2(result, suite, case):\n",
    "    if os.path.isfile(executable_name):\n",
    "        result.setSucceeded(\"The program could be compiled successfully.\")\n",
    "        \n",
    "    else:\n",
    "        res = jagl.exec_bin(\"gcc\", [\"-o\", executable_name] + source_files + cpp_flags)\n",
    "        if res.state == jagl.ExecutionResult.SUCCESS:\n",
    "            stdout = jagl.bytes_decode(res.stdout).strip()\n",
    "            stderr = jagl.bytes_decode(res.stderr).strip()\n",
    "            if res.exitCode == 0:\n",
    "                if os.path.isfile(executable_name):\n",
    "                    result.setSucceeded(\"The program could be compiled successfully.\")\n",
    "                else:\n",
    "                    result.setFailed(\"gcc was executed successfully, but I couldn't find an executable.\")\n",
    "                if len(stderr) > 0:\n",
    "                    result.setSucceeded([\"However, there were warnings.\"] + stderr.split(\"\\n\"))\n",
    "            else:\n",
    "                result.setFailed([\"The program could not be compiled:\"] + stderr.split(\"\\n\"))\n",
    "        elif res.state == jagl.ExecutionResult.NOTFOUND:\n",
    "            result.setFailed(\"gcc could not be found. Please inform your course instructor.\")\n",
    "        elif res.state == jagl.ExecutionResult.TIMEOUT:\n",
    "            result.setFailed(\"Timeout while calling gcc. Please inform your course instructor.\")\n",
    "        elif res.state == jagl.ExecutionResult.ERROR:\n",
    "            result.setFailed(f'Unknown error during execution of gcc: {str(res.error)}. Please inform your course instructor.')"
   ]
  },
  {
   "cell_type": "code",
   "execution_count": null,
   "metadata": {
    "deletable": false,
    "editable": false,
    "hide_input": true,
    "nbgrader": {
     "cell_type": "code",
     "checksum": "90eefd1607259a5add5f45ac10989135",
     "grade": true,
     "grade_id": "cell-ee7b3f014e19d568",
     "locked": true,
     "points": 7,
     "schema_version": 3,
     "solution": false,
     "task": false
    },
    "run_control": {
     "frozen": true
    }
   },
   "outputs": [],
   "source": [
    "@jagl.testcase(\"3\", desc=\"Executing program\", deps=[\"2\"])\n",
    "def testcase_1_3(result, suite, case):\n",
    "    execresult = jagl.exec_bin(\"./\" + executable_name, [], \"Hallo Welt!\\n\", timeout = 30)\n",
    "    jagl.check_execution_result(result, execresult, checkExitCode = False)\n",
    "    if execresult.exitCode is not None:\n",
    "        if execresult.exitCode == -11:\n",
    "            result.setFailed(\"Program caused a segmentation fault.\")\n",
    "        elif execresult.exitCode < 0:\n",
    "            result.setFailed(f\"Program was abnormally terminated (Signal: {-execresult.exitCode})\")\n",
    "        elif execresult.exitCode > 0:\n",
    "            result.setFailed(f\"Program returned an exit code other than 0 (Exit Code: {execresult.exitCode})\")"
   ]
  },
  {
   "cell_type": "code",
   "execution_count": null,
   "metadata": {
    "deletable": false,
    "editable": false,
    "hide_input": true,
    "nbgrader": {
     "cell_type": "code",
     "checksum": "fadffa3f09a5f1c9a37cd130b709350f",
     "grade": true,
     "grade_id": "cell-6450a62f4085c9e0",
     "locked": true,
     "points": 0,
     "schema_version": 3,
     "solution": false,
     "task": false
    },
    "run_control": {
     "frozen": true
    }
   },
   "outputs": [],
   "source": [
    "@jagl.testcase(\"5\", desc=\"Check output\", deps=[\"3\"])\n",
    "def testcase_1_4(result, suite, case):\n",
    "    truth=\"HALLO WELT!\"\n",
    "    execresult = suite.getLastExecutionResult()\n",
    "    out = jagl.bytes_decode(execresult.stdout).strip()\n",
    "    if out.endswith(truth):\n",
    "        result.setSucceeded(\"Program produced the correct output.\")\n",
    "    else:\n",
    "        result.setFailed(\"Program did not produce the correct output.\")\n",
    "        result.setFailed(f\"Expected: '{truth}'\")\n",
    "        result.setFailed(f\"Output: '{out}'\")"
   ]
  },
  {
   "cell_type": "code",
   "execution_count": null,
   "metadata": {
    "deletable": false,
    "editable": false,
    "hide_input": true,
    "nbgrader": {
     "cell_type": "code",
     "checksum": "a7b5e40abeba25ffa4fddfcefc2db6fc",
     "grade": true,
     "grade_id": "cell-d1d3d4d0f4ce2744",
     "locked": true,
     "points": 0,
     "schema_version": 3,
     "solution": false,
     "task": false
    },
    "run_control": {
     "frozen": true
    }
   },
   "outputs": [],
   "source": []
  },
  {
   "cell_type": "code",
   "execution_count": null,
   "metadata": {
    "deletable": false,
    "editable": false,
    "hide_input": true,
    "nbgrader": {
     "cell_type": "code",
     "checksum": "abb113329497733a8c74e787fbdbdefc",
     "grade": true,
     "grade_id": "cell-759c258c6edbf400",
     "locked": true,
     "points": 0,
     "schema_version": 3,
     "solution": false,
     "task": false
    },
    "run_control": {
     "frozen": true
    }
   },
   "outputs": [],
   "source": []
  },
  {
   "cell_type": "code",
   "execution_count": null,
   "metadata": {
    "deletable": false,
    "editable": false,
    "hide_input": true,
    "nbgrader": {
     "cell_type": "code",
     "checksum": "5511e7b8aa7b8b3f377a19dfeaaa93ab",
     "grade": true,
     "grade_id": "cell-843361e490186340",
     "locked": true,
     "points": 0,
     "schema_version": 3,
     "solution": false,
     "task": false
    },
    "run_control": {
     "frozen": true
    }
   },
   "outputs": [],
   "source": []
  },
  {
   "cell_type": "code",
   "execution_count": null,
   "metadata": {
    "deletable": false,
    "editable": false,
    "hide_input": true,
    "nbgrader": {
     "cell_type": "code",
     "checksum": "d789cef7313151e3fa873ac565f6974a",
     "grade": true,
     "grade_id": "cell-b0cada6dee27296e",
     "locked": true,
     "points": 0,
     "schema_version": 3,
     "solution": false,
     "task": false
    },
    "run_control": {
     "frozen": true
    }
   },
   "outputs": [],
   "source": []
  },
  {
   "cell_type": "code",
   "execution_count": null,
   "metadata": {
    "deletable": false,
    "editable": false,
    "hide_input": true,
    "nbgrader": {
     "cell_type": "code",
     "checksum": "3847c5a804ce0a0d4077e90848be0532",
     "grade": true,
     "grade_id": "cell-0215f1a41a02a6cb",
     "locked": true,
     "points": 0,
     "schema_version": 3,
     "solution": false,
     "task": false
    },
    "run_control": {
     "frozen": true
    }
   },
   "outputs": [],
   "source": [
    "# new test suite\n",
    "jagl.testsuite_begin(\"Exercise 2\")\n",
    "\n",
    "# delete all build artifacts\n",
    "jagl.remove_paths(files=[\"average\", \"*.o\"])"
   ]
  },
  {
   "cell_type": "markdown",
   "metadata": {
    "deletable": false,
    "editable": false,
    "hide_input": true,
    "nbgrader": {
     "cell_type": "markdown",
     "checksum": "68e5c1fcb826c0985fdddaa70291dabd",
     "grade": false,
     "grade_id": "cell-4fc357b563005479",
     "locked": true,
     "schema_version": 3,
     "solution": false
    },
    "run_control": {
     "frozen": true
    }
   },
   "source": [
    "---\n",
    "## 3.2 Mittelwert und Varianz (21%)\n",
    "\n",
    "Implementieren Sie ein Programm, welches Mittelwert und die Varianz der Elemente eines Integer-Arrays ausgibt. Der Benutzer soll zuerst mittels `scanf` eingeben wie viele Elemente das Array enthalten soll. Anschließend soll ebenfalls mit `scanf` jedes einzelne Array-Element eingelesen werden. Sobald alle Elemente eingelesen wurden, soll das Array an eine Funktion übergeben werden, welche den Mittelwert und die Varianz aller Elemente berechnet. Der Mittelwert und die Varianz sollen dabei von dieser Funktion mittels Call-by-Reference in Form von sog. `Out-Arguments` zurückgegeben werden. Im Hauptprogramm soll dann der Mittelwert und die Varianz ausgegeben werden (mit jeweils genau einer Nachkommastelle).\n",
    "\n",
    "Ein `Out-Argument` ist ein Funktionsargument, dass anders als \"normale\" Funktionsargumente (die auch `In-Argumente` genannt werden) dazu dient, einen Wert von einer Funktion zurück zu bekommen. Ein einzelner Wert wird normalerweise in Form eines Rückgabewerts zurückgegeben. Aber bei mehreren Werten (in unseren Fall zwei: Den Mittelwert und die Varianz) geht das über den Rückgabewert nicht so einfach. Eine Möglichkeit ist die Verwendung von Out-Argumenten. Out-Argumente werden einer Funktion mittels Call-by-Reference übergeben und die Werte, die zurückgegeben werden sollen, werden diesen Argumenten zugewiesen. Hier ein Beispiel für eine Funktion mit einem Out-Argument:\n",
    "\n",
    "```\n",
    "// The function argument arg is an out-argument that is passed as a pointer (call-by-reference)\n",
    "void foo(int* arg) {\n",
    "   *arg = 42; // Store 42 into arg\n",
    "}\n",
    "\n",
    "int var1 = 0;\n",
    "\n",
    "// We pass var1 to function foo()\n",
    "// Since we use call-by-reference we actually need to pass a pointer to var1\n",
    "foo(&var1);\n",
    "\n",
    "printf(\"var1 = %d\\n\", var1); // Output is \"var1 = 42\"\n",
    "```\n",
    "\n",
    "Die Varianz $\\sigma^2$ berechnet sich über die Formel $\\sigma^2=\\frac{\\sum_{i=0}^{n}{(x_i-\\tilde{x})^2}}{n}$. Dabei ist $n$ die Anzahl der Elemente, $\\tilde{x}$ der Mittelwert und $x_i$ das Array-Element mit dem Index $i$.  \n",
    "\n",
    "Hier eine Beispielausgabe:\n",
    "\n",
    "`> Geben Sie die Anzahl der Elemente Ihres Arrays an:`<br/>\n",
    "3<br/>\n",
    "`> Element #1:`<br/>\n",
    "4<br/>\n",
    "`> Element #2:`<br/>\n",
    "2<br/>\n",
    "`> Element #3:`<br/>\n",
    "0<br/>\n",
    "`> Der Mittelwert Ihres Arrays ist: 2.0`\n",
    "`> Der Varianz Ihres Arrays ist: 4.0`\n",
    "\n",
    "\n",
    "Wichtig für die Auswertung ist, dass zuerst die Arraygröße n eingelesen wird und dann genau n Elemente des Arrays. Halten Sie sich bitte exakt an diese Vorgehensweise!"
   ]
  },
  {
   "cell_type": "code",
   "execution_count": 3,
   "metadata": {
    "hide_input": false,
    "nbgrader": {
     "cell_type": "code",
     "checksum": "d06ca825e30d78d9343e5fb34daa9862",
     "grade": false,
     "grade_id": "cell-702150b1f22b46e1",
     "locked": false,
     "schema_version": 3,
     "solution": true
    }
   },
   "outputs": [],
   "source": [
    "%%bash\n",
    "\n",
    "# Schreiben Sie in diese Zelle den Befehl der dafür nötig ist um Ihr Programm zu kompilieren.\n",
    "# Beachten Sie dabei, dass der Name ihrer Quellcode-Datei \"average.c\" sein sollte.\n",
    "# Beachten Sie dabei, dass der Name Ihres ausführbaren Programms \"average\" sein sollte.\n",
    "\n",
    "gcc -Wall -Werror -o average average.c"
   ]
  },
  {
   "cell_type": "code",
   "execution_count": null,
   "metadata": {
    "hide_input": false,
    "nbgrader": {
     "cell_type": "code",
     "checksum": "5310283527e319fa18917b957c95c871",
     "grade": false,
     "grade_id": "cell-4a32b4dbfcab2133",
     "locked": false,
     "schema_version": 3,
     "solution": true,
     "task": false
    }
   },
   "outputs": [],
   "source": [
    "# Weisen Sie der untenstehenden Variable den Wert True zu, sobald Sie die Aufgabe erfolgreich erledigt haben!\n",
    "\n",
    "# Datentyp: bool\n",
    "exercise_3_2_solved = True"
   ]
  },
  {
   "cell_type": "code",
   "execution_count": null,
   "metadata": {
    "deletable": false,
    "editable": false,
    "hide_input": true,
    "nbgrader": {
     "cell_type": "code",
     "checksum": "19262296f1c7abe3d7a7063ef5a2105d",
     "grade": true,
     "grade_id": "cell-c4701859c97b0ef2",
     "locked": true,
     "points": 0,
     "schema_version": 3,
     "solution": false
    },
    "run_control": {
     "frozen": true
    }
   },
   "outputs": [],
   "source": [
    "executable_name = \"average\"\n",
    "source_files = [\"average.c\"]\n",
    "cpp_flags = []"
   ]
  },
  {
   "cell_type": "code",
   "execution_count": null,
   "metadata": {
    "deletable": false,
    "editable": false,
    "hide_input": true,
    "nbgrader": {
     "cell_type": "code",
     "checksum": "c6bb2a9f973fb61c3197fbfa931c0b5e",
     "grade": true,
     "grade_id": "cell-d34542693561d736",
     "locked": true,
     "points": 7,
     "schema_version": 3,
     "solution": false,
     "task": false
    },
    "run_control": {
     "frozen": true
    }
   },
   "outputs": [],
   "source": [
    "@jagl.testcase(\"1\", desc=\"Exercise Solved\")\n",
    "def testcase_2_1(result, suite, case):\n",
    "    varname = \"exercise_3_2_solved\"\n",
    "    result.setSucceeded()\n",
    "    jagl.check_variable_exists_and_has_type(result, globals(), varname, bool)\n",
    "    if result.isSucceeded():\n",
    "        if eval(varname):\n",
    "            result.setSucceeded(\"Exercise solved.\")\n",
    "        else:\n",
    "            result.setFailed(\"Exercise not solved.\")"
   ]
  },
  {
   "cell_type": "code",
   "execution_count": null,
   "metadata": {
    "deletable": false,
    "editable": false,
    "hide_input": true,
    "nbgrader": {
     "cell_type": "code",
     "checksum": "b5b0ddf8412068719f4ece1bc1ad81ed",
     "grade": true,
     "grade_id": "cell-8a010cef5e4f6ac5",
     "locked": true,
     "points": 7,
     "schema_version": 3,
     "solution": false,
     "task": false
    },
    "run_control": {
     "frozen": true
    }
   },
   "outputs": [],
   "source": [
    "@jagl.testcase(\"2\", desc=\"Compiling program\", deps=[\"1\"])\n",
    "def testcase_2_2(result, suite, case):\n",
    "    if os.path.isfile(executable_name):\n",
    "        result.setSucceeded(\"The program could be compiled successfully.\")\n",
    "        \n",
    "    else:\n",
    "        res = jagl.exec_bin(\"gcc\", [\"-o\", executable_name] + source_files + cpp_flags)\n",
    "        if res.state == jagl.ExecutionResult.SUCCESS:\n",
    "            stdout = jagl.bytes_decode(res.stdout).strip()\n",
    "            stderr = jagl.bytes_decode(res.stderr).strip()\n",
    "            if res.exitCode == 0:\n",
    "                if os.path.isfile(executable_name):\n",
    "                    result.setSucceeded(\"The program could be compiled successfully.\")\n",
    "                else:\n",
    "                    result.setFailed(\"gcc was executed successfully, but I couldn't find an executable.\")\n",
    "                if len(stderr) > 0:\n",
    "                    result.setSucceeded([\"However, there were warnings.\"] + stderr.split(\"\\n\"))\n",
    "            else:\n",
    "                result.setFailed([\"The program could not be compiled:\"] + stderr.split(\"\\n\"))\n",
    "        elif res.state == jagl.ExecutionResult.NOTFOUND:\n",
    "            result.setFailed(\"gcc could not be found. Please inform your course instructor.\")\n",
    "        elif res.state == jagl.ExecutionResult.TIMEOUT:\n",
    "            result.setFailed(\"Timeout while calling gcc. Please inform your course instructor.\")\n",
    "        elif res.state == jagl.ExecutionResult.ERROR:\n",
    "            result.setFailed(f'Unknown error during execution of gcc: {str(res.error)}. Please inform your course instructor.')"
   ]
  },
  {
   "cell_type": "code",
   "execution_count": null,
   "metadata": {
    "deletable": false,
    "editable": false,
    "hide_input": true,
    "nbgrader": {
     "cell_type": "code",
     "checksum": "6c89a051c077f7533d74d0cf43d44f03",
     "grade": true,
     "grade_id": "cell-a885caac8966321e",
     "locked": true,
     "points": 7,
     "schema_version": 3,
     "solution": false,
     "task": false
    },
    "run_control": {
     "frozen": true
    }
   },
   "outputs": [],
   "source": [
    "@jagl.testcase(\"3\", desc=\"Executing program\", deps=[\"2\"])\n",
    "def testcase_1_3(result, suite, case):\n",
    "    execresult = jagl.exec_bin(\"./\" + executable_name, [], \"3\\n4\\n2\\n0\\n\", timeout = 30)\n",
    "    jagl.check_execution_result(result, execresult, checkExitCode = False)\n",
    "    out = jagl.bytes_decode(execresult.stdout).strip()\n",
    "    result.setSucceeded(f\"Output:  {out}\")\n",
    "    if execresult.exitCode is not None:\n",
    "        if execresult.exitCode == -11:\n",
    "            result.setFailed(\"Program caused a segmentation fault.\")\n",
    "        elif execresult.exitCode < 0:\n",
    "            result.setFailed(f\"Program was abnormally terminated (Signal: {-execresult.exitCode})\")\n",
    "        elif execresult.exitCode > 0:\n",
    "            result.setFailed(f\"Program returned an exit code other than 0 (Exit Code: {execresult.exitCode})\")"
   ]
  },
  {
   "cell_type": "code",
   "execution_count": null,
   "metadata": {
    "deletable": false,
    "editable": false,
    "hide_input": true,
    "nbgrader": {
     "cell_type": "code",
     "checksum": "a47671d5dbda0235035d97f289af54da",
     "grade": true,
     "grade_id": "cell-2cd7a8e6f777cc4e",
     "locked": true,
     "points": 0,
     "schema_version": 3,
     "solution": false
    },
    "run_control": {
     "frozen": true
    }
   },
   "outputs": [],
   "source": []
  },
  {
   "cell_type": "code",
   "execution_count": null,
   "metadata": {
    "deletable": false,
    "editable": false,
    "hide_input": true,
    "nbgrader": {
     "cell_type": "code",
     "checksum": "bb44c38f16ca43b447cbf5b532996e9d",
     "grade": true,
     "grade_id": "cell-b2b6a26745f67c48",
     "locked": true,
     "points": 0,
     "schema_version": 3,
     "solution": false,
     "task": false
    },
    "run_control": {
     "frozen": true
    }
   },
   "outputs": [],
   "source": []
  },
  {
   "cell_type": "code",
   "execution_count": null,
   "metadata": {
    "deletable": false,
    "editable": false,
    "hide_input": true,
    "nbgrader": {
     "cell_type": "code",
     "checksum": "65211609a27e7d87e5c586128743c6f1",
     "grade": true,
     "grade_id": "cell-056f93e33cb6dd5e",
     "locked": true,
     "points": 0,
     "schema_version": 3,
     "solution": false,
     "task": false
    },
    "run_control": {
     "frozen": true
    }
   },
   "outputs": [],
   "source": []
  },
  {
   "cell_type": "code",
   "execution_count": null,
   "metadata": {
    "deletable": false,
    "editable": false,
    "hide_input": true,
    "nbgrader": {
     "cell_type": "code",
     "checksum": "495339592d6c638f32ac7dcd633503bd",
     "grade": true,
     "grade_id": "cell-8bf8def4083d6df7",
     "locked": true,
     "points": 0,
     "schema_version": 3,
     "solution": false,
     "task": false
    },
    "run_control": {
     "frozen": true
    }
   },
   "outputs": [],
   "source": []
  },
  {
   "cell_type": "code",
   "execution_count": null,
   "metadata": {
    "deletable": false,
    "editable": false,
    "hide_input": true,
    "nbgrader": {
     "cell_type": "code",
     "checksum": "438b0610ff3269a1fd4b14c8a9c12a01",
     "grade": true,
     "grade_id": "cell-03ca7376b6c5f102",
     "locked": true,
     "points": 0,
     "schema_version": 3,
     "solution": false
    },
    "run_control": {
     "frozen": true
    }
   },
   "outputs": [],
   "source": [
    "# new test suite\n",
    "jagl.testsuite_begin(\"Exercise 3\")\n",
    "\n",
    "# delete all build artifacts\n",
    "jagl.remove_paths(files=[\"string_test\", \"*.o\"])\n"
   ]
  },
  {
   "cell_type": "markdown",
   "metadata": {
    "deletable": false,
    "editable": false,
    "hide_input": true,
    "nbgrader": {
     "cell_type": "markdown",
     "checksum": "20ca1510a0c4bbd754d30afad3c89c84",
     "grade": false,
     "grade_id": "cell-a110235260823cc9",
     "locked": true,
     "schema_version": 3,
     "solution": false
    },
    "run_control": {
     "frozen": true
    }
   },
   "source": [
    "---\n",
    "## 3.3 String-Funktionen (37%)\n",
    "\n",
    "Im Ordner dieses Übungsblattes finden Sie die Datei `my_string.h` welche einige Funktionsdeklarationen enthält. Ihre Aufgabe ist es nun diese Funktionen anhand der folgenden Beschreibungen zu implementieren. Diese Implementierung soll in der Datei `my_string.c` erfolgen. Die Funktionen sollen anschließend durch Einbindung der Header-Datei `my_string.h` in jedem beliebigen C-Programm verwendbar sein (selbe Vorgehensweise wie bei Übungsaufgabe 2.2). Sie können (und sollten) dies selbstverständlich testen, für die Abgabe ist jedoch nur die Datei `my_string.c` relevant. Damit Sie den Code von `my_string.c` in einem anderen Programm einbinden können, darf darin **keine main()-Funktion** enthalten sein. Achten Sie darauf, dass Ihre Abgabe kompilierbar und ausführbar ist, nur so können dafür Punkte vergeben werden. Änderungen an der Datei `my_string.h` sind nicht gestattet. Die Datei `string_test.c`, die Sie auch im Ordner des Übungszettel finden, wird von den Validier-Funktion benötigt, um Ihre Abgabe zu testen.<br/>\n",
    "\n",
    "Folgende Funktionen sollen implementiert werden:<br/>\n",
    "```c\n",
    "int string_cmp(const char* str1, const char* str2)\n",
    "```\n",
    "Diese Funktion soll die Zeichenketten *str1* und *str2* vergleichen. Sind die beiden Zeichenketten gleich, dann soll 1 zurückgegeben werden, ansonsten 0.<br/><br/>\n",
    "```c\n",
    "unsigned int string_len(const char* str)\n",
    "```\n",
    "Diese Funktion soll die Länge (=Anzahl von Zeichen) einer Zeichenkette *str* als Integer zurückgeben. Das Nullterminierungszeichen soll dabei nicht mitgezählt werden.<br/><br/>\n",
    "```c\n",
    "void string_rev(char* str)\n",
    "```\n",
    "Diese Funktion soll eine Zeichenkette *str* umkehren. Beachten Sie, dass hier *Call-by-Reference* verwendet wird und der umgedrehte String über das Funktionsargument `str` zurück gegeben werden soll (in so einem Fall redet man auch von einem, `In-Out Argument`).<br/><br/>\n",
    "```c\n",
    "char *string_chr(const char* str, const char c)\n",
    "```\n",
    "Diese Funktion soll eine Zeichenkette *str* nach einem Zeichen <i>c</i> durchsuchen. Wird das gesuchte Zeichen gefunden, so soll ein Pointer darauf zurückgegeben werden. Nur das erste Auftreten von <i>c</i> in *str* soll dabei beachtet werden. Enthält *str* das Zeichen <i>c</i> nicht, dann soll `NULL` zurückgegeben werden."
   ]
  },
  {
   "cell_type": "code",
   "execution_count": 4,
   "metadata": {
    "nbgrader": {
     "cell_type": "code",
     "checksum": "eb7291157c7759abda2a218c390cbdd3",
     "grade": false,
     "grade_id": "cell-7a5b2547e47f57c9",
     "locked": false,
     "schema_version": 3,
     "solution": true,
     "task": false
    }
   },
   "outputs": [],
   "source": [
    "# Weisen Sie der untenstehenden Variable den Wert True zu, sobald Sie die Aufgabe erfolgreich erledigt haben!\n",
    "\n",
    "# Datentyp: bool\n",
    "exercise_3_3_solved = True"
   ]
  },
  {
   "cell_type": "code",
   "execution_count": null,
   "metadata": {
    "deletable": false,
    "editable": false,
    "hide_input": true,
    "nbgrader": {
     "cell_type": "code",
     "checksum": "38c0388da9a86e5134e1c69ff8bd0795",
     "grade": true,
     "grade_id": "cell-148484a33717c1d3",
     "locked": true,
     "points": 0,
     "schema_version": 3,
     "solution": false
    },
    "run_control": {
     "frozen": true
    }
   },
   "outputs": [],
   "source": [
    "executable_name = \"string_test\"\n",
    "source_files = [\"string_test.c\", \"my_string.c\"]\n",
    "cpp_flags = []"
   ]
  },
  {
   "cell_type": "code",
   "execution_count": null,
   "metadata": {
    "deletable": false,
    "editable": false,
    "hide_input": true,
    "nbgrader": {
     "cell_type": "code",
     "checksum": "d47ca84c3e6b56507423112b55b340c8",
     "grade": true,
     "grade_id": "cell-4e8a8df7230bef6f",
     "locked": true,
     "points": 12,
     "schema_version": 3,
     "solution": false
    },
    "run_control": {
     "frozen": true
    }
   },
   "outputs": [],
   "source": [
    "@jagl.testcase(\"1\", desc=\"Exercise Solved\")\n",
    "def testcase_3_1(result, suite, case):\n",
    "    varname = \"exercise_3_3_solved\"\n",
    "    result.setSucceeded()\n",
    "    jagl.check_variable_exists_and_has_type(result, globals(), varname, bool)\n",
    "    if result.isSucceeded():\n",
    "        if eval(varname):\n",
    "            result.setSucceeded(\"Exercise solved.\")\n",
    "        else:\n",
    "            result.setFailed(\"Exercise not solved.\")"
   ]
  },
  {
   "cell_type": "code",
   "execution_count": null,
   "metadata": {
    "deletable": false,
    "editable": false,
    "hide_input": true,
    "nbgrader": {
     "cell_type": "code",
     "checksum": "d23ac8550312299d6547f4ada7bdb075",
     "grade": true,
     "grade_id": "cell-6b30a9f58472f974",
     "locked": true,
     "points": 13,
     "schema_version": 3,
     "solution": false
    },
    "run_control": {
     "frozen": true
    }
   },
   "outputs": [],
   "source": [
    "@jagl.testcase(\"2\", desc=\"Compiling program\", deps=[\"1\"])\n",
    "def testcase_3_2(result, suite, case):\n",
    "    if os.path.isfile(executable_name):\n",
    "        result.setSucceeded(\"The program could be compiled successfully.\")\n",
    "        \n",
    "    else:\n",
    "        res = jagl.exec_bin(\"gcc\", [\"-o\", executable_name] + source_files + cpp_flags)\n",
    "        if res.state == jagl.ExecutionResult.SUCCESS:\n",
    "            stdout = jagl.bytes_decode(res.stdout).strip()\n",
    "            stderr = jagl.bytes_decode(res.stderr).strip()\n",
    "            if res.exitCode == 0:\n",
    "                if os.path.isfile(executable_name):\n",
    "                    result.setSucceeded(\"The program could be compiled successfully.\")\n",
    "                else:\n",
    "                    result.setFailed(\"gcc was executed successfully, but I couldn't find an executable.\")\n",
    "                if len(stderr) > 0:\n",
    "                    result.setSucceeded([\"However, there were warnings.\"] + stderr.split(\"\\n\"))\n",
    "            else:\n",
    "                result.setFailed([\"The program could not be compiled:\"] + stderr.split(\"\\n\"))\n",
    "        elif res.state == jagl.ExecutionResult.NOTFOUND:\n",
    "            result.setFailed(\"gcc could not be found. Please inform your course instructor.\")\n",
    "        elif res.state == jagl.ExecutionResult.TIMEOUT:\n",
    "            result.setFailed(\"Timeout while calling gcc. Please inform your course instructor.\")\n",
    "        elif res.state == jagl.ExecutionResult.ERROR:\n",
    "            result.setFailed(f'Unknown error during execution of gcc: {str(res.error)}. Please inform your course instructor.')"
   ]
  },
  {
   "cell_type": "code",
   "execution_count": null,
   "metadata": {
    "deletable": false,
    "editable": false,
    "hide_input": true,
    "nbgrader": {
     "cell_type": "code",
     "checksum": "1a889fcca18dadce34c8aabf16d496fa",
     "grade": true,
     "grade_id": "cell-dc2ce2088e7f746f",
     "locked": true,
     "points": 12,
     "schema_version": 3,
     "solution": false
    },
    "run_control": {
     "frozen": true
    }
   },
   "outputs": [],
   "source": [
    "@jagl.testcase(\"4\", desc=\"Executing program\", deps=[\"2\"])\n",
    "def testcase_3_4(result, suite, case):\n",
    "    execresult = jagl.exec_bin(\"./\" + executable_name, [], None, timeout = 30)\n",
    "    jagl.check_execution_result(result, execresult, checkExitCode = False)\n",
    "    if execresult.exitCode is not None:\n",
    "        if execresult.exitCode == -11:\n",
    "            result.setFailed(\"Program caused a segmentation fault.\")\n",
    "        elif execresult.exitCode < 0:\n",
    "            result.setFailed(\"Program was abnormally terminated (Signal: {})\".format(-execresult.exitCode))"
   ]
  },
  {
   "cell_type": "code",
   "execution_count": null,
   "metadata": {
    "deletable": false,
    "editable": false,
    "hide_input": true,
    "nbgrader": {
     "cell_type": "code",
     "checksum": "165c3b257338904fbbbc28b79e1760a1",
     "grade": true,
     "grade_id": "cell-416bc4ed126a3ac1",
     "locked": true,
     "points": 0,
     "schema_version": 3,
     "solution": false
    },
    "run_control": {
     "frozen": true
    }
   },
   "outputs": [],
   "source": []
  },
  {
   "cell_type": "code",
   "execution_count": null,
   "metadata": {
    "deletable": false,
    "editable": false,
    "hide_input": true,
    "nbgrader": {
     "cell_type": "code",
     "checksum": "215a08f8c575a3e8dc5279cd342c4225",
     "grade": true,
     "grade_id": "cell-26c93d64e1b0078b",
     "locked": true,
     "points": 0,
     "schema_version": 3,
     "solution": false,
     "task": false
    },
    "run_control": {
     "frozen": true
    }
   },
   "outputs": [],
   "source": []
  },
  {
   "cell_type": "code",
   "execution_count": null,
   "metadata": {
    "deletable": false,
    "editable": false,
    "hide_input": true,
    "nbgrader": {
     "cell_type": "code",
     "checksum": "35cbb1925ae653a8e9eddb7c826bb150",
     "grade": true,
     "grade_id": "cell-b97ee909121152c3",
     "locked": true,
     "points": 0,
     "schema_version": 3,
     "solution": false,
     "task": false
    },
    "run_control": {
     "frozen": true
    }
   },
   "outputs": [],
   "source": []
  },
  {
   "cell_type": "code",
   "execution_count": null,
   "metadata": {
    "deletable": false,
    "editable": false,
    "hide_input": true,
    "nbgrader": {
     "cell_type": "code",
     "checksum": "3d0595ca843e6112f7fa397290ac9ef5",
     "grade": true,
     "grade_id": "cell-a28ae463d433fa13",
     "locked": true,
     "points": 0,
     "schema_version": 3,
     "solution": false
    },
    "run_control": {
     "frozen": true
    }
   },
   "outputs": [],
   "source": [
    "# new test suite\n",
    "jagl.testsuite_begin(\"Exercise 4\")\n",
    "\n",
    "# delete all build artifacts\n",
    "jagl.remove_paths(files=[\"frequency\", \"*.o\"])"
   ]
  },
  {
   "cell_type": "markdown",
   "metadata": {
    "deletable": false,
    "editable": false,
    "nbgrader": {
     "cell_type": "markdown",
     "checksum": "3484a1ad6e1871760028553d23e1f12e",
     "grade": false,
     "grade_id": "cell-c11accbd02d4352c",
     "locked": true,
     "schema_version": 3,
     "solution": false
    },
    "run_control": {
     "frozen": true
    }
   },
   "source": [
    "---\n",
    "## 3.4  Häufigkeitsberechnung mit Pointerarithmetik (21%)\n",
    "\n",
    "Implementieren Sie ein Programm, welches eine Zeichenfolge als Kommandozeilenparameter einliest und anschließend für diese Zeichenfolge die Häufigkeit der einzelnen Zeichen in sortierter Form ausgibt (in Reihenfolge ihres Vorkommens in der ASCII-Tabelle). **Wichtig:** Verwenden Sie dafür Pointerarithmetik! Hier eine beispielhafte Ausgabe für den Kommandozeilenparameter `Hello World!`:<br/><br/>\n",
    "`> Zeichen: ' ' - Häufigkeit: 1`<br/>\n",
    "`> Zeichen: '!' - Häufigkeit: 1`<br/>\n",
    "`> Zeichen: 'H' - Häufigkeit: 1`<br/>\n",
    "`> Zeichen: 'W' - Häufigkeit: 1`<br/>\n",
    "`> Zeichen: 'd' - Häufigkeit: 1`<br/>\n",
    "`> Zeichen: 'e' - Häufigkeit: 1`<br/>\n",
    "`> Zeichen: 'l' - Häufigkeit: 3`<br/>\n",
    "`> Zeichen: 'o' - Häufigkeit: 2`<br/>\n",
    "`> Zeichen: 'r' - Häufigkeit: 1`<br/>\n",
    "\n",
    "Verwenden Sie bei Ihrer Ausgabe obiges Format, d.h. Zeilenumbruch nach jedem Eintrag. Nur Zeichen welche in der Zeichenkette mindestens einmal vorkommen, sollen berücksichtigt werden.\n",
    "\n",
    "Überprüfen Sie außerdem, ob der Benutzer genügend Kommandozeilenparameter angegeben hat, und wenn nicht, geben Sie eine entsprechende Fehlermeldung aus und beenden das Programm mit einem Exit-Code ungleich 0."
   ]
  },
  {
   "cell_type": "code",
   "execution_count": null,
   "metadata": {
    "nbgrader": {
     "cell_type": "code",
     "checksum": "b9aa014a425fe6b44e604f5d90a41bc8",
     "grade": false,
     "grade_id": "cell-4071c89005424c72",
     "locked": false,
     "schema_version": 3,
     "solution": true
    }
   },
   "outputs": [],
   "source": [
    "%%bash\n",
    "\n",
    "# Schreiben Sie in diese Zelle den Befehl der dafür nötig ist um Ihr Programm zu kompilieren.\n",
    "# Beachten Sie dabei, dass der Name ihrer Quellcode-Datei \"frequency.c\" sein sollte.\n",
    "# Beachten Sie dabei, dass der Name Ihres ausführbaren Programms \"frequency\" sein sollte.\n",
    "\n",
    "gcc -Wall -Werror -o frequency frequency.c"
   ]
  },
  {
   "cell_type": "code",
   "execution_count": null,
   "metadata": {
    "nbgrader": {
     "cell_type": "code",
     "checksum": "52c072061dc2e5087a34f64f066deca8",
     "grade": false,
     "grade_id": "cell-b900ca15aba48a90",
     "locked": false,
     "schema_version": 3,
     "solution": true,
     "task": false
    }
   },
   "outputs": [],
   "source": [
    "# Weisen Sie der untenstehenden Variable den Wert True zu, sobald Sie die Aufgabe erfolgreich erledigt haben!\n",
    "\n",
    "# Datentyp: bool\n",
    "exercise_3_4_solved = True"
   ]
  },
  {
   "cell_type": "code",
   "execution_count": null,
   "metadata": {
    "deletable": false,
    "editable": false,
    "hide_input": true,
    "nbgrader": {
     "cell_type": "code",
     "checksum": "f5e43c102592062c64805bce9d0a5fdb",
     "grade": true,
     "grade_id": "cell-8f1b58f2c3b2b607",
     "locked": true,
     "points": 0,
     "schema_version": 3,
     "solution": false
    },
    "run_control": {
     "frozen": true
    }
   },
   "outputs": [],
   "source": [
    "executable_name = \"frequency\"\n",
    "source_files = [\"frequency.c\"]\n",
    "cpp_flags = []"
   ]
  },
  {
   "cell_type": "code",
   "execution_count": null,
   "metadata": {
    "deletable": false,
    "editable": false,
    "hide_input": true,
    "nbgrader": {
     "cell_type": "code",
     "checksum": "411ec9dee09b007267baa37800dac813",
     "grade": true,
     "grade_id": "cell-e4b681d5554f6793",
     "locked": true,
     "points": 7,
     "schema_version": 3,
     "solution": false
    },
    "run_control": {
     "frozen": true
    }
   },
   "outputs": [],
   "source": [
    "@jagl.testcase(\"1\", desc=\"Exercise Solved\")\n",
    "def testcase_4_1(result, suite, case):\n",
    "    varname = \"exercise_3_4_solved\"\n",
    "    result.setSucceeded()\n",
    "    jagl.check_variable_exists_and_has_type(result, globals(), varname, bool)\n",
    "    if result.isSucceeded():\n",
    "        if eval(varname):\n",
    "            result.setSucceeded(\"Exercise solved.\")\n",
    "        else:\n",
    "            result.setFailed(\"Exercise not solved.\")"
   ]
  },
  {
   "cell_type": "code",
   "execution_count": null,
   "metadata": {
    "deletable": false,
    "editable": false,
    "hide_input": true,
    "nbgrader": {
     "cell_type": "code",
     "checksum": "b7516e8f11d4f4c68d3d00fb1d987890",
     "grade": true,
     "grade_id": "cell-d0279961ce4bd3f3",
     "locked": true,
     "points": 7,
     "schema_version": 3,
     "solution": false
    },
    "run_control": {
     "frozen": true
    }
   },
   "outputs": [],
   "source": [
    "@jagl.testcase(\"2\", desc=\"Compiling program\", deps=[\"1\"])\n",
    "def testcase_4_2(result, suite, case):\n",
    "    if os.path.isfile(executable_name):\n",
    "        result.setSucceeded(\"The program could be compiled successfully.\")\n",
    "        \n",
    "    else:\n",
    "        res = jagl.exec_bin(\"gcc\", [\"-o\", executable_name] + source_files + cpp_flags)\n",
    "        if res.state == jagl.ExecutionResult.SUCCESS:\n",
    "            stdout = jagl.bytes_decode(res.stdout).strip()\n",
    "            stderr = jagl.bytes_decode(res.stderr).strip()\n",
    "            if res.exitCode == 0:\n",
    "                if os.path.isfile(executable_name):\n",
    "                    result.setSucceeded(\"The program could be compiled successfully.\")\n",
    "                else:\n",
    "                    result.setFailed(\"gcc was executed successfully, but I couldn't find an executable.\")\n",
    "                if len(stderr) > 0:\n",
    "                    result.setSucceeded([\"However, there were warnings.\"] + stderr.split(\"\\n\"))\n",
    "            else:\n",
    "                result.setFailed([\"The program could not be compiled:\"] + stderr.split(\"\\n\"))\n",
    "        elif res.state == jagl.ExecutionResult.NOTFOUND:\n",
    "            result.setFailed(\"gcc could not be found. Please inform your course instructor.\")\n",
    "        elif res.state == jagl.ExecutionResult.TIMEOUT:\n",
    "            result.setFailed(\"Timeout while calling gcc. Please inform your course instructor.\")\n",
    "        elif res.state == jagl.ExecutionResult.ERROR:\n",
    "            result.setFailed(f'Unknown error during execution of gcc: {str(res.error)}. Please inform your course instructor.')"
   ]
  },
  {
   "cell_type": "code",
   "execution_count": null,
   "metadata": {
    "deletable": false,
    "editable": false,
    "hide_input": true,
    "nbgrader": {
     "cell_type": "code",
     "checksum": "2cb9313277773e8370b630243919abfb",
     "grade": true,
     "grade_id": "cell-9a98f3f83b7b347f",
     "locked": true,
     "points": 7,
     "schema_version": 3,
     "solution": false
    },
    "run_control": {
     "frozen": true
    }
   },
   "outputs": [],
   "source": [
    "@jagl.testcase(\"3\", desc=\"Executing program\", deps=[\"2\"])\n",
    "def testcase_4_3(result, suite, case):\n",
    "    execresult = jagl.exec_bin(\"./\" + executable_name, [\"Hallo Welt!\"], None, timeout = 30)\n",
    "    jagl.check_execution_result(result, execresult, checkExitCode = False)\n",
    "    if execresult.exitCode is not None:\n",
    "        if execresult.exitCode == -11:\n",
    "            result.setFailed(\"Program caused a segmentation fault.\")\n",
    "        elif execresult.exitCode < 0:\n",
    "            result.setFailed(\"Program was abnormally terminated (Signal: {})\".format(-execresult.exitCode))\n",
    "        elif execresult.exitCode > 0:\n",
    "            result.setFailed(f\"Program returned an exit code other than 0 (Exit Code: {execresult.exitCode})\")"
   ]
  },
  {
   "cell_type": "code",
   "execution_count": null,
   "metadata": {
    "deletable": false,
    "editable": false,
    "hide_input": true,
    "nbgrader": {
     "cell_type": "code",
     "checksum": "5a078e983584762f9a1c7951d10fda70",
     "grade": true,
     "grade_id": "cell-3700b597e55b6b0f",
     "locked": true,
     "points": 0,
     "schema_version": 3,
     "solution": false
    },
    "run_control": {
     "frozen": true
    }
   },
   "outputs": [],
   "source": [
    "@jagl.testcase(\"4\", desc=\"Executing program without arguments\", deps=[\"2\"])\n",
    "def testcase_4_4(result, suite, case):\n",
    "    execresult = jagl.exec_bin(\"./\" + executable_name, [], None, timeout = 30)\n",
    "    jagl.check_execution_result(result, execresult, checkExitCode = False)\n",
    "    if execresult.exitCode is not None:\n",
    "        if execresult.exitCode == -11:\n",
    "            result.setFailed(\"Program caused a segmentation fault.\")\n",
    "        elif execresult.exitCode < 0:\n",
    "            result.setFailed(f\"Program was abnormally terminated (Signal: {-execresult.exitCode})\")"
   ]
  },
  {
   "cell_type": "code",
   "execution_count": null,
   "metadata": {
    "deletable": false,
    "editable": false,
    "hide_input": true,
    "nbgrader": {
     "cell_type": "code",
     "checksum": "65e9bcca762f6dd5942b25c27f9a9f55",
     "grade": true,
     "grade_id": "cell-a7c4e01bcd98a064",
     "locked": true,
     "points": 0,
     "schema_version": 3,
     "solution": false,
     "task": false
    },
    "run_control": {
     "frozen": true
    }
   },
   "outputs": [],
   "source": []
  },
  {
   "cell_type": "code",
   "execution_count": null,
   "metadata": {
    "deletable": false,
    "editable": false,
    "hide_input": true,
    "nbgrader": {
     "cell_type": "code",
     "checksum": "1b9db511fda3817258edc986856bb37e",
     "grade": true,
     "grade_id": "cell-4d37fce54e565792",
     "locked": true,
     "points": 0,
     "schema_version": 3,
     "solution": false,
     "task": false
    },
    "run_control": {
     "frozen": true
    }
   },
   "outputs": [],
   "source": []
  }
 ],
 "metadata": {
  "kernelspec": {
   "display_name": "Python 3 (ipykernel)",
   "language": "python",
   "name": "python3"
  },
  "language_info": {
   "codemirror_mode": {
    "name": "ipython",
    "version": 3
   },
   "file_extension": ".py",
   "mimetype": "text/x-python",
   "name": "python",
   "nbconvert_exporter": "python",
   "pygments_lexer": "ipython3",
   "version": "3.9.6"
  }
 },
 "nbformat": 4,
 "nbformat_minor": 2
}
